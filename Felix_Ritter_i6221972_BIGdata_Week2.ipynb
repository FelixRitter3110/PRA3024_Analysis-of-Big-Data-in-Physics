{
  "nbformat": 4,
  "nbformat_minor": 0,
  "metadata": {
    "colab": {
      "name": "Felix.Ritter_i6221972_BIGdata_Week2",
      "provenance": [],
      "collapsed_sections": [],
      "toc_visible": true
    },
    "kernelspec": {
      "name": "python2",
      "display_name": "Python 2"
    },
    "accelerator": "GPU"
  },
  "cells": [
    {
      "cell_type": "markdown",
      "metadata": {
        "id": "BS6kDXyfsxbl"
      },
      "source": [
        "Week 2 BIG data in physics\r\n",
        "\r\n",
        "@author Felix Ritter (i6221972)"
      ]
    },
    {
      "cell_type": "markdown",
      "metadata": {
        "id": "1JafiSIrvEKW"
      },
      "source": [
        "Welcome to Week 4!\n",
        "\n",
        "We will be focussing in Particle Physics Analysis and detecting matter/antimatter assymetries in the production of certain types of particles. ![LHCb detector](https://www1b.physik.rwth-aachen.de/~schael/LHCb_files/LHCB%20PREVIEW-white-bg.jpg)\n",
        "\n",
        "The data we are using comes from LHCb - one of the experiments at LHC. It is a highly specialised detector aimed at detecting decays involving the B-quark. Unlike the other major experiments, LHCb detects particles very close to the source and looks almost exclusively in the forward direction - this gives the detector many advantages compared to other experiments at LHC.\n",
        "\n",
        "In order to get started, we need to access the [ROOT framework](https://root.cern.ch/) and download some datafiles into this machine.\n",
        "\n",
        "If you are using Google Colab then you need to ensure that you are using Python 2:\n",
        "\n",
        "Before we start - we have to use Python2 (not Python 3), so we should choose this as an option in \"Runtime\" -> \"Change Runtime Type\" at the top or create a new notebook in Python2 by appending \"&runtime=python2\" to the URL."
      ]
    },
    {
      "cell_type": "code",
      "metadata": {
        "id": "vFclIR72w0mU",
        "colab": {
          "base_uri": "https://localhost:8080/"
        },
        "outputId": "b65d6b1f-a643-40b9-bfee-d1b0f49bb77f"
      },
      "source": [
        "#Colab only\n",
        "#we are going to make a directory called APPS\n",
        "!mkdir -p APPS\n",
        "#Now we move to our directory called APPS and we download ROOT from the CERN server, this version is chosen because it runs on this machine - if you want to run this locally check the versions!\n",
        "!cd APPS && wget https://root.cern.ch/download/root_v6.13.08.Linux-ubuntu18-x86_64-gcc7.3.tar.gz \n",
        "#Now we extract our downloaded file:\n",
        "!cd APPS && tar -xf root_v6.13.08.Linux-ubuntu18-x86_64-gcc7.3.tar.gz\n"
      ],
      "execution_count": null,
      "outputs": [
        {
          "output_type": "stream",
          "text": [
            "--2021-03-01 20:38:23--  https://root.cern.ch/download/root_v6.13.08.Linux-ubuntu18-x86_64-gcc7.3.tar.gz\n",
            "Resolving root.cern.ch (root.cern.ch)... 137.138.18.236, 2001:1458:201:ee::100:6\n",
            "Connecting to root.cern.ch (root.cern.ch)|137.138.18.236|:443... connected.\n",
            "HTTP request sent, awaiting response... 200 OK\n",
            "Length: 137415272 (131M) [application/x-gzip]\n",
            "Saving to: ‘root_v6.13.08.Linux-ubuntu18-x86_64-gcc7.3.tar.gz’\n",
            "\n",
            "root_v6.13.08.Linux 100%[===================>] 131.05M  29.4MB/s    in 5.1s    \n",
            "\n",
            "2021-03-01 20:38:29 (25.5 MB/s) - ‘root_v6.13.08.Linux-ubuntu18-x86_64-gcc7.3.tar.gz’ saved [137415272/137415272]\n",
            "\n"
          ],
          "name": "stdout"
        }
      ]
    },
    {
      "cell_type": "code",
      "metadata": {
        "id": "COPyXIvbxqht",
        "colab": {
          "base_uri": "https://localhost:8080/"
        },
        "outputId": "02dae98b-6263-42b1-f571-af72a5bddcb9"
      },
      "source": [
        "#Colab only:\n",
        "#now we can extract some files from ROOT and ensure that we can access the libraries. We use some python key words to get access to the right files:\n",
        "\n",
        "import sys\n",
        "\n",
        "sys.path.append(\"/content/APPS/root/lib\")\n",
        "\n",
        "import ctypes\n",
        "\n",
        "\n",
        "ctypes.cdll.LoadLibrary('/content/APPS/root/lib/libCore.so')\n",
        "\n",
        "ctypes.cdll.LoadLibrary('/content/APPS/root/lib/libThread.so')\n",
        "\n",
        "ctypes.cdll.LoadLibrary('/content/APPS/root/lib/libImt.so')\n",
        "\n",
        "ctypes.cdll.LoadLibrary('/content/APPS/root/lib/libRIO.so')\n",
        "\n",
        "ctypes.cdll.LoadLibrary('/content/APPS/root/lib/libNet.so')\n",
        "\n",
        "ctypes.cdll.LoadLibrary('/content/APPS/root/lib/libTree.so')\n",
        "\n",
        "ctypes.cdll.LoadLibrary('/content/APPS/root/lib/libMathCore.so')\n",
        "\n",
        "ctypes.cdll.LoadLibrary('/content/APPS/root/lib/libMathMore.so')\n",
        "\n",
        "ctypes.cdll.LoadLibrary('/content/APPS/root/lib/libMatrix.so')\n",
        "\n",
        "ctypes.cdll.LoadLibrary('/content/APPS/root/lib/libHist.so')\n",
        "\n",
        "ctypes.cdll.LoadLibrary('/content/APPS/root/lib/libGraf.so')\n",
        "\n",
        "ctypes.cdll.LoadLibrary('/content/APPS/root/lib/libPyROOT.so')\n",
        "\n",
        "ctypes.cdll.LoadLibrary('/content/APPS/root/lib/libGpad.so')\n",
        "\n",
        "ctypes.cdll.LoadLibrary('/content/APPS/root/lib/libGraf3d.so')\n",
        "\n",
        "ctypes.cdll.LoadLibrary('/content/APPS/root/lib/libMultiProc.so')\n",
        "\n",
        "ctypes.cdll.LoadLibrary('/content/APPS/root/lib/libMinuit.so')\n",
        "\n",
        "ctypes.cdll.LoadLibrary('/content/APPS/root/lib/libFoam.so')"
      ],
      "execution_count": null,
      "outputs": [
        {
          "output_type": "execute_result",
          "data": {
            "text/plain": [
              "<CDLL '/content/APPS/root/lib/libFoam.so', handle 5605716f1200 at 7f478072ea50>"
            ]
          },
          "metadata": {
            "tags": []
          },
          "execution_count": 3
        }
      ]
    },
    {
      "cell_type": "code",
      "metadata": {
        "colab": {
          "base_uri": "https://localhost:8080/"
        },
        "id": "0rj7vRleITpH",
        "outputId": "6bc0f435-8770-43f4-8655-2a1e0e27d04a"
      },
      "source": [
        "from google.colab import drive\n",
        "drive.mount('/content/drive')"
      ],
      "execution_count": null,
      "outputs": [
        {
          "output_type": "stream",
          "text": [
            "Mounted at /content/drive\n"
          ],
          "name": "stdout"
        }
      ]
    },
    {
      "cell_type": "code",
      "metadata": {
        "id": "QTVz7NQMyDCb",
        "colab": {
          "base_uri": "https://localhost:8080/",
          "height": 606
        },
        "outputId": "49faf349-22e4-466f-ce4c-03fdf4a61e15"
      },
      "source": [
        "#Now we can check if we have everything working as we expect: \n",
        "#Import brings the ROOT framework into our python environment.\n",
        "import ROOT\n",
        "#We define a 1 dimensional histogram, with 100 bins which ranges from -4 to +4\n",
        "h = ROOT.TH1F(\"gauss\",\"Example histogram\",100,-4,4)\n",
        "#Fill the histogram with gaussian (random) distribution\n",
        "h.FillRandom(\"gaus\")\n",
        "#make a Canvas (i.e. a drawing)\n",
        "c = ROOT.TCanvas(\"myCanvasName\",\"The Canvas Title\",800,600)\n",
        "#Draw my histogram\n",
        "h.Draw()\n",
        "#Show me the canvas\n",
        "c.Draw()"
      ],
      "execution_count": null,
      "outputs": [
        {
          "output_type": "stream",
          "text": [
            "Welcome to JupyROOT 6.13/08\n"
          ],
          "name": "stdout"
        },
        {
          "output_type": "display_data",
          "data": {
            "image/png": "[encoded data removed]",
            "text/plain": [
              "<IPython.core.display.Image object>"
            ]
          },
          "metadata": {
            "tags": []
          }
        }
      ]
    },
    {
      "cell_type": "markdown",
      "metadata": {
        "id": "VXW1M6XB0tXP"
      },
      "source": [
        "All being well - this should give no errors and we should have some kind of Gaussian distribution above.\n",
        "\n",
        "The next step is to get our data file - you can find it on Canvas here: https://maastrichtuniversity.instructure.com/courses/5826/files/553829?module_item_id=115201\n",
        "\n",
        "Then upload it either directly or to your Google Drive and then mount this to your Colab environment"
      ]
    },
    {
      "cell_type": "code",
      "metadata": {
        "id": "Co476pbmBvBB",
        "colab": {
          "base_uri": "https://localhost:8080/",
          "height": 635
        },
        "outputId": "0f967bcd-c4fa-4c5f-bceb-1ea0177e917f"
      },
      "source": [
        "#Since we need to use ROOT, we must first import this into Python:\n",
        "import ROOT\n",
        "#Then we open the ROOT file using the TFile command. - note you need to make this file path correct for your own setup!\n",
        "f = ROOT.TFile.Open(\"/content/drive/MyDrive/PRA3024/B2HHH_MagnetUp.root\", \"READONLY\")\n",
        "#From our file, we have to extract the DecayTree \n",
        "tree=f.Get(\"data\")\n",
        "#Now we can grab some variables as a test:\n",
        "ymomentum = ROOT.RooRealVar(\"H1_PY\",\"H1 Y Momentum\",-3000,3000,\"MeV/c\")\n",
        "xmomentum = ROOT.RooRealVar(\"H1_PX\",\"H1 X Momentum\",-3000,3000,\"MeV/c\")\n",
        "zmomentum = ROOT.RooRealVar(\"H1_PZ\",\"H1 Z Momentum\",-3000,3000,\"MeV/c\")\n",
        "# We then create a dataset for us to play with\n",
        "data = ROOT.RooDataSet(\"data\",\"data set\", tree, ROOT.RooArgSet(xmomentum,ymomentum,zmomentum), \"1==1\")\n",
        "# Now we create a canvas, plot our data onto the canvas and draw it:\n",
        "c = ROOT.TCanvas(\"c\",\"c\")\n",
        "frame = xmomentum.frame()\n",
        "data.plotOn(frame)\n",
        "frame.Draw()\n",
        "c.Draw()"
      ],
      "execution_count": null,
      "outputs": [
        {
          "output_type": "stream",
          "text": [
            "\n",
            "\u001b[1mRooFit v3.60 -- Developed by Wouter Verkerke and David Kirkby\u001b[0m \n",
            "                Copyright (C) 2000-2013 NIKHEF, University of California & Stanford University\n",
            "                All rights reserved, please read http://roofit.sourceforge.net/license.txt\n",
            "\n",
            "[#1] INFO:Eval -- RooAbsReal::attachToTree(H1_PX) TTree Float_t branch H1_PX will be converted to double precision\n",
            "[#1] INFO:Eval -- RooAbsReal::attachToTree(H1_PY) TTree Float_t branch H1_PY will be converted to double precision\n",
            "[#1] INFO:Eval -- RooAbsReal::attachToTree(H1_PZ) TTree Float_t branch H1_PZ will be converted to double precision\n",
            "[#1] INFO:Eval -- RooTreeDataStore::loadValues(data) Ignored 3305139 out of range events\n"
          ],
          "name": "stdout"
        },
        {
          "output_type": "display_data",
          "data": {
            "image/png": "[encoded data removed]",
            "text/plain": [
              "<IPython.core.display.Image object>"
            ]
          },
          "metadata": {
            "tags": []
          }
        }
      ]
    },
    {
      "cell_type": "markdown",
      "metadata": {
        "id": "4e4n4iS3IJZi"
      },
      "source": [
        "#Why are we here?\n",
        "\n",
        "This week is about finding out something about one of the fundemental questions in physics. Why do we have \"stuff\".\n",
        "\n",
        "According to many of our models, and according to many measurements in particle physics, matter and anti-matter appear to be produced in equal quantities.\n",
        "\n",
        "However, when one looks at the Universe in general, we have more matter than anti-matter left - so there need to be some processes where anti-matter and matter are not produced equally. You can find out more about the Matter/Anti-Matter Asymmetry [here](http://press.web.cern.ch/backgrounders/matterantimatter-asymmetry)\n",
        "\n",
        "One place we look for this asymetry is in [charge-partity (CP) violation](https://www.symmetrymagazine.org/article/october-2005/explain-it-in-60-seconds) in particle physics processes. This essentially says that the processes that happen in the anti-particle version of a decay do not **exactly** match to the processes that happen in the particle version of the decay.\n",
        "\n",
        "\n",
        "\n",
        "---\n",
        "\n",
        "\n",
        "\n",
        "At LHCb, we produce both particle of the  B<sup>+</sup> meson and it's antiparticle the B<sup>-</sup> meson.\n",
        "\n",
        "We cannot detect these mesons directly. They decay into other things before we have a chance to measure them properly. So we collect data on the decay products, often called daughter particles. There are 524 [documented](http://pdg.lbl.gov/2014/listings/rpp2014-list-B-plus-minus.pdf) ways that the B<sup>+/-</sup> decays into various combinations. In order to simplify the process, we choose decay combinations that are convenient or have particular properties.\n",
        "\n",
        "In this analysis, we will take the process:-\n",
        "\n",
        "B<sup>+</sup>->K<sup>+</sup> + K<sup>+</sup>  + K<sup>-</sup>\n",
        "\n",
        "or\n",
        "\n",
        "B<sup>-</sup>->K<sup>-</sup> + K<sup>-</sup>  + K<sup>+</sup>\n",
        "\n",
        "\n",
        "To do so, we are given the following data for each event in our system:-\n",
        "\n",
        "![alt text](https://raw.githubusercontent.com/lhcb/opendata-project/80d64a3796e593fc8f9b257e85f32ae2e54f131f/Images/Variables.png)\n",
        "\n",
        "Here, H1 is the detected daughter particle (so a Kaon or a Pion), **not** the B-meson - the mother particle. Normally we would have to do some reconstruction from the decay products (the Daughters) to the Mother to be able to make some conclusions.\n",
        "\n",
        "Let's get started with working with this data:"
      ]
    },
    {
      "cell_type": "markdown",
      "metadata": {
        "id": "LOhfj7kfP-ao"
      },
      "source": [
        "For our analysis, the momentum of each of the daughter particles is split into the three cartesian components. We have combined these into a variable called H1_Ptot"
      ]
    },
    {
      "cell_type": "code",
      "metadata": {
        "id": "Y4keyoyTPjsK",
        "colab": {
          "base_uri": "https://localhost:8080/",
          "height": 606
        },
        "outputId": "534292d9-f210-49ac-a5e9-7d53a8da4930"
      },
      "source": [
        "#Here make a plot of the Total momentum of each of the three daughters\r\n",
        "\r\n",
        "#Now we can grab some variables as a test:\r\n",
        "c1 = ROOT.TCanvas(\"Momentums of particles\", \"Momentum\",1000,600)\r\n",
        "\r\n",
        "tree.Draw(\"H1_Ptot\"+\">>Probk_H1(500,0,100000)\")\r\n",
        "tree.Draw(\"H2_Ptot\"+\">>Probk_H2(500,0,100000)\")\r\n",
        "tree.Draw(\"H3_Ptot\"+\">>Probk_H3(500,0,100000)\")\r\n",
        "\r\n",
        "histogram1 = ROOT.gDirectory.Get(\"Probk_H1\")\r\n",
        "histogram2 = ROOT.gDirectory.Get(\"Probk_H2\")\r\n",
        "histogram3 = ROOT.gDirectory.Get(\"Probk_H3\")\r\n",
        "\r\n",
        "histogram1.SetLineColor(1)\r\n",
        "histogram2.SetLineColor(2)\r\n",
        "histogram3.SetLineColor(4)\r\n",
        "\r\n",
        "histogram1.Draw()\r\n",
        "histogram2.Draw('Same')\r\n",
        "histogram3.Draw('Same')\r\n",
        "\r\n",
        "histogram1.SetTitle(\"Events vs. Momentum of Daughter particles\")\r\n",
        "histogram1.SetXTitle(\"P_{Total}\")\r\n",
        "histogram1.SetYTitle(\"Events\")\r\n",
        "\r\n",
        "leg = ROOT.TLegend(0.7,0.75,.85,.6)\r\n",
        "leg.SetBorderSize(1)\r\n",
        "leg.SetFillColor(0)\r\n",
        "leg.SetFillStyle(0)\r\n",
        "leg.SetTextFont(42)\r\n",
        "leg.SetTextSize(0.035)\r\n",
        "leg.AddEntry(histogram1,\"Particle 1\",\"L\")\r\n",
        "leg.AddEntry(histogram2,\"Particle 2\",\"L\")\r\n",
        "leg.AddEntry(histogram3,\"Particle 3\",\"L\")\r\n",
        "leg.Draw()\r\n",
        "\r\n",
        "c1.Draw()"
      ],
      "execution_count": null,
      "outputs": [
        {
          "output_type": "stream",
          "text": [
            "Warning in <TCanvas::Constructor>: Deleting canvas with same name: Momentums of particles\n"
          ],
          "name": "stderr"
        },
        {
          "output_type": "display_data",
          "data": {
            "image/png": "[encoded data removed]",
            "text/plain": [
              "<IPython.core.display.Image object>"
            ]
          },
          "metadata": {
            "tags": []
          }
        }
      ]
    },
    {
      "cell_type": "markdown",
      "metadata": {
        "id": "C1lXLMCoR1Gi"
      },
      "source": [
        "Now plot the total momentum for the mother (M_Ptot)"
      ]
    },
    {
      "cell_type": "code",
      "metadata": {
        "id": "6kdbiNpPR1QG",
        "colab": {
          "base_uri": "https://localhost:8080/",
          "height": 606
        },
        "outputId": "db26bd8e-c138-4e1c-8846-5d9c789709dc"
      },
      "source": [
        "#use the histogram plotting tools, plot the momentum of the mother\r\n",
        "\r\n",
        "c2 = ROOT.TCanvas(\"Momentums of particles\", \"Momentum\",800,600)\r\n",
        "\r\n",
        "tree.Draw(\"M_Ptot\"+\">>Mass of Mother(1000,0,300000)\")\r\n",
        "\r\n",
        "histogram1 = ROOT.gDirectory.Get(\"Mass of Mother\")\r\n",
        "\r\n",
        "\r\n",
        "histogram1.SetLineColor(4)\r\n",
        "histogram1.SetTitle(\"Events vs. Momentum of Mother\")\r\n",
        "histogram1.SetXTitle(\"P_{Total}\")\r\n",
        "histogram1.SetYTitle(\"Events\")\r\n",
        "\r\n",
        "histogram1.Draw()\r\n",
        "\r\n",
        "c2.Draw()\r\n"
      ],
      "execution_count": null,
      "outputs": [
        {
          "output_type": "stream",
          "text": [
            "Warning in <TCanvas::Constructor>: Deleting canvas with same name: Momentums of particles\n"
          ],
          "name": "stderr"
        },
        {
          "output_type": "display_data",
          "data": {
            "image/png": "[encoded data removed]",
            "text/plain": [
              "<IPython.core.display.Image object>"
            ]
          },
          "metadata": {
            "tags": []
          }
        }
      ]
    },
    {
      "cell_type": "markdown",
      "metadata": {
        "id": "Gj5qv5kqSMIF"
      },
      "source": [
        "Let's take a look at the whole data file that is available to us by looking at one specific entry - number 45"
      ]
    },
    {
      "cell_type": "code",
      "metadata": {
        "id": "QMkih_6SSG8I",
        "colab": {
          "base_uri": "https://localhost:8080/"
        },
        "outputId": "0c1a4647-de2a-4887-809c-accb2a637df8"
      },
      "source": [
        "tree.Show(45)"
      ],
      "execution_count": null,
      "outputs": [
        {
          "output_type": "stream",
          "text": [
            "======> EVENT:45\n",
            " B_FlightDistance = 4.71407\n",
            " B_VertexChi2    = 11.5278\n",
            " H1_PX           = 133.376\n",
            " H1_PY           = -1293.52\n",
            " H1_PZ           = 33534.2\n",
            " H1_ProbK        = 0.00735235\n",
            " H1_ProbPi       = 0.204907\n",
            " H1_Charge       = 1\n",
            " H1_IPChi2       = 22.9885\n",
            " H1_isMuon       = 0\n",
            " H2_PX           = 518.943\n",
            " H2_PY           = -1966.2\n",
            " H2_PZ           = 52184.7\n",
            " H2_ProbK        = 0.00482044\n",
            " H2_ProbPi       = 0.266655\n",
            " H2_Charge       = -1\n",
            " H2_IPChi2       = 20.5652\n",
            " H2_isMuon       = 0\n",
            " H3_PX           = 1383.62\n",
            " H3_PY           = -2008.35\n",
            " H3_PZ           = 12154\n",
            " H3_ProbK        = 0.0800247\n",
            " H3_ProbPi       = 0.403711\n",
            " H3_Charge       = -1\n",
            " H3_IPChi2       = 1584.95\n",
            " H3_isMuon       = 0\n",
            " H1_Ptot         = 33559.4\n",
            " H1_type         = 1\n",
            " H1_E            = 33559.7\n",
            " H2_Ptot         = 52224.4\n",
            " H2_type         = 1\n",
            " H2_E            = 52224.5\n",
            " H3_Ptot         = 12396.2\n",
            " H3_type         = 1\n",
            " H3_E            = 12397\n",
            " M_Ptot          = 98035.7\n",
            " M_E             = 98181.3\n",
            " M_m0            = 5343.69\n"
          ],
          "name": "stdout"
        }
      ]
    },
    {
      "cell_type": "markdown",
      "metadata": {
        "id": "w3sqwtNTUEJd"
      },
      "source": [
        "We have now completed the initial steps and begun to work through what we need to with the data. This is a perfect moment to take a coffee!"
      ]
    },
    {
      "cell_type": "markdown",
      "metadata": {
        "id": "6RhWWqt3a8_e"
      },
      "source": [
        "Having discovered all of the relevant information about our daughter particles, we need to combine the measurements about them into a single mother - which will be our B<sup>+</sup> or our B<sup>-</sup>\r\n",
        "\r\n",
        "Having found our momentum and energy, we can use these quantities to find our experimental mass (not the theoretical mass as we have used for the reconstruction).\r\n",
        "\r\n",
        "When we calculate this, we will get a distribution of masses. This is due to errors in the measurements made either by the detector, or in the experiment itself. We hope to have a reasonably narrow peak to work with, but, sometimes this is not possible.\r\n",
        "\r\n",
        "Additionally there will be other particles in the detector - which means our daughters might have come from two or even three different processes. Events which don't come from the same process will give a higher or lower mass than we are looking for. This is typically called the *background* while events which come from our event of interest are called the *signal*"
      ]
    },
    {
      "cell_type": "code",
      "metadata": {
        "id": "onr7-8CMbbFf",
        "colab": {
          "base_uri": "https://localhost:8080/",
          "height": 588
        },
        "outputId": "298dbe19-674f-4579-d562-7d8038a3bfdc"
      },
      "source": [
        "#Now plot a histogram of the range of masses of the B meson.\r\n",
        "#Does this match what we would expect from theory?\r\n",
        "\r\n",
        "c3 = ROOT.TCanvas(\"Mass of Mother\", \"Mass\",900,600)\r\n",
        "\r\n",
        "tree.Draw(\"M_m0\"+\">>Mass of Mother(1000,1500,6500)\")\r\n",
        "\r\n",
        "histogram1 = ROOT.gDirectory.Get(\"Mass of Mother\")\r\n",
        "\r\n",
        "histogram1.SetLineColor(4)\r\n",
        "\r\n",
        "histogram1.Draw()\r\n",
        "\r\n",
        "histogram1.SetTitle(\"Events vs. mass\")\r\n",
        "histogram1.SetXTitle(\"Mass (MeV/c)\")\r\n",
        "histogram1.SetYTitle(\"Events\")\r\n",
        "\r\n",
        "leg = ROOT.TLegend(0.15,0.85,.3,.8)\r\n",
        "leg.SetBorderSize(1)\r\n",
        "leg.SetFillColor(0)\r\n",
        "leg.SetFillStyle(0)\r\n",
        "leg.SetTextFont(42)\r\n",
        "leg.SetTextSize(0.035)\r\n",
        "leg.AddEntry(histogram1,\"Data\",\"L\")\r\n",
        "leg.Draw()\r\n",
        "\r\n",
        "c3.Draw()"
      ],
      "execution_count": null,
      "outputs": [
        {
          "output_type": "display_data",
          "data": {
            "image/png": "[encoded data removed]",
            "text/plain": [
              "<IPython.core.display.Image object>"
            ]
          },
          "metadata": {
            "tags": []
          }
        }
      ]
    },
    {
      "cell_type": "markdown",
      "metadata": {
        "id": "MWGFKFnXb0RP"
      },
      "source": [
        "We know that some of our particles are the B+ and some are the B- particle. There will also be some particles in our system that are not coming from a genuine B+/- or are a B+/- but are not constructed from Kaons.\r\n",
        "\r\n",
        "We have some tools available to help:-\r\n",
        "\r\n",
        "  *  During detection, software attributes the probability of a particle being a Kaon or a Pion (in the H1_ProbK or H1_ProbPi variable)\r\n",
        "  * The detector also knows if the particle was a Muon - since it has detectors specifically for these. So it can attribute a 0 or a 1 to this probability\r\n",
        "  * The reconstructed vertex has a some kind of quality associated with it (we call this the Vertex χ2 (this is the variable B_VertexChi2). This is the statistical measure that determines how well we found a single point to be the source of all three particles.\r\n",
        "\r\n"
      ]
    },
    {
      "cell_type": "markdown",
      "metadata": {
        "id": "fEpnSmH4b9HZ"
      },
      "source": [
        "In order to get a better result, we should select our data to have the properties we desire and make some rules (often called a selection) to cut away data we don't want to include for various reasons. e.g. we know we don't have any muons in our decay - so any time H1/H2/H3 are a muon they should be excluded. The other variables are not so clear - so we can plot them to make a decision."
      ]
    },
    {
      "cell_type": "code",
      "metadata": {
        "id": "k0vikJp0cAvv",
        "colab": {
          "base_uri": "https://localhost:8080/",
          "height": 606
        },
        "outputId": "c9324911-90d4-4dc2-d800-3e2b3381d5aa"
      },
      "source": [
        "#Make plots of H1/H2/H3 _ProbK on one plot\r\n",
        "#Make plots of H1/H2/H3 _ProbPi on one plot\r\n",
        "#For all our particles, make a plot of the B_VertexChi2\r\n",
        "\r\n",
        "c1 = ROOT.TCanvas(\"Momentums of particles\", \"Momentum\",800,600)\r\n",
        "\r\n",
        "tree.Draw(\"H1_ProbK\"+\">>Probk_H1(200,0,1)\")\r\n",
        "tree.Draw(\"H2_ProbK\"+\">>Probk_H2(200,0,1)\")\r\n",
        "tree.Draw(\"H3_ProbK\"+\">>Probk_H3(200,0,1)\")\r\n",
        "\r\n",
        "histogram1 = ROOT.gDirectory.Get(\"Probk_H1\")\r\n",
        "histogram2 = ROOT.gDirectory.Get(\"Probk_H2\")\r\n",
        "histogram3 = ROOT.gDirectory.Get(\"Probk_H3\")\r\n",
        "\r\n",
        "histogram1.SetLineColor(1)\r\n",
        "histogram2.SetLineColor(2)\r\n",
        "histogram3.SetLineColor(4)\r\n",
        "\r\n",
        "histogram1.Draw()\r\n",
        "histogram2.Draw('Same')\r\n",
        "histogram3.Draw('Same')\r\n",
        "\r\n",
        "histogram1.SetTitle(\"Events vs. Probability of Kaons\")\r\n",
        "histogram1.SetXTitle(\"Probability\")\r\n",
        "histogram1.SetYTitle(\"Events\")\r\n",
        "\r\n",
        "leg = ROOT.TLegend(0.15,0.85,.25,.7)\r\n",
        "leg.SetBorderSize(1)\r\n",
        "leg.SetFillColor(0)\r\n",
        "leg.SetFillStyle(0)\r\n",
        "leg.SetTextFont(42)\r\n",
        "leg.SetTextSize(0.035)\r\n",
        "leg.AddEntry(histogram1,\"H1\",\"L\")\r\n",
        "leg.AddEntry(histogram2,\"H2\",\"L\")\r\n",
        "leg.AddEntry(histogram3,\"H3\",\"L\")\r\n",
        "leg.Draw()\r\n",
        "\r\n",
        "c1.Draw()"
      ],
      "execution_count": null,
      "outputs": [
        {
          "output_type": "stream",
          "text": [
            "Warning in <TCanvas::Constructor>: Deleting canvas with same name: Momentums of particles\n"
          ],
          "name": "stderr"
        },
        {
          "output_type": "display_data",
          "data": {
            "image/png": "[encoded data removed]",
            "text/plain": [
              "<IPython.core.display.Image object>"
            ]
          },
          "metadata": {
            "tags": []
          }
        }
      ]
    },
    {
      "cell_type": "code",
      "metadata": {
        "colab": {
          "base_uri": "https://localhost:8080/",
          "height": 606
        },
        "id": "kBSyDsIi0Gjv",
        "outputId": "ba545050-556a-4c5a-98e4-83cacb4aa9e0"
      },
      "source": [
        "c1 = ROOT.TCanvas(\"Momentums of particles\", \"Momentum\",900,600)\r\n",
        "\r\n",
        "tree.Draw(\"H1_ProbPi\"+\">>ProbPi_H1(200,0,1)\")\r\n",
        "tree.Draw(\"H2_ProbPi\"+\">>ProbPi_H2(200,0,1)\")\r\n",
        "tree.Draw(\"H3_ProbPi\"+\">>ProbPi_H3(200,0,1)\")\r\n",
        "\r\n",
        "histogram1 = ROOT.gDirectory.Get(\"ProbPi_H1\")\r\n",
        "histogram2 = ROOT.gDirectory.Get(\"ProbPi_H2\")\r\n",
        "histogram3 = ROOT.gDirectory.Get(\"ProbPi_H3\")\r\n",
        "\r\n",
        "histogram1.SetLineColor(1)\r\n",
        "histogram2.SetLineColor(2)\r\n",
        "histogram3.SetLineColor(4)\r\n",
        "\r\n",
        "histogram1.Draw()\r\n",
        "histogram2.Draw('Same')\r\n",
        "histogram3.Draw('Same')\r\n",
        "\r\n",
        "histogram1.SetTitle(\"Events vs. Probability of Pions\")\r\n",
        "histogram1.SetXTitle(\"Probability\")\r\n",
        "histogram1.SetYTitle(\"Events\")\r\n",
        "\r\n",
        "leg = ROOT.TLegend(0.35,0.85,.55,.7)\r\n",
        "leg.SetBorderSize(1)\r\n",
        "leg.SetFillColor(0)\r\n",
        "leg.SetFillStyle(0)\r\n",
        "leg.SetTextFont(42)\r\n",
        "leg.SetTextSize(0.035)\r\n",
        "leg.AddEntry(histogram1,\"H1\",\"L\")\r\n",
        "leg.AddEntry(histogram2,\"H2\",\"L\")\r\n",
        "leg.AddEntry(histogram3,\"H3\",\"L\")\r\n",
        "leg.Draw()\r\n",
        "\r\n",
        "c1.Draw()"
      ],
      "execution_count": null,
      "outputs": [
        {
          "output_type": "stream",
          "text": [
            "Warning in <TCanvas::Constructor>: Deleting canvas with same name: Momentums of particles\n"
          ],
          "name": "stderr"
        },
        {
          "output_type": "display_data",
          "data": {
            "image/png": "[encoded data removed]",
            "text/plain": [
              "<IPython.core.display.Image object>"
            ]
          },
          "metadata": {
            "tags": []
          }
        }
      ]
    },
    {
      "cell_type": "code",
      "metadata": {
        "colab": {
          "base_uri": "https://localhost:8080/",
          "height": 605
        },
        "id": "ZuRR3UaB0c1E",
        "outputId": "c949cc39-4aca-403c-94df-b28e4e123578"
      },
      "source": [
        "c3 = ROOT.TCanvas(\"Mass of Mother\", \"Mass\",800,600)\r\n",
        "\r\n",
        "tree.Draw(\"B_VertexChi2\"+\">>BChi2(500,0,12)\")\r\n",
        "\r\n",
        "histogram1 = ROOT.gDirectory.Get(\"BChi2\")\r\n",
        "\r\n",
        "histogram1.SetLineColor(4)\r\n",
        "\r\n",
        "histogram1.Draw()\r\n",
        "\r\n",
        "histogram1.SetTitle(\"Events vs. Vertex chi squared\")\r\n",
        "histogram1.SetXTitle(\"Vertex chi^{2}\")\r\n",
        "histogram1.SetYTitle(\"Events\")\r\n",
        "\r\n",
        "c3.Draw()"
      ],
      "execution_count": null,
      "outputs": [
        {
          "output_type": "stream",
          "text": [
            "Warning in <TCanvas::Constructor>: Deleting canvas with same name: Mass of Mother\n"
          ],
          "name": "stderr"
        },
        {
          "output_type": "display_data",
          "data": {
            "image/png": "[encoded data removed]",
            "text/plain": [
              "<IPython.core.display.Image object>"
            ]
          },
          "metadata": {
            "tags": []
          }
        }
      ]
    },
    {
      "cell_type": "markdown",
      "metadata": {
        "id": "DWmxBkZ0cDx1"
      },
      "source": [
        "Using these plots, we can now make a preselection string. This is a text string that looks like "
      ]
    },
    {
      "cell_type": "code",
      "metadata": {
        "id": "U1IGKyZXcGJP"
      },
      "source": [
        "#This example is for each daughter particle to have a Probability of being a Pion being more than 90% and H1 to not be a muon\r\n",
        "#This is not a good choice of selection - you should make your own :)\r\n",
        "#selection=(\"H1_ProbPi>0.9 & H2_ProbPi>Banana**2 & Pink_Panther < Duck_Tales)"
      ],
      "execution_count": null,
      "outputs": []
    },
    {
      "cell_type": "code",
      "metadata": {
        "id": "MxD7JMeicMu0"
      },
      "source": [
        "#To apply the selection - we can use the copytree command:\r\n",
        "selection=(\"H1_ProbK > 0.5 & H2_ProbK > 0.5 & H3_ProbK > 0.5\")\r\n",
        "CutTree=tree.CopyTree(selection)\r\n",
        "\r\n",
        "#So now we take our data in tree and apply selection to it (so only events which comply with those rules are kept) and put the new data in CutTree"
      ],
      "execution_count": null,
      "outputs": []
    },
    {
      "cell_type": "code",
      "metadata": {
        "id": "hmmsoUwEcOir",
        "colab": {
          "base_uri": "https://localhost:8080/",
          "height": 605
        },
        "outputId": "7602395a-9a5d-4fd7-e696-63a18264e9e1"
      },
      "source": [
        "#Now as a good check, we should see the effect of applying our cuts.\r\n",
        "#On one histogram, plot the B meson mass, from both the tree (pre-cuts) and the CutTree (post-cuts)\r\n",
        "#What do you notice about your histogram now?\r\n",
        "\r\n",
        "c1 = ROOT.TCanvas(\"Momentums of particles\", \"Momentum\",1000,600)\r\n",
        "\r\n",
        "tree.Draw(\"M_m0\"+\">>Mass(1000,1000,7000)\")\r\n",
        "CutTree.Draw(\"M_m0\"+\">>Mass2(1000,1000,7000)\")\r\n",
        "\r\n",
        "histogram1 = ROOT.gDirectory.Get(\"Mass\")\r\n",
        "histogram2 = ROOT.gDirectory.Get(\"Mass2\")\r\n",
        "\r\n",
        "histogram1.SetLineColor(1)\r\n",
        "histogram2.SetLineColor(2)\r\n",
        "\r\n",
        "histogram1.Draw()\r\n",
        "histogram2.Draw('Same')\r\n",
        "\r\n",
        "histogram1.SetTitle(\"Events of CutTree and Original Tree vs mass\")\r\n",
        "histogram1.SetXTitle(\"Mass of Mother\")\r\n",
        "histogram1.SetYTitle(\"Events\")\r\n",
        "\r\n",
        "leg = ROOT.TLegend(0.15,0.85,.35,.7)\r\n",
        "leg.SetBorderSize(1)\r\n",
        "leg.SetFillColor(0)\r\n",
        "leg.SetFillStyle(0)\r\n",
        "leg.SetTextFont(42)\r\n",
        "leg.SetTextSize(0.035)\r\n",
        "leg.AddEntry(histogram1,\"Original Tree\",\"L\")\r\n",
        "leg.AddEntry(histogram2,\"Cut Tree\",\"L\")\r\n",
        "leg.Draw()\r\n",
        "\r\n",
        "c1.Draw()"
      ],
      "execution_count": null,
      "outputs": [
        {
          "output_type": "stream",
          "text": [
            "Warning in <TCanvas::Constructor>: Deleting canvas with same name: Momentums of particles\n"
          ],
          "name": "stderr"
        },
        {
          "output_type": "display_data",
          "data": {
            "image/png": "[encoded data removed]",
            "text/plain": [
              "<IPython.core.display.Image object>"
            ]
          },
          "metadata": {
            "tags": []
          }
        }
      ]
    },
    {
      "cell_type": "markdown",
      "metadata": {
        "id": "N1tResqvcMgQ"
      },
      "source": [
        "#How do we count the number of events?\r\n",
        "\r\n",
        "We now have a histogram of events that we have reconstructed as a B meson. But some of these events are caused by a co-incidence of events which would still occur if there were no B mesons actually produced. We call this the background. Background and signal are indistinguishable now as the detector cannot tell the difference and our cuts were unable to remove the events for physics reasons. We can do some statistical analysis, if we know the approximate shapes of our signal and our background. Just like a least-squares fitting we can run a fit routine to minimise the error between the fitted curve and our data. As an example, if we know our data has an exponential background and a gaussian signal:\r\n",
        "\r\n",
        "![Gaussian+Exp Background](https://twiki.cern.ch/twiki/pub/RooStats/RooStatsTutorialsJune2013/GausExpModelFit.png)\r\n",
        "\r\n",
        "Here the red line represents our signal, the blue dotted line is our background and the solid blue line is our combined curve. The graph also shows the number of signal events and the number of background events. The signal now is a tiny fraction of the total data shown in the plot.\r\n",
        "\r\n",
        "In order to do this, we need to build a fit model, around which the software can try to fit our data.\r\n",
        "\r\n",
        "We use RooFit for this, which includes:\r\n",
        "* Gaussian\r\n",
        "* Exponential\r\n",
        "* Chebychev\r\n",
        "* Crystal Ball\r\n",
        "* Breit-Wigner\r\n",
        "\r\n",
        "As well as several other choices.\r\n",
        "\r\n",
        "Typically exponential and Chebychev functions are used for background and Gaussian, Crystal Ball and Breit-Wigner are used for signal. We can also combine them (e.g. 1 crystal ball, 1 gaussian, 1 exponential) in various ways."
      ]
    },
    {
      "cell_type": "code",
      "metadata": {
        "id": "R_7q_HY1qhiS"
      },
      "source": [
        "#define physical measurment that we want to fit using RooRealVar\r\n",
        "# var = ROOT.RooRealVar =(\"Variable from Python\", \"Nickname\",Min, Max, Units)\r\n",
        "mass = ROOT.RooRealVar(\"M_m0\",\"Mass\",5100,5500,\"MeV/C^{2}\")\r\n",
        "\r\n",
        "#passing the rest of the variables into the model\r\n",
        "#For the RooRealVar the last three parameters are given, \"starting value\" and min/max values\r\n",
        "gaussMean = ROOT.RooRealVar(\"Mean\",\"Mean\",5300,5280,5350)\r\n",
        "gaussWidth = ROOT.RooRealVar(\"Width\",\"Width\",20,0,50)\r\n",
        "\r\n",
        "#Now we have enough to make our Model for the signal:\r\n",
        "\r\n",
        "Gauss=ROOT.RooGaussian(\"Gaussian Signal\",\"Gauss\",mass,gaussMean,gaussWidth)\r\n",
        "Gauss_Norm= ROOT.RooRealVar(\"Gauss_Norm\",\"Signal Yield\", tree.GetEntries()/30, 0, tree.GetEntries() * 3)\r\n",
        "#We also need a background, so let's use a (simple) exponential:\r\n",
        "\r\n",
        "exponent=ROOT.RooRealVar(\"exponent\", \"C\", -0.02, -2, +2)\r\n",
        "exp_Norm= ROOT.RooRealVar(\"exp_Norm\",\"Background Yield\", tree.GetEntries()/30, 0, tree.GetEntries() * 2)\r\n",
        "\r\n",
        "#Define the  model for the background:\r\n",
        "\r\n",
        "Bkgnd=ROOT.RooExponential(\"Exponential Background\",\"Bkgnd\",mass,exponent)\r\n",
        "Bkgnd_Norm= ROOT.RooRealVar(\"Background Norm\",\"Bkgnd_norm\", tree.GetEntries()/30, 0, tree.GetEntries() * 2)\r\n",
        "\r\n",
        "#Now we need to combine these two functions into a single PDF (probability density function)\r\n",
        "#and we need to add the normalisation factors at the end as scaling factors\r\n",
        "\r\n",
        "model=ROOT.RooAddPdf(\"Full Model\",\"model\",ROOT.RooArgList(Gauss,Bkgnd),ROOT.RooArgList(Gauss_Norm, exp_Norm))"
      ],
      "execution_count": null,
      "outputs": []
    },
    {
      "cell_type": "code",
      "metadata": {
        "id": "PL-qVvs-dw86",
        "colab": {
          "base_uri": "https://localhost:8080/"
        },
        "outputId": "31cfe109-2e61-441b-967a-bc31f11ec43d"
      },
      "source": [
        "#Put our data set into a RooDataSet structure\r\n",
        "\r\n",
        "data_to_fit=ROOT.RooDataSet(\"Data Set\",\"data_to_fit\", CutTree, ROOT.RooArgSet(mass))\r\n",
        "\r\n",
        "#Then we can do the fitting:\r\n",
        "\r\n",
        "model.fitTo(data_to_fit)\r\n",
        "\r\n",
        "#if everything went well, you will see the outputs of RooFit below"
      ],
      "execution_count": null,
      "outputs": [
        {
          "output_type": "execute_result",
          "data": {
            "text/plain": [
              "<ROOT.RooFitResult object at 0x(nil)>"
            ]
          },
          "metadata": {
            "tags": []
          },
          "execution_count": 18
        },
        {
          "output_type": "stream",
          "text": [
            "[#1] INFO:Eval -- RooAbsReal::attachToTree(M_m0) TTree Float_t branch M_m0 will be converted to double precision\n",
            "[#1] INFO:Eval -- RooTreeDataStore::loadValues(Data Set) Ignored 2404 out of range events\n",
            "[#1] INFO:Minization -- p.d.f. provides expected number of events, including extended term in likelihood.\n",
            "[#1] INFO:Minization -- RooMinimizer::optimizeConst: activating const optimization\n",
            "[#1] INFO:Minization --  The following expressions will be evaluated in cache-and-track mode: (Gaussian Signal,Exponential Background)\n",
            " **********\n",
            " **    1 **SET PRINT           1\n",
            " **********\n",
            " **********\n",
            " **    2 **SET NOGRAD\n",
            " **********\n",
            " PARAMETER DEFINITIONS:\n",
            "    NO.   NAME         VALUE      STEP SIZE      LIMITS\n",
            "     1 Gauss_Norm   1.14006e+05  5.70030e+04    0.00000e+00  1.02606e+07\n",
            " MINUIT WARNING IN PARAM DEF\n",
            " ============== LIMITS ON PARAM1 TOO FAR APART.\n",
            " PARAMETER DEFINITIONS:\n",
            "    NO.   NAME         VALUE      STEP SIZE      LIMITS\n",
            "     2 Mean         5.30000e+03  7.00000e+00    5.28000e+03  5.35000e+03\n",
            "     3 Width        2.00000e+01  5.00000e+00    0.00000e+00  5.00000e+01\n",
            "     4 exp_Norm     1.14006e+05  5.70030e+04    0.00000e+00  6.84039e+06\n",
            "     5 exponent    -2.00000e-02  4.00000e-01   -2.00000e+00  2.00000e+00\n",
            " **********\n",
            " **    3 **SET ERR         0.5\n",
            " **********\n",
            " **********\n",
            " **    4 **SET PRINT           1\n",
            " **********\n",
            " **********\n",
            " **    5 **SET STR           1\n",
            " **********\n",
            " NOW USING STRATEGY  1: TRY TO BALANCE SPEED AGAINST RELIABILITY\n",
            " **********\n",
            " **    6 **MIGRAD        2500           1\n",
            " **********\n",
            " FIRST CALL TO USER FUNCTION AT NEW START POINT, WITH IFLAG=4.\n",
            " START MIGRAD MINIMIZATION.  STRATEGY  1.  CONVERGENCE WHEN EDM .LT. 1.00e-03\n",
            " FCN=162453 FROM MIGRAD    STATUS=INITIATE       41 CALLS          42 TOTAL\n",
            "                     EDM= unknown      STRATEGY= 1      NO ERROR MATRIX       \n",
            "  EXT PARAMETER               CURRENT GUESS       STEP         FIRST   \n",
            "  NO.   NAME      VALUE            ERROR          SIZE      DERIVATIVE \n",
            "   1  Gauss_Norm   1.14006e+05   5.70030e+04   0.00000e+00   1.01953e+06\n",
            "   2  Mean         5.30000e+03   7.00000e+00   0.00000e+00   5.34510e+03\n",
            "   3  Width        2.00000e+01   5.00000e+00   0.00000e+00  -4.58098e+02\n",
            "   4  exp_Norm     1.14006e+05   5.70030e+04   0.00000e+00   8.49812e+05\n",
            "   5  exponent    -3.85534e-03   4.00000e-01   8.07249e-03  -2.85749e+04\n",
            "                               ERR DEF= 0.5\n",
            " MIGRAD MINIMIZATION HAS CONVERGED.\n",
            " MIGRAD WILL VERIFY CONVERGENCE AND ERROR MATRIX.\n",
            " COVARIANCE MATRIX CALCULATED SUCCESSFULLY\n",
            " FCN=-28875.2 FROM MIGRAD    STATUS=CONVERGED     165 CALLS         166 TOTAL\n",
            "                     EDM=2.60563e-05    STRATEGY= 1      ERROR MATRIX ACCURATE \n",
            "  EXT PARAMETER                                   STEP         FIRST   \n",
            "  NO.   NAME      VALUE            ERROR          SIZE      DERIVATIVE \n",
            "   1  Gauss_Norm   7.11412e+03   8.96048e+01   3.79645e-05   1.31147e+01\n",
            "   2  Mean         5.28464e+03   2.39076e-01   1.60721e-03  -1.83812e-01\n",
            "   3  Width        1.80768e+01   2.04693e-01   9.57028e-04  -6.92741e-02\n",
            "   4  exp_Norm     2.19226e+03   5.57409e+01   5.08638e-05   1.90214e+00\n",
            "   5  exponent    -3.94589e-03   2.02072e-04   1.17464e-05  -1.19118e+01\n",
            "                               ERR DEF= 0.5\n",
            " EXTERNAL ERROR MATRIX.    NDIM=  25    NPAR=  5    ERR DEF=0.5\n",
            "  8.029e+03 -3.693e-01  2.959e+00 -9.144e+02 -1.136e-03 \n",
            " -3.693e-01  5.716e-02 -1.679e-03  3.692e-01 -2.586e-06 \n",
            "  2.959e+00 -1.679e-03  4.190e-02 -2.958e+00 -3.532e-06 \n",
            " -9.144e+02  3.692e-01 -2.958e+00  3.107e+03  1.136e-03 \n",
            " -1.136e-03 -2.586e-06 -3.532e-06  1.136e-03  4.083e-08 \n",
            " PARAMETER  CORRELATION COEFFICIENTS  \n",
            "       NO.  GLOBAL      1      2      3      4      5\n",
            "        1  0.22119   1.000 -0.017  0.161 -0.183 -0.063\n",
            "        2  0.07142  -0.017  1.000 -0.034  0.028 -0.054\n",
            "        3  0.29053   0.161 -0.034  1.000 -0.259 -0.085\n",
            "        4  0.30551  -0.183  0.028 -0.259  1.000  0.101\n",
            "        5  0.13709  -0.063 -0.054 -0.085  0.101  1.000\n",
            " **********\n",
            " **    7 **SET ERR         0.5\n",
            " **********\n",
            " **********\n",
            " **    8 **SET PRINT           1\n",
            " **********\n",
            " **********\n",
            " **    9 **HESSE        2500\n",
            " **********\n",
            " COVARIANCE MATRIX CALCULATED SUCCESSFULLY\n",
            " FCN=-28875.2 FROM HESSE     STATUS=OK             31 CALLS         197 TOTAL\n",
            "                     EDM=2.60651e-05    STRATEGY= 1      ERROR MATRIX ACCURATE \n",
            "  EXT PARAMETER                                INTERNAL      INTERNAL  \n",
            "  NO.   NAME      VALUE            ERROR       STEP SIZE       VALUE   \n",
            "   1  Gauss_Norm   7.11412e+03   8.96124e+01   7.59289e-06  -1.51813e+00\n",
            "   2  Mean         5.28464e+03   2.39082e-01   6.42882e-05  -1.04990e+00\n",
            "   3  Width        1.80768e+01   2.04746e-01   3.82811e-05  -2.80596e-01\n",
            "   4  exp_Norm     2.19226e+03   5.57527e+01   1.01728e-05  -1.53499e+00\n",
            "   5  exponent    -3.94589e-03   2.02085e-04   2.34928e-06  -1.97295e-03\n",
            "                               ERR DEF= 0.5\n",
            " EXTERNAL ERROR MATRIX.    NDIM=  25    NPAR=  5    ERR DEF=0.5\n",
            "  8.030e+03 -3.703e-01  2.967e+00 -9.160e+02 -1.141e-03 \n",
            " -3.703e-01  5.716e-02 -1.730e-03  3.703e-01 -2.579e-06 \n",
            "  2.967e+00 -1.730e-03  4.192e-02 -2.967e+00 -3.551e-06 \n",
            " -9.160e+02  3.703e-01 -2.967e+00  3.108e+03  1.141e-03 \n",
            " -1.141e-03 -2.579e-06 -3.551e-06  1.141e-03  4.084e-08 \n",
            " PARAMETER  CORRELATION COEFFICIENTS  \n",
            "       NO.  GLOBAL      1      2      3      4      5\n",
            "        1  0.22156   1.000 -0.017  0.162 -0.183 -0.063\n",
            "        2  0.07180  -0.017  1.000 -0.035  0.028 -0.053\n",
            "        3  0.29135   0.162 -0.035  1.000 -0.260 -0.086\n",
            "        4  0.30614  -0.183  0.028 -0.260  1.000  0.101\n",
            "        5  0.13754  -0.063 -0.053 -0.086  0.101  1.000\n",
            "[#1] INFO:Minization -- RooMinimizer::optimizeConst: deactivating const optimization\n"
          ],
          "name": "stdout"
        }
      ]
    },
    {
      "cell_type": "code",
      "metadata": {
        "id": "bUhgxlRGd4XO",
        "colab": {
          "base_uri": "https://localhost:8080/",
          "height": 753
        },
        "outputId": "93e8be7b-1c15-41df-a9e8-29f0c9ff88f6"
      },
      "source": [
        "#Now to plot it all\r\n",
        "c10=ROOT.TCanvas(\"c10\",\"c10\", 900, 700)\r\n",
        "frame=mass.frame()\r\n",
        "data_to_fit.plotOn(frame)\r\n",
        "\r\n",
        "plot_1 = model.plotOn(frame, ROOT.RooFit.Components(\"Gaussian Signal\"),ROOT.RooFit.LineColor(8),ROOT.RooFit.LineStyle(2))\r\n",
        "\r\n",
        "plot_2 = model.plotOn(frame, ROOT.RooFit.Components(\"Exponential Background\"),ROOT.RooFit.LineColor(46),ROOT.RooFit.LineStyle(2))\r\n",
        "\r\n",
        "plot_3 = model.plotOn(frame)\r\n",
        "\r\n",
        "frame.Draw()\r\n",
        "\r\n",
        "c10.Draw()"
      ],
      "execution_count": null,
      "outputs": [
        {
          "output_type": "stream",
          "text": [
            "[#1] INFO:Plotting -- RooAbsPdf::plotOn(Full Model) directly selected PDF components: (Gaussian Signal)\n",
            "[#1] INFO:Plotting -- RooAbsPdf::plotOn(Full Model) indirectly selected PDF components: ()\n",
            "[#1] INFO:Plotting -- RooAbsPdf::plotOn(Full Model) directly selected PDF components: (Exponential Background)\n",
            "[#1] INFO:Plotting -- RooAbsPdf::plotOn(Full Model) indirectly selected PDF components: ()\n"
          ],
          "name": "stdout"
        },
        {
          "output_type": "display_data",
          "data": {
            "image/png": "[encoded data removed]",
            "text/plain": [
              "<IPython.core.display.Image object>"
            ]
          },
          "metadata": {
            "tags": []
          }
        }
      ]
    },
    {
      "cell_type": "markdown",
      "metadata": {
        "id": "60b4bs1od4M_"
      },
      "source": [
        "Using this structure, you can in theory build whatever models you like!\r\n",
        "\r\n",
        "Some recommendations (but not necessary to do all):-\r\n",
        "\r\n",
        "\r\n",
        "\r\n",
        "*   Gauss+Exponential (as above)\r\n",
        "*   Crystal Ball + Exponential\r\n",
        "*   Gauss+Crystal Ball+Exponential (now you need to weigh the two signal peaks and then the total signal against total background)\r\n",
        "*   Gauss+Chebychev\r\n",
        "*   Two Crystal Balls + Exponential"
      ]
    },
    {
      "cell_type": "markdown",
      "metadata": {
        "id": "vHivSaH1dwy7"
      },
      "source": [
        "So how good was the fit, and how many events do you have?\r\n",
        "\r\n",
        "We can use the .getValV() function on our signal and background *normalisation* components, e.g. Gauss_Norm=Gauss.getValV()\r\n",
        "\r\n",
        "To find the error (on this number) we can use .getError()\r\n",
        "\r\n",
        "Neither of these measures would tell us if this was a good fit or not. Normally we use a χ2 test to do so - this is built into the image we made (so we can do frame.chiSquare() to get this data)\r\n",
        "\r\n",
        "For each model you made, print the signal and background yields (with errors) and report the χ2"
      ]
    },
    {
      "cell_type": "code",
      "metadata": {
        "colab": {
          "base_uri": "https://localhost:8080/"
        },
        "id": "qxTBQwP_XCK-",
        "outputId": "a62c68bd-ec0d-44c0-9362-0b35af00e7c0"
      },
      "source": [
        "# Plot 1 Gauss + Exponential\r\n",
        "print(\"Signal Yield = \" + str(Gauss_Norm.getValV()))\r\n",
        "print(\"Gaussian Error = \" + str(Gauss_Norm.getError()))\r\n",
        "print(\"\")\r\n",
        "\r\n",
        "print(\"Background = \" + str(Bkgnd.getValV()))\r\n",
        "print(\"\")\r\n",
        "\r\n",
        "print(\"chi squared = \" + str(frame.chiSquare()))\r\n"
      ],
      "execution_count": null,
      "outputs": [
        {
          "output_type": "stream",
          "text": [
            "Signal Yield = 7114.11839602\n",
            "Gaussian Error = 89.6124428905\n",
            "\n",
            "Background = 8.26987155633e-10\n",
            "\n",
            "chi squared = 1.90581241309\n"
          ],
          "name": "stdout"
        }
      ]
    },
    {
      "cell_type": "code",
      "metadata": {
        "id": "mwCt2oVamC32"
      },
      "source": [
        "mass = ROOT.RooRealVar(\"M_m0\",\"Mass\",5000,5500,\"MeV/C^{2}\")\r\n",
        "gaussMean = ROOT.RooRealVar(\"Mean\",\"Mean\",5300,5200,5350)\r\n",
        "gaussWidth = ROOT.RooRealVar(\"Width\",\"Width\",20,0,50)\r\n",
        "\r\n",
        "\r\n",
        "Gauss=ROOT.RooGaussian(\"Gaussian Signal\",\"Gauss\",mass,gaussMean,gaussWidth)\r\n",
        "Gauss_Norm= ROOT.RooRealVar(\"Gauss_Norm\",\"Signal Yield\", tree.GetEntries()/30, 0, tree.GetEntries() * 3)\r\n",
        "\r\n",
        "#We also need a background, so let's use a (simple) exponential:\r\n",
        "exponent=ROOT.RooRealVar(\"exponent\", \"C\", -0.02, -1, +1)\r\n",
        "exp_Norm= ROOT.RooRealVar(\"exp_Norm\",\"Background Yield\", tree.GetEntries()/30, 0, tree.GetEntries() * 3)\r\n",
        "\r\n",
        "#Define the  model for the background:\r\n",
        "Bkgnd=ROOT.RooExponential(\"Exponential Background\",\"Bkgnd\",mass,exponent)\r\n",
        "\r\n",
        "#Crystal Ball Model\r\n",
        "cbMean=ROOT.RooRealVar(\"cbMean\",\"cbMean\",5300,5200,5350)\r\n",
        "cbWidth=ROOT.RooRealVar(\"cbWidth\",\"cbWidth\",20,0,50)\r\n",
        "cbn=ROOT.RooRealVar(\"cbn\",\"cbn\", 5, 0, 10)\r\n",
        "cba=ROOT.RooRealVar(\"cba\",\"cba\", 20, 0, 25)\r\n",
        "CB=ROOT.RooCBShape(\"Crystal Ball\", \"CB\", mass, cbMean, cbWidth, cba, cbn)\r\n",
        "CB_Norm=ROOT.RooRealVar(\"CB_Norm\",\"Crystal Ball Norm\", tree.GetEntries()/30, 0, tree.GetEntries() * 2)\r\n",
        "\r\n",
        "#making signal function from gauss and CB\r\n",
        "combine_norm=ROOT.RooRealVar(\"combined norm\", \"combined_norm\", 0.5, 0, 1)\r\n",
        "combined_signal=ROOT.RooAddPdf(\"Combined Signal\", \"combined_signal\", Gauss, CB, combine_norm)\r\n",
        "combined_signal_norm=ROOT.RooRealVar(\"combined_signal_norm\",\"combined signal norm\", tree.GetEntries()/30, 0, tree.GetEntries() * 3)"
      ],
      "execution_count": null,
      "outputs": []
    },
    {
      "cell_type": "code",
      "metadata": {
        "colab": {
          "base_uri": "https://localhost:8080/"
        },
        "id": "Q6iX9j1ellw4",
        "outputId": "3e2e52ae-e5a2-42cd-8bad-fdb0e6c4cb8a"
      },
      "source": [
        "#Now we need to combine these two functions into a single PDF (probability density function)\r\n",
        "#and we need to add the normalisation factors at the end as scaling factors\r\n",
        "\r\n",
        "model=ROOT.RooAddPdf(\"Full Model\",\"model\",ROOT.RooArgList(combined_signal, Bkgnd),ROOT.RooArgList(combined_signal_norm, exp_Norm) )\r\n",
        "\r\n",
        "data_to_fit=ROOT.RooDataSet(\"Data Set\",\"data_to_fit\", CutTree, ROOT.RooArgSet(mass))\r\n",
        "\r\n",
        "\r\n",
        "model.fitTo(data_to_fit)"
      ],
      "execution_count": null,
      "outputs": [
        {
          "output_type": "execute_result",
          "data": {
            "text/plain": [
              "<ROOT.RooFitResult object at 0x(nil)>"
            ]
          },
          "metadata": {
            "tags": []
          },
          "execution_count": 22
        },
        {
          "output_type": "stream",
          "text": [
            "[#1] INFO:Eval -- RooAbsReal::attachToTree(M_m0) TTree Float_t branch M_m0 will be converted to double precision\n",
            "[#1] INFO:Eval -- RooTreeDataStore::loadValues(Data Set) Ignored 1659 out of range events\n",
            "[#1] INFO:Minization -- p.d.f. provides expected number of events, including extended term in likelihood.\n",
            "[#1] INFO:Minization -- RooMinimizer::optimizeConst: activating const optimization\n",
            "[#1] INFO:Minization --  The following expressions will be evaluated in cache-and-track mode: (Gaussian Signal,Crystal Ball,Exponential Background)\n",
            " **********\n",
            " **    1 **SET PRINT           1\n",
            " **********\n",
            " **********\n",
            " **    2 **SET NOGRAD\n",
            " **********\n",
            " PARAMETER DEFINITIONS:\n",
            "    NO.   NAME         VALUE      STEP SIZE      LIMITS\n",
            "     1 Mean         5.30000e+03  1.50000e+01    5.20000e+03  5.35000e+03\n",
            "     2 Width        2.00000e+01  5.00000e+00    0.00000e+00  5.00000e+01\n",
            "     3 cbMean       5.30000e+03  1.50000e+01    5.20000e+03  5.35000e+03\n",
            "     4 cbWidth      2.00000e+01  5.00000e+00    0.00000e+00  5.00000e+01\n",
            "     5 cba          2.00000e+01  2.50000e+00    0.00000e+00  2.50000e+01\n",
            "     6 cbn          5.00000e+00  1.00000e+00    0.00000e+00  1.00000e+01\n",
            "     7 combined norm   5.00000e-01  1.00000e-01    0.00000e+00  1.00000e+00\n",
            "     8 combined_signal_norm   1.14006e+05  5.70030e+04    0.00000e+00  1.02606e+07\n",
            " MINUIT WARNING IN PARAM DEF\n",
            " ============== LIMITS ON PARAM8 TOO FAR APART.\n",
            " PARAMETER DEFINITIONS:\n",
            "    NO.   NAME         VALUE      STEP SIZE      LIMITS\n",
            "     9 exp_Norm     1.14006e+05  5.70030e+04    0.00000e+00  1.02606e+07\n",
            " MINUIT WARNING IN PARAM DEF\n",
            " ============== LIMITS ON PARAM9 TOO FAR APART.\n",
            " PARAMETER DEFINITIONS:\n",
            "    NO.   NAME         VALUE      STEP SIZE      LIMITS\n",
            "    10 exponent    -2.00000e-02  2.00000e-01   -1.00000e+00  1.00000e+00\n",
            " **********\n",
            " **    3 **SET ERR         0.5\n",
            " **********\n",
            " **********\n",
            " **    4 **SET PRINT           1\n",
            " **********\n",
            " **********\n",
            " **    5 **SET STR           1\n",
            " **********\n",
            " NOW USING STRATEGY  1: TRY TO BALANCE SPEED AGAINST RELIABILITY\n",
            " **********\n",
            " **    6 **MIGRAD        5000           1\n",
            " **********\n",
            " FIRST CALL TO USER FUNCTION AT NEW START POINT, WITH IFLAG=4.\n",
            " START MIGRAD MINIMIZATION.  STRATEGY  1.  CONVERGENCE WHEN EDM .LT. 1.00e-03\n",
            " FCN=159318 FROM MIGRAD    STATUS=INITIATE      154 CALLS         155 TOTAL\n",
            "                     EDM= unknown      STRATEGY= 1      NO ERROR MATRIX       \n",
            "  EXT PARAMETER               CURRENT GUESS       STEP         FIRST   \n",
            "  NO.   NAME      VALUE            ERROR          SIZE      DERIVATIVE \n",
            "   1  Mean         5.30000e+03   1.50000e+01   0.00000e+00   6.45896e+03\n",
            "   2  Width        2.00000e+01   5.00000e+00   0.00000e+00  -1.87647e+02\n",
            "   3  cbMean       5.30000e+03   1.50000e+01   0.00000e+00   4.97793e+03\n",
            "   4  cbWidth      2.00000e+01   5.00000e+00   0.00000e+00   3.61167e+02\n",
            "   5  cba          1.14373e+00   2.50000e+00   0.00000e+00  -2.61197e+02\n",
            "   6  cbn          2.65703e+00   1.00000e+00   0.00000e+00  -1.97859e+02\n",
            "   7  combined norm   5.00000e-01   1.00000e-01   0.00000e+00  -5.75078e+01\n",
            "   8  combined_signal_norm   1.14006e+05   5.70030e+04   0.00000e+00   1.01505e+06\n",
            "   9  exp_Norm     1.14006e+05   5.70030e+04   0.00000e+00   1.04120e+06\n",
            "  10  exponent    -1.54271e-03   2.00000e-01   1.84586e-02  -2.35938e+03\n",
            "                               ERR DEF= 0.5\n",
            " MINUIT WARNING IN MIGRAD  \n",
            " ============== Negative diagonal element 1 in Error Matrix\n",
            " MINUIT WARNING IN MIGRAD  \n",
            " ============== Negative diagonal element 5 in Error Matrix\n",
            " MINUIT WARNING IN MIGRAD  \n",
            " ============== Negative diagonal element 6 in Error Matrix\n",
            " MINUIT WARNING IN MIGRAD  \n",
            " ============== Negative diagonal element 7 in Error Matrix\n",
            " MINUIT WARNING IN MIGRAD  \n",
            " ============== Negative diagonal element 9 in Error Matrix\n",
            " MINUIT WARNING IN MIGRAD  \n",
            " ============== 1.5717 added to diagonal of error matrix\n",
            "[#0] WARNING:Minization -- RooMinimizerFcn: Minimized function has error status.\n",
            "Returning maximum FCN so far (175943) to force MIGRAD to back out of this region. Error log follows\n",
            "Parameter values: Mean=5213.04, Width=26.1696, cbMean=5316.1, cbWidth=10.7998, cba=4.78997, cbn=1.15364, combined norm=0.992376, combined_signal_norm=8.44669e+06, exp_Norm=332936, exponent=0.950586\n",
            "RooNLLVar::nll_Full Model_Data Set[ paramSet=(Mean,Width,cbMean,cbWidth,cba,cbn,combined norm,combined_signal_norm,exp_Norm,exponent) ]\n",
            "     function value is NAN @ paramSet=(Mean = 5213.04,Width = 26.1696,cbMean = 5316.1,cbWidth = 10.7998,cba = 4.78997,cbn = 1.15364,combined norm = 0.992376,combined_signal_norm = 8.44669e+06,exp_Norm = 332936,exponent = 0.950586)\n",
            "RooAddPdf::Full Model[ combined_signal_norm * Combined Signal + exp_Norm * Exponential Background ]\n",
            "     p.d.f value is Not-a-Number (-nan), forcing value to zero @ !refCoefNorm=(), !pdfs=(Combined Signal = 0.000201255/1,Exponential Background = inf/-nan), !coefficients=(combined_signal_norm = 8.44669e+06,exp_Norm = 332936)\n",
            "     getLogVal() top-level p.d.f evaluates to zero @ !refCoefNorm=(), !pdfs=(Combined Signal = 0.000201255/1,Exponential Background = inf/-nan), !coefficients=(combined_signal_norm = 8.44669e+06,exp_Norm = 332936)\n",
            "     p.d.f value is Not-a-Number (-nan), forcing value to zero @ !refCoefNorm=(), !pdfs=(Combined Signal = 3.42796e-06/1,Exponential Background = inf/-nan), !coefficients=(combined_signal_norm = 8.44669e+06,exp_Norm = 332936)\n",
            "     getLogVal() top-level p.d.f evaluates to zero @ !refCoefNorm=(), !pdfs=(Combined Signal = 3.42796e-06/1,Exponential Background = inf/-nan), !coefficients=(combined_signal_norm = 8.44669e+06,exp_Norm = 332936)\n",
            "     p.d.f value is Not-a-Number (-nan), forcing value to zero @ !refCoefNorm=(), !pdfs=(Combined Signal = 0.00103335/1,Exponential Background = inf/-nan), !coefficients=(combined_signal_norm = 8.44669e+06,exp_Norm = 332936)\n",
            "     getLogVal() top-level p.d.f evaluates to zero @ !refCoefNorm=(), !pdfs=(Combined Signal = 0.00103335/1,Exponential Background = inf/-nan), !coefficients=(combined_signal_norm = 8.44669e+06,exp_Norm = 332936)\n",
            "     p.d.f value is Not-a-Number (-nan), forcing value to zero @ !refCoefNorm=(), !pdfs=(Combined Signal = 0.000150139/1,Exponential Background = inf/-nan), !coefficients=(combined_signal_norm = 8.44669e+06,exp_Norm = 332936)\n",
            "     getLogVal() top-level p.d.f evaluates to zero @ !refCoefNorm=(), !pdfs=(Combined Signal = 0.000150139/1,Exponential Background = inf/-nan), !coefficients=(combined_signal_norm = 8.44669e+06,exp_Norm = 332936)\n",
            "     p.d.f value is Not-a-Number (-nan), forcing value to zero @ !refCoefNorm=(), !pdfs=(Combined Signal = 0.000147916/1,Exponential Background = inf/-nan), !coefficients=(combined_signal_norm = 8.44669e+06,exp_Norm = 332936)\n",
            "     getLogVal() top-level p.d.f evaluates to zero @ !refCoefNorm=(), !pdfs=(Combined Signal = 0.000147916/1,Exponential Background = inf/-nan), !coefficients=(combined_signal_norm = 8.44669e+06,exp_Norm = 332936)\n",
            "     p.d.f value is Not-a-Number (-nan), forcing value to zero @ !refCoefNorm=(), !pdfs=(Combined Signal = 0.000164455/1,Exponential Background = inf/-nan), !coefficients=(combined_signal_norm = 8.44669e+06,exp_Norm = 332936)\n",
            "     getLogVal() top-level p.d.f evaluates to zero @ !refCoefNorm=(), !pdfs=(Combined Signal = 0.000164455/1,Exponential Background = inf/-nan), !coefficients=(combined_signal_norm = 8.44669e+06,exp_Norm = 332936)\n",
            "    ... (remaining 2038 messages suppressed)\n",
            "RooRealIntegral::Exponential Background_Int[M_m0][ Int Exponential Backgroundd[Ana](M_m0) ]\n",
            "     function value is NAN @ !sumList=(), !intList=(), !anaList=(M_m0 = 5323.05), !jacList=(), !facList=(), !func=Exponential Background=inf/0.00310449, !sumCat=()\n",
            "\n",
            "[#0] WARNING:Minization -- RooMinimizerFcn: Minimized function has error status.\n",
            "Returning maximum FCN so far (175943) to force MIGRAD to back out of this region. Error log follows\n",
            "Parameter values: Mean=5327.56, Width=0.000624073, cbMean=5222.19, cbWidth=6.38929, cba=1.956, cbn=0.00824094, combined norm=0.653831, combined_signal_norm=9.52848e+06, exp_Norm=41247.4, exponent=0.985905\n",
            "RooNLLVar::nll_Full Model_Data Set[ paramSet=(Mean,Width,cbMean,cbWidth,cba,cbn,combined norm,combined_signal_norm,exp_Norm,exponent) ]\n",
            "     function value is NAN @ paramSet=(Mean = 5327.56,Width = 0.000624073,cbMean = 5222.19,cbWidth = 6.38929,cba = 1.956,cbn = 0.00824094,combined norm = 0.653831,combined_signal_norm = 9.52848e+06,exp_Norm = 41247.4,exponent = 0.985905)\n",
            "RooAddPdf::Full Model[ combined_signal_norm * Combined Signal + exp_Norm * Exponential Background ]\n",
            "     p.d.f value is Not-a-Number (-nan), forcing value to zero @ !refCoefNorm=(), !pdfs=(Combined Signal = 7.12642e-28/1,Exponential Background = inf/-nan), !coefficients=(combined_signal_norm = 9.52848e+06,exp_Norm = 41247.4)\n",
            "     getLogVal() top-level p.d.f evaluates to zero @ !refCoefNorm=(), !pdfs=(Combined Signal = 7.12642e-28/1,Exponential Background = inf/-nan), !coefficients=(combined_signal_norm = 9.52848e+06,exp_Norm = 41247.4)\n",
            "     p.d.f value is Not-a-Number (-nan), forcing value to zero @ !refCoefNorm=(), !pdfs=(Combined Signal = 0.0010704/1,Exponential Background = inf/-nan), !coefficients=(combined_signal_norm = 9.52848e+06,exp_Norm = 41247.4)\n",
            "     getLogVal() top-level p.d.f evaluates to zero @ !refCoefNorm=(), !pdfs=(Combined Signal = 0.0010704/1,Exponential Background = inf/-nan), !coefficients=(combined_signal_norm = 9.52848e+06,exp_Norm = 41247.4)\n",
            "     p.d.f value is Not-a-Number (-nan), forcing value to zero @ !refCoefNorm=(), !pdfs=(Combined Signal = 6.19005e-17/1,Exponential Background = inf/-nan), !coefficients=(combined_signal_norm = 9.52848e+06,exp_Norm = 41247.4)\n",
            "     getLogVal() top-level p.d.f evaluates to zero @ !refCoefNorm=(), !pdfs=(Combined Signal = 6.19005e-17/1,Exponential Background = inf/-nan), !coefficients=(combined_signal_norm = 9.52848e+06,exp_Norm = 41247.4)\n",
            "     p.d.f value is Not-a-Number (-nan), forcing value to zero @ !refCoefNorm=(), !pdfs=(Combined Signal = 1.21529e-31/1,Exponential Background = inf/-nan), !coefficients=(combined_signal_norm = 9.52848e+06,exp_Norm = 41247.4)\n",
            "     getLogVal() top-level p.d.f evaluates to zero @ !refCoefNorm=(), !pdfs=(Combined Signal = 1.21529e-31/1,Exponential Background = inf/-nan), !coefficients=(combined_signal_norm = 9.52848e+06,exp_Norm = 41247.4)\n",
            "     p.d.f value is Not-a-Number (-nan), forcing value to zero @ !refCoefNorm=(), !pdfs=(Combined Signal = 7.51781e-34/1,Exponential Background = inf/-nan), !coefficients=(combined_signal_norm = 9.52848e+06,exp_Norm = 41247.4)\n",
            "     getLogVal() top-level p.d.f evaluates to zero @ !refCoefNorm=(), !pdfs=(Combined Signal = 7.51781e-34/1,Exponential Background = inf/-nan), !coefficients=(combined_signal_norm = 9.52848e+06,exp_Norm = 41247.4)\n",
            "     p.d.f value is Not-a-Number (-nan), forcing value to zero @ !refCoefNorm=(), !pdfs=(Combined Signal = 5.64098e-30/1,Exponential Background = inf/-nan), !coefficients=(combined_signal_norm = 9.52848e+06,exp_Norm = 41247.4)\n",
            "     getLogVal() top-level p.d.f evaluates to zero @ !refCoefNorm=(), !pdfs=(Combined Signal = 5.64098e-30/1,Exponential Background = inf/-nan), !coefficients=(combined_signal_norm = 9.52848e+06,exp_Norm = 41247.4)\n",
            "    ... (remaining 2038 messages suppressed)\n",
            "RooRealIntegral::Exponential Background_Int[M_m0][ Int Exponential Backgroundd[Ana](M_m0) ]\n",
            "     function value is NAN @ !sumList=(), !intList=(), !anaList=(M_m0 = 5323.05), !jacList=(), !facList=(), !func=Exponential Background=inf/-nan, !sumCat=()\n",
            "\n",
            "[#0] WARNING:Minization -- RooMinimizerFcn: Minimized function has error status.\n",
            "Returning maximum FCN so far (175943) to force MIGRAD to back out of this region. Error log follows\n",
            "Parameter values: Mean=5200.25, Width=7.54763, cbMean=5322.92, cbWidth=25.0951, cba=24.0179, cbn=0.460643, combined norm=0.386093, combined_signal_norm=9.6142e+06, exp_Norm=201916, exponent=-0.984866\n",
            "RooExponential::Exponential Background[ x=M_m0 c=exponent ]\n",
            "     p.d.f normalization integral is zero or negative @ x=M_m0=5279.88, c=exponent=-0.984866\n",
            "     p.d.f normalization integral is zero or negative @ x=M_m0=5287.84, c=exponent=-0.984866\n",
            "     p.d.f normalization integral is zero or negative @ x=M_m0=5286.3, c=exponent=-0.984866\n",
            "     p.d.f normalization integral is zero or negative @ x=M_m0=5289.99, c=exponent=-0.984866\n",
            "     p.d.f normalization integral is zero or negative @ x=M_m0=5297.06, c=exponent=-0.984866\n",
            "     p.d.f normalization integral is zero or negative @ x=M_m0=5133.36, c=exponent=-0.984866\n",
            "     p.d.f normalization integral is zero or negative @ x=M_m0=5322.49, c=exponent=-0.984866\n",
            "     p.d.f normalization integral is zero or negative @ x=M_m0=5110.45, c=exponent=-0.984866\n",
            "     p.d.f normalization integral is zero or negative @ x=M_m0=5118.18, c=exponent=-0.984866\n",
            "     p.d.f normalization integral is zero or negative @ x=M_m0=5232.76, c=exponent=-0.984866\n",
            "     p.d.f normalization integral is zero or negative @ x=M_m0=5281.54, c=exponent=-0.984866\n",
            "     p.d.f normalization integral is zero or negative @ x=M_m0=5270.16, c=exponent=-0.984866\n",
            "    ... (remaining 2038 messages suppressed)\n",
            "\n",
            "[#0] WARNING:Minization -- RooMinimizerFcn: Minimized function has error status.\n",
            "Returning maximum FCN so far (175943) to force MIGRAD to back out of this region. Error log follows\n",
            "Parameter values: Mean=5312.41, Width=15.9494, cbMean=5349.34, cbWidth=14.9274, cba=8.58813, cbn=0.930868, combined norm=0.741049, combined_signal_norm=1.37959e+06, exp_Norm=1.01787e+07, exponent=0.330596\n",
            "RooNLLVar::nll_Full Model_Data Set[ paramSet=(Mean,Width,cbMean,cbWidth,cba,cbn,combined norm,combined_signal_norm,exp_Norm,exponent) ]\n",
            "     function value is NAN @ paramSet=(Mean = 5312.41,Width = 15.9494,cbMean = 5349.34,cbWidth = 14.9274,cba = 8.58813,cbn = 0.930868,combined norm = 0.741049,combined_signal_norm = 1.37959e+06,exp_Norm = 1.01787e+07,exponent = 0.330596)\n",
            "RooAddPdf::Full Model[ combined_signal_norm * Combined Signal + exp_Norm * Exponential Background ]\n",
            "     p.d.f value is Not-a-Number (-nan), forcing value to zero @ !refCoefNorm=(), !pdfs=(Combined Signal = 0.00740866/1,Exponential Background = inf/-nan), !coefficients=(combined_signal_norm = 1.37959e+06,exp_Norm = 1.01787e+07)\n",
            "     getLogVal() top-level p.d.f evaluates to zero @ !refCoefNorm=(), !pdfs=(Combined Signal = 0.00740866/1,Exponential Background = inf/-nan), !coefficients=(combined_signal_norm = 1.37959e+06,exp_Norm = 1.01787e+07)\n",
            "     p.d.f value is Not-a-Number (-nan), forcing value to zero @ !refCoefNorm=(), !pdfs=(Combined Signal = 1.24106e-20/1,Exponential Background = inf/-nan), !coefficients=(combined_signal_norm = 1.37959e+06,exp_Norm = 1.01787e+07)\n",
            "     getLogVal() top-level p.d.f evaluates to zero @ !refCoefNorm=(), !pdfs=(Combined Signal = 1.24106e-20/1,Exponential Background = inf/-nan), !coefficients=(combined_signal_norm = 1.37959e+06,exp_Norm = 1.01787e+07)\n",
            "     p.d.f value is Not-a-Number (-nan), forcing value to zero @ !refCoefNorm=(), !pdfs=(Combined Signal = 0.000971833/1,Exponential Background = inf/-nan), !coefficients=(combined_signal_norm = 1.37959e+06,exp_Norm = 1.01787e+07)\n",
            "     getLogVal() top-level p.d.f evaluates to zero @ !refCoefNorm=(), !pdfs=(Combined Signal = 0.000971833/1,Exponential Background = inf/-nan), !coefficients=(combined_signal_norm = 1.37959e+06,exp_Norm = 1.01787e+07)\n",
            "     p.d.f value is Not-a-Number (-nan), forcing value to zero @ !refCoefNorm=(), !pdfs=(Combined Signal = 0.0107789/1,Exponential Background = inf/-nan), !coefficients=(combined_signal_norm = 1.37959e+06,exp_Norm = 1.01787e+07)\n",
            "     getLogVal() top-level p.d.f evaluates to zero @ !refCoefNorm=(), !pdfs=(Combined Signal = 0.0107789/1,Exponential Background = inf/-nan), !coefficients=(combined_signal_norm = 1.37959e+06,exp_Norm = 1.01787e+07)\n",
            "     p.d.f value is Not-a-Number (-nan), forcing value to zero @ !refCoefNorm=(), !pdfs=(Combined Signal = 0.0127319/1,Exponential Background = inf/-nan), !coefficients=(combined_signal_norm = 1.37959e+06,exp_Norm = 1.01787e+07)\n",
            "     getLogVal() top-level p.d.f evaluates to zero @ !refCoefNorm=(), !pdfs=(Combined Signal = 0.0127319/1,Exponential Background = inf/-nan), !coefficients=(combined_signal_norm = 1.37959e+06,exp_Norm = 1.01787e+07)\n",
            "     p.d.f value is Not-a-Number (-nan), forcing value to zero @ !refCoefNorm=(), !pdfs=(Combined Signal = 0.00927107/1,Exponential Background = inf/-nan), !coefficients=(combined_signal_norm = 1.37959e+06,exp_Norm = 1.01787e+07)\n",
            "     getLogVal() top-level p.d.f evaluates to zero @ !refCoefNorm=(), !pdfs=(Combined Signal = 0.00927107/1,Exponential Background = inf/-nan), !coefficients=(combined_signal_norm = 1.37959e+06,exp_Norm = 1.01787e+07)\n",
            "    ... (remaining 2038 messages suppressed)\n",
            "RooRealIntegral::Exponential Background_Int[M_m0][ Int Exponential Backgroundd[Ana](M_m0) ]\n",
            "     function value is NAN @ !sumList=(), !intList=(), !anaList=(M_m0 = 5323.05), !jacList=(), !facList=(), !func=Exponential Background=inf/-0, !sumCat=()\n",
            "\n",
            "[#0] WARNING:Minization -- RooMinimizerFcn: Minimized function has error status.\n",
            "Returning maximum FCN so far (175943) to force MIGRAD to back out of this region. Error log follows\n",
            "Parameter values: Mean=5200.05, Width=20.7745, cbMean=5347.56, cbWidth=4.3449, cba=23.4636, cbn=1.21986, combined norm=0.100003, combined_signal_norm=1.01785e+07, exp_Norm=6.30552e+06, exponent=0.998825\n",
            "RooNLLVar::nll_Full Model_Data Set[ paramSet=(Mean,Width,cbMean,cbWidth,cba,cbn,combined norm,combined_signal_norm,exp_Norm,exponent) ]\n",
            "     function value is NAN @ paramSet=(Mean = 5200.05,Width = 20.7745,cbMean = 5347.56,cbWidth = 4.3449,cba = 23.4636,cbn = 1.21986,combined norm = 0.100003,combined_signal_norm = 1.01785e+07,exp_Norm = 6.30552e+06,exponent = 0.998825)\n",
            "RooAddPdf::Full Model[ combined_signal_norm * Combined Signal + exp_Norm * Exponential Background ]\n",
            "     p.d.f value is Not-a-Number (-nan), forcing value to zero @ !refCoefNorm=(), !pdfs=(Combined Signal = 1.38009e-07/1,Exponential Background = inf/-nan), !coefficients=(combined_signal_norm = 1.01785e+07,exp_Norm = 6.30552e+06)\n",
            "     getLogVal() top-level p.d.f evaluates to zero @ !refCoefNorm=(), !pdfs=(Combined Signal = 1.38009e-07/1,Exponential Background = inf/-nan), !coefficients=(combined_signal_norm = 1.01785e+07,exp_Norm = 6.30552e+06)\n",
            "     p.d.f value is Not-a-Number (-nan), forcing value to zero @ !refCoefNorm=(), !pdfs=(Combined Signal = 6.55589e-08/1,Exponential Background = inf/-nan), !coefficients=(combined_signal_norm = 1.01785e+07,exp_Norm = 6.30552e+06)\n",
            "     getLogVal() top-level p.d.f evaluates to zero @ !refCoefNorm=(), !pdfs=(Combined Signal = 6.55589e-08/1,Exponential Background = inf/-nan), !coefficients=(combined_signal_norm = 1.01785e+07,exp_Norm = 6.30552e+06)\n",
            "     p.d.f value is Not-a-Number (-nan), forcing value to zero @ !refCoefNorm=(), !pdfs=(Combined Signal = 3.59869e-06/1,Exponential Background = inf/-nan), !coefficients=(combined_signal_norm = 1.01785e+07,exp_Norm = 6.30552e+06)\n",
            "     getLogVal() top-level p.d.f evaluates to zero @ !refCoefNorm=(), !pdfs=(Combined Signal = 3.59869e-06/1,Exponential Background = inf/-nan), !coefficients=(combined_signal_norm = 1.01785e+07,exp_Norm = 6.30552e+06)\n",
            "     p.d.f value is Not-a-Number (-nan), forcing value to zero @ !refCoefNorm=(), !pdfs=(Combined Signal = 4.7041e-08/1,Exponential Background = inf/-nan), !coefficients=(combined_signal_norm = 1.01785e+07,exp_Norm = 6.30552e+06)\n",
            "     getLogVal() top-level p.d.f evaluates to zero @ !refCoefNorm=(), !pdfs=(Combined Signal = 4.7041e-08/1,Exponential Background = inf/-nan), !coefficients=(combined_signal_norm = 1.01785e+07,exp_Norm = 6.30552e+06)\n",
            "     p.d.f value is Not-a-Number (-nan), forcing value to zero @ !refCoefNorm=(), !pdfs=(Combined Signal = 2.52274e-08/1,Exponential Background = inf/-nan), !coefficients=(combined_signal_norm = 1.01785e+07,exp_Norm = 6.30552e+06)\n",
            "     getLogVal() top-level p.d.f evaluates to zero @ !refCoefNorm=(), !pdfs=(Combined Signal = 2.52274e-08/1,Exponential Background = inf/-nan), !coefficients=(combined_signal_norm = 1.01785e+07,exp_Norm = 6.30552e+06)\n",
            "     p.d.f value is Not-a-Number (-nan), forcing value to zero @ !refCoefNorm=(), !pdfs=(Combined Signal = 7.55556e-08/1,Exponential Background = inf/-nan), !coefficients=(combined_signal_norm = 1.01785e+07,exp_Norm = 6.30552e+06)\n",
            "     getLogVal() top-level p.d.f evaluates to zero @ !refCoefNorm=(), !pdfs=(Combined Signal = 7.55556e-08/1,Exponential Background = inf/-nan), !coefficients=(combined_signal_norm = 1.01785e+07,exp_Norm = 6.30552e+06)\n",
            "    ... (remaining 2038 messages suppressed)\n",
            "RooRealIntegral::Exponential Background_Int[M_m0][ Int Exponential Backgroundd[Ana](M_m0) ]\n",
            "     function value is NAN @ !sumList=(), !intList=(), !anaList=(M_m0 = 5323.05), !jacList=(), !facList=(), !func=Exponential Background=inf/-nan, !sumCat=()\n",
            "\n",
            "[#0] WARNING:Minization -- RooMinimizerFcn: Minimized function has error status.\n",
            "Returning maximum FCN so far (175943) to force MIGRAD to back out of this region. Error log follows\n",
            "Parameter values: Mean=5240.37, Width=23.2364, cbMean=5208.53, cbWidth=28.4386, cba=11.0963, cbn=1.37519, combined norm=0.00102411, combined_signal_norm=7.05439e+06, exp_Norm=3.31485e+06, exponent=-0.385083\n",
            "RooExponential::Exponential Background[ x=M_m0 c=exponent ]\n",
            "     p.d.f normalization integral is zero or negative @ x=M_m0=5279.88, c=exponent=-0.385083\n",
            "     p.d.f normalization integral is zero or negative @ x=M_m0=5287.84, c=exponent=-0.385083\n",
            "     p.d.f normalization integral is zero or negative @ x=M_m0=5286.3, c=exponent=-0.385083\n",
            "     p.d.f normalization integral is zero or negative @ x=M_m0=5289.99, c=exponent=-0.385083\n",
            "     p.d.f normalization integral is zero or negative @ x=M_m0=5297.06, c=exponent=-0.385083\n",
            "     p.d.f normalization integral is zero or negative @ x=M_m0=5133.36, c=exponent=-0.385083\n",
            "     p.d.f normalization integral is zero or negative @ x=M_m0=5322.49, c=exponent=-0.385083\n",
            "     p.d.f normalization integral is zero or negative @ x=M_m0=5110.45, c=exponent=-0.385083\n",
            "     p.d.f normalization integral is zero or negative @ x=M_m0=5118.18, c=exponent=-0.385083\n",
            "     p.d.f normalization integral is zero or negative @ x=M_m0=5232.76, c=exponent=-0.385083\n",
            "     p.d.f normalization integral is zero or negative @ x=M_m0=5281.54, c=exponent=-0.385083\n",
            "     p.d.f normalization integral is zero or negative @ x=M_m0=5270.16, c=exponent=-0.385083\n",
            "    ... (remaining 2038 messages suppressed)\n",
            "\n",
            "[#0] WARNING:Minization -- RooMinimizerFcn: Minimized function has error status.\n",
            "Returning maximum FCN so far (175943) to force MIGRAD to back out of this region. Error log follows\n",
            "Parameter values: Mean=5276.87, Width=24.4238, cbMean=5229.32, cbWidth=0.480936, cba=4.64905, cbn=1.45238, combined norm=0.0400666, combined_signal_norm=217254, exp_Norm=3.9795e+06, exponent=0.137119\n",
            "RooNLLVar::nll_Full Model_Data Set[ paramSet=(Mean,Width,cbMean,cbWidth,cba,cbn,combined norm,combined_signal_norm,exp_Norm,exponent) ]\n",
            "     function value is NAN @ paramSet=(Mean = 5276.87,Width = 24.4238,cbMean = 5229.32,cbWidth = 0.480936,cba = 4.64905,cbn = 1.45238,combined norm = 0.0400666,combined_signal_norm = 217254,exp_Norm = 3.9795e+06,exponent = 0.137119)\n",
            "RooAddPdf::Full Model[ combined_signal_norm * Combined Signal + exp_Norm * Exponential Background ]\n",
            "     p.d.f value is Not-a-Number (-nan), forcing value to zero @ !refCoefNorm=(), !pdfs=(Combined Signal = 0.000508547/1,Exponential Background = inf/inf), !coefficients=(combined_signal_norm = 217254,exp_Norm = 3.9795e+06)\n",
            "     getLogVal() top-level p.d.f evaluates to zero @ !refCoefNorm=(), !pdfs=(Combined Signal = 0.000508547/1,Exponential Background = inf/inf), !coefficients=(combined_signal_norm = 217254,exp_Norm = 3.9795e+06)\n",
            "     p.d.f value is Not-a-Number (-nan), forcing value to zero @ !refCoefNorm=(), !pdfs=(Combined Signal = 1.72265e-05/1,Exponential Background = inf/inf), !coefficients=(combined_signal_norm = 217254,exp_Norm = 3.9795e+06)\n",
            "     getLogVal() top-level p.d.f evaluates to zero @ !refCoefNorm=(), !pdfs=(Combined Signal = 1.72265e-05/1,Exponential Background = inf/inf), !coefficients=(combined_signal_norm = 217254,exp_Norm = 3.9795e+06)\n",
            "     p.d.f value is Not-a-Number (-nan), forcing value to zero @ !refCoefNorm=(), !pdfs=(Combined Signal = 0.000209373/1,Exponential Background = inf/inf), !coefficients=(combined_signal_norm = 217254,exp_Norm = 3.9795e+06)\n",
            "     getLogVal() top-level p.d.f evaluates to zero @ !refCoefNorm=(), !pdfs=(Combined Signal = 0.000209373/1,Exponential Background = inf/inf), !coefficients=(combined_signal_norm = 217254,exp_Norm = 3.9795e+06)\n",
            "     p.d.f value is Not-a-Number (-nan), forcing value to zero @ !refCoefNorm=(), !pdfs=(Combined Signal = 0.000645242/1,Exponential Background = inf/inf), !coefficients=(combined_signal_norm = 217254,exp_Norm = 3.9795e+06)\n",
            "     getLogVal() top-level p.d.f evaluates to zero @ !refCoefNorm=(), !pdfs=(Combined Signal = 0.000645242/1,Exponential Background = inf/inf), !coefficients=(combined_signal_norm = 217254,exp_Norm = 3.9795e+06)\n",
            "     p.d.f value is Not-a-Number (-nan), forcing value to zero @ !refCoefNorm=(), !pdfs=(Combined Signal = 0.000515702/1,Exponential Background = inf/inf), !coefficients=(combined_signal_norm = 217254,exp_Norm = 3.9795e+06)\n",
            "     getLogVal() top-level p.d.f evaluates to zero @ !refCoefNorm=(), !pdfs=(Combined Signal = 0.000515702/1,Exponential Background = inf/inf), !coefficients=(combined_signal_norm = 217254,exp_Norm = 3.9795e+06)\n",
            "     p.d.f value is Not-a-Number (-nan), forcing value to zero @ !refCoefNorm=(), !pdfs=(Combined Signal = 4.90711e-12/1,Exponential Background = inf/inf), !coefficients=(combined_signal_norm = 217254,exp_Norm = 3.9795e+06)\n",
            "     getLogVal() top-level p.d.f evaluates to zero @ !refCoefNorm=(), !pdfs=(Combined Signal = 4.90711e-12/1,Exponential Background = inf/inf), !coefficients=(combined_signal_norm = 217254,exp_Norm = 3.9795e+06)\n",
            "    ... (remaining 2038 messages suppressed)\n",
            "\n",
            "[#0] WARNING:Minization -- RooMinimizerFcn: Minimized function has error status.\n",
            "Returning maximum FCN so far (175943) to force MIGRAD to back out of this region. Error log follows\n",
            "Parameter values: Mean=5292.78, Width=24.9285, cbMean=5270.38, cbWidth=11.6086, cba=2.55757, cbn=1.48569, combined norm=0.0729627, combined_signal_norm=148739, exp_Norm=8.05009e+06, exponent=-0.507076\n",
            "RooExponential::Exponential Background[ x=M_m0 c=exponent ]\n",
            "     p.d.f normalization integral is zero or negative @ x=M_m0=5279.88, c=exponent=-0.507076\n",
            "     p.d.f normalization integral is zero or negative @ x=M_m0=5287.84, c=exponent=-0.507076\n",
            "     p.d.f normalization integral is zero or negative @ x=M_m0=5286.3, c=exponent=-0.507076\n",
            "     p.d.f normalization integral is zero or negative @ x=M_m0=5289.99, c=exponent=-0.507076\n",
            "     p.d.f normalization integral is zero or negative @ x=M_m0=5297.06, c=exponent=-0.507076\n",
            "     p.d.f normalization integral is zero or negative @ x=M_m0=5133.36, c=exponent=-0.507076\n",
            "     p.d.f normalization integral is zero or negative @ x=M_m0=5322.49, c=exponent=-0.507076\n",
            "     p.d.f normalization integral is zero or negative @ x=M_m0=5110.45, c=exponent=-0.507076\n",
            "     p.d.f normalization integral is zero or negative @ x=M_m0=5118.18, c=exponent=-0.507076\n",
            "     p.d.f normalization integral is zero or negative @ x=M_m0=5232.76, c=exponent=-0.507076\n",
            "     p.d.f normalization integral is zero or negative @ x=M_m0=5281.54, c=exponent=-0.507076\n",
            "     p.d.f normalization integral is zero or negative @ x=M_m0=5270.16, c=exponent=-0.507076\n",
            "    ... (remaining 2038 messages suppressed)\n",
            "\n",
            "[#0] WARNING:Minization -- RooMinimizerFcn: Minimized function has error status.\n",
            "Returning maximum FCN so far (175943) to force MIGRAD to back out of this region. Error log follows\n",
            "Parameter values: Mean=5297.15, Width=25.0709, cbMean=5282.91, cbWidth=16.7311, cba=2.06678, cbn=1.49515, combined norm=0.0838721, combined_signal_norm=825327, exp_Norm=273875, exponent=0.312673\n",
            "RooNLLVar::nll_Full Model_Data Set[ paramSet=(Mean,Width,cbMean,cbWidth,cba,cbn,combined norm,combined_signal_norm,exp_Norm,exponent) ]\n",
            "     function value is NAN @ paramSet=(Mean = 5297.15,Width = 25.0709,cbMean = 5282.91,cbWidth = 16.7311,cba = 2.06678,cbn = 1.49515,combined norm = 0.0838721,combined_signal_norm = 825327,exp_Norm = 273875,exponent = 0.312673)\n",
            "RooAddPdf::Full Model[ combined_signal_norm * Combined Signal + exp_Norm * Exponential Background ]\n",
            "     p.d.f value is Not-a-Number (-nan), forcing value to zero @ !refCoefNorm=(), !pdfs=(Combined Signal = 0.0201904/1,Exponential Background = inf/-nan), !coefficients=(combined_signal_norm = 825327,exp_Norm = 273875)\n",
            "     getLogVal() top-level p.d.f evaluates to zero @ !refCoefNorm=(), !pdfs=(Combined Signal = 0.0201904/1,Exponential Background = inf/-nan), !coefficients=(combined_signal_norm = 825327,exp_Norm = 273875)\n",
            "     p.d.f value is Not-a-Number (-nan), forcing value to zero @ !refCoefNorm=(), !pdfs=(Combined Signal = 5.53311e-05/1,Exponential Background = inf/-nan), !coefficients=(combined_signal_norm = 825327,exp_Norm = 273875)\n",
            "     getLogVal() top-level p.d.f evaluates to zero @ !refCoefNorm=(), !pdfs=(Combined Signal = 5.53311e-05/1,Exponential Background = inf/-nan), !coefficients=(combined_signal_norm = 825327,exp_Norm = 273875)\n",
            "     p.d.f value is Not-a-Number (-nan), forcing value to zero @ !refCoefNorm=(), !pdfs=(Combined Signal = 0.0189922/1,Exponential Background = inf/-nan), !coefficients=(combined_signal_norm = 825327,exp_Norm = 273875)\n",
            "     getLogVal() top-level p.d.f evaluates to zero @ !refCoefNorm=(), !pdfs=(Combined Signal = 0.0189922/1,Exponential Background = inf/-nan), !coefficients=(combined_signal_norm = 825327,exp_Norm = 273875)\n",
            "     p.d.f value is Not-a-Number (-nan), forcing value to zero @ !refCoefNorm=(), !pdfs=(Combined Signal = 0.017044/1,Exponential Background = inf/-nan), !coefficients=(combined_signal_norm = 825327,exp_Norm = 273875)\n",
            "     getLogVal() top-level p.d.f evaluates to zero @ !refCoefNorm=(), !pdfs=(Combined Signal = 0.017044/1,Exponential Background = inf/-nan), !coefficients=(combined_signal_norm = 825327,exp_Norm = 273875)\n",
            "     p.d.f value is Not-a-Number (-nan), forcing value to zero @ !refCoefNorm=(), !pdfs=(Combined Signal = 0.014978/1,Exponential Background = inf/-nan), !coefficients=(combined_signal_norm = 825327,exp_Norm = 273875)\n",
            "     getLogVal() top-level p.d.f evaluates to zero @ !refCoefNorm=(), !pdfs=(Combined Signal = 0.014978/1,Exponential Background = inf/-nan), !coefficients=(combined_signal_norm = 825327,exp_Norm = 273875)\n",
            "     p.d.f value is Not-a-Number (-nan), forcing value to zero @ !refCoefNorm=(), !pdfs=(Combined Signal = 0.0185292/1,Exponential Background = inf/-nan), !coefficients=(combined_signal_norm = 825327,exp_Norm = 273875)\n",
            "     getLogVal() top-level p.d.f evaluates to zero @ !refCoefNorm=(), !pdfs=(Combined Signal = 0.0185292/1,Exponential Background = inf/-nan), !coefficients=(combined_signal_norm = 825327,exp_Norm = 273875)\n",
            "    ... (remaining 2038 messages suppressed)\n",
            "RooRealIntegral::Exponential Background_Int[M_m0][ Int Exponential Backgroundd[Ana](M_m0) ]\n",
            "     function value is NAN @ !sumList=(), !intList=(), !anaList=(M_m0 = 5323.05), !jacList=(), !facList=(), !func=Exponential Background=inf/-0, !sumCat=()\n",
            "\n",
            " MIGRAD FAILS TO FIND IMPROVEMENT\n",
            " EIGENVALUES OF SECOND-DERIVATIVE MATRIX:\n",
            "        -1.6358e-01 -5.4589e-02  1.9995e-01  2.8196e-01  6.8735e-01  7.8902e-01  1.1476e+00  1.4228e+00  2.6512e+00  3.0383e+00\n",
            " MINUIT WARNING IN HESSE   \n",
            " ============== MATRIX FORCED POS-DEF BY ADDING 0.166614 TO DIAGONAL.\n",
            " FCN=-29547.5 FROM HESSE     STATUS=NOT POSDEF     86 CALLS         757 TOTAL\n",
            "                     EDM=19.9486    STRATEGY= 1      ERR MATRIX NOT POS-DEF\n",
            "  EXT PARAMETER                APPROXIMATE        STEP         FIRST   \n",
            "  NO.   NAME      VALUE            ERROR          SIZE      DERIVATIVE \n",
            "   1  Mean         5.29756e+03   3.00136e+01   4.37188e-03   4.32986e+01\n",
            "   2  Width        2.50845e+01   4.49946e+00   1.03242e-02   4.23263e+00\n",
            "   3  cbMean       5.28410e+03   3.43445e-01   3.85818e-04   1.19361e+02\n",
            "   4  cbWidth      1.72469e+01   6.33629e-01   1.01415e-03   1.62717e+02\n",
            "   5  cba          2.02241e+00   1.01355e-01   1.22542e-03  -4.84313e+01\n",
            "   6  cbn          1.49605e+00   5.17649e-01   6.97877e-03   3.29456e+00\n",
            "   7  combined norm   8.49496e-02   1.64700e-01   5.68592e-03  -2.85051e+01\n",
            "   8  combined_signal_norm   7.28697e+03   1.15223e+02   3.85478e-05  -3.89877e+03\n",
            "   9  exp_Norm     2.70385e+03   9.96432e+01   4.14254e-05   2.69500e+03\n",
            "  10  exponent    -2.27722e-03   1.72395e-04   1.68254e-05  -2.39323e+03\n",
            "                               ERR DEF= 0.5\n",
            " MINUIT WARNING IN MIGRAD  \n",
            " ============== Negative diagonal element 2 in Error Matrix\n",
            " MINUIT WARNING IN MIGRAD  \n",
            " ============== Negative diagonal element 4 in Error Matrix\n",
            " MINUIT WARNING IN MIGRAD  \n",
            " ============== Negative diagonal element 5 in Error Matrix\n",
            " MINUIT WARNING IN MIGRAD  \n",
            " ============== Negative diagonal element 6 in Error Matrix\n",
            " MINUIT WARNING IN MIGRAD  \n",
            " ============== Negative diagonal element 7 in Error Matrix\n",
            " MINUIT WARNING IN MIGRAD  \n",
            " ============== Negative diagonal element 8 in Error Matrix\n",
            " MINUIT WARNING IN MIGRAD  \n",
            " ============== Negative diagonal element 9 in Error Matrix\n",
            " MINUIT WARNING IN MIGRAD  \n",
            " ============== Negative diagonal element 10 in Error Matrix\n",
            " MINUIT WARNING IN MIGRAD  \n",
            " ============== 2.34834 added to diagonal of error matrix\n",
            "[#0] WARNING:Minization -- RooMinimizerFcn: Minimized function has error status.\n",
            "Returning maximum FCN so far (175943) to force MIGRAD to back out of this region. Error log follows\n",
            "Parameter values: Mean=5347.76, Width=39.314, cbMean=5202.95, cbWidth=21.318, cba=20.7711, cbn=1.26549, combined norm=0.981803, combined_signal_norm=1.47043e+06, exp_Norm=4.73072e+06, exponent=-0.987502\n",
            "RooExponential::Exponential Background[ x=M_m0 c=exponent ]\n",
            "     p.d.f normalization integral is zero or negative @ x=M_m0=5279.88, c=exponent=-0.987502\n",
            "     p.d.f normalization integral is zero or negative @ x=M_m0=5287.84, c=exponent=-0.987502\n",
            "     p.d.f normalization integral is zero or negative @ x=M_m0=5286.3, c=exponent=-0.987502\n",
            "     p.d.f normalization integral is zero or negative @ x=M_m0=5289.99, c=exponent=-0.987502\n",
            "     p.d.f normalization integral is zero or negative @ x=M_m0=5297.06, c=exponent=-0.987502\n",
            "     p.d.f normalization integral is zero or negative @ x=M_m0=5133.36, c=exponent=-0.987502\n",
            "     p.d.f normalization integral is zero or negative @ x=M_m0=5322.49, c=exponent=-0.987502\n",
            "     p.d.f normalization integral is zero or negative @ x=M_m0=5110.45, c=exponent=-0.987502\n",
            "     p.d.f normalization integral is zero or negative @ x=M_m0=5118.18, c=exponent=-0.987502\n",
            "     p.d.f normalization integral is zero or negative @ x=M_m0=5232.76, c=exponent=-0.987502\n",
            "     p.d.f normalization integral is zero or negative @ x=M_m0=5281.54, c=exponent=-0.987502\n",
            "     p.d.f normalization integral is zero or negative @ x=M_m0=5270.16, c=exponent=-0.987502\n",
            "    ... (remaining 2038 messages suppressed)\n",
            "\n",
            "[#0] WARNING:Minization -- RooMinimizerFcn: Minimized function has error status.\n",
            "Returning maximum FCN so far (175943) to force MIGRAD to back out of this region. Error log follows\n",
            "Parameter values: Mean=5331.62, Width=32.6735, cbMean=5349.79, cbWidth=0.628217, cba=16.7743, cbn=1.05034, combined norm=0.252324, combined_signal_norm=1.00824e+07, exp_Norm=4.27848e+06, exponent=-0.824947\n",
            "RooExponential::Exponential Background[ x=M_m0 c=exponent ]\n",
            "     p.d.f normalization integral is zero or negative @ x=M_m0=5279.88, c=exponent=-0.824947\n",
            "     p.d.f normalization integral is zero or negative @ x=M_m0=5287.84, c=exponent=-0.824947\n",
            "     p.d.f normalization integral is zero or negative @ x=M_m0=5286.3, c=exponent=-0.824947\n",
            "     p.d.f normalization integral is zero or negative @ x=M_m0=5289.99, c=exponent=-0.824947\n",
            "     p.d.f normalization integral is zero or negative @ x=M_m0=5297.06, c=exponent=-0.824947\n",
            "     p.d.f normalization integral is zero or negative @ x=M_m0=5133.36, c=exponent=-0.824947\n",
            "     p.d.f normalization integral is zero or negative @ x=M_m0=5322.49, c=exponent=-0.824947\n",
            "     p.d.f normalization integral is zero or negative @ x=M_m0=5110.45, c=exponent=-0.824947\n",
            "     p.d.f normalization integral is zero or negative @ x=M_m0=5118.18, c=exponent=-0.824947\n",
            "     p.d.f normalization integral is zero or negative @ x=M_m0=5232.76, c=exponent=-0.824947\n",
            "     p.d.f normalization integral is zero or negative @ x=M_m0=5281.54, c=exponent=-0.824947\n",
            "     p.d.f normalization integral is zero or negative @ x=M_m0=5270.16, c=exponent=-0.824947\n",
            "    ... (remaining 2038 messages suppressed)\n",
            "\n",
            "[#0] WARNING:Minization -- RooMinimizerFcn: Minimized function has error status.\n",
            "Returning maximum FCN so far (175943) to force MIGRAD to back out of this region. Error log follows\n",
            "Parameter values: Mean=5247.45, Width=20.9418, cbMean=5293.49, cbWidth=12.4998, cba=4.59856, cbn=0.950037, combined norm=0.994877, combined_signal_norm=8.88407e+06, exp_Norm=6.3479e+06, exponent=-0.593402\n",
            "RooExponential::Exponential Background[ x=M_m0 c=exponent ]\n",
            "     p.d.f normalization integral is zero or negative @ x=M_m0=5279.88, c=exponent=-0.593402\n",
            "     p.d.f normalization integral is zero or negative @ x=M_m0=5287.84, c=exponent=-0.593402\n",
            "     p.d.f normalization integral is zero or negative @ x=M_m0=5286.3, c=exponent=-0.593402\n",
            "     p.d.f normalization integral is zero or negative @ x=M_m0=5289.99, c=exponent=-0.593402\n",
            "     p.d.f normalization integral is zero or negative @ x=M_m0=5297.06, c=exponent=-0.593402\n",
            "     p.d.f normalization integral is zero or negative @ x=M_m0=5133.36, c=exponent=-0.593402\n",
            "     p.d.f normalization integral is zero or negative @ x=M_m0=5322.49, c=exponent=-0.593402\n",
            "     p.d.f normalization integral is zero or negative @ x=M_m0=5110.45, c=exponent=-0.593402\n",
            "     p.d.f normalization integral is zero or negative @ x=M_m0=5118.18, c=exponent=-0.593402\n",
            "     p.d.f normalization integral is zero or negative @ x=M_m0=5232.76, c=exponent=-0.593402\n",
            "     p.d.f normalization integral is zero or negative @ x=M_m0=5281.54, c=exponent=-0.593402\n",
            "     p.d.f normalization integral is zero or negative @ x=M_m0=5270.16, c=exponent=-0.593402\n",
            "    ... (remaining 2038 messages suppressed)\n",
            "\n",
            "[#0] WARNING:Minization -- RooMinimizerFcn: Minimized function has error status.\n",
            "Returning maximum FCN so far (175943) to force MIGRAD to back out of this region. Error log follows\n",
            "Parameter values: Mean=5349.29, Width=0.0975894, cbMean=5308.16, cbWidth=22.1335, cba=24.141, cbn=9.09722, combined norm=0.653252, combined_signal_norm=7.06075e+06, exp_Norm=9.97908e+06, exponent=0.528766\n",
            "RooNLLVar::nll_Full Model_Data Set[ paramSet=(Mean,Width,cbMean,cbWidth,cba,cbn,combined norm,combined_signal_norm,exp_Norm,exponent) ]\n",
            "     function value is NAN @ paramSet=(Mean = 5349.29,Width = 0.0975894,cbMean = 5308.16,cbWidth = 22.1335,cba = 24.141,cbn = 9.09722,combined norm = 0.653252,combined_signal_norm = 7.06075e+06,exp_Norm = 9.97908e+06,exponent = 0.528766)\n",
            "RooAddPdf::Full Model[ combined_signal_norm * Combined Signal + exp_Norm * Exponential Background ]\n",
            "     p.d.f value is Not-a-Number (-nan), forcing value to zero @ !refCoefNorm=(), !pdfs=(Combined Signal = 0.00459442/1,Exponential Background = inf/-nan), !coefficients=(combined_signal_norm = 7.06075e+06,exp_Norm = 9.97908e+06)\n",
            "     getLogVal() top-level p.d.f evaluates to zero @ !refCoefNorm=(), !pdfs=(Combined Signal = 0.00459442/1,Exponential Background = inf/-nan), !coefficients=(combined_signal_norm = 7.06075e+06,exp_Norm = 9.97908e+06)\n",
            "     p.d.f value is Not-a-Number (-nan), forcing value to zero @ !refCoefNorm=(), !pdfs=(Combined Signal = 4.46122e-21/1,Exponential Background = inf/-nan), !coefficients=(combined_signal_norm = 7.06075e+06,exp_Norm = 9.97908e+06)\n",
            "     getLogVal() top-level p.d.f evaluates to zero @ !refCoefNorm=(), !pdfs=(Combined Signal = 4.46122e-21/1,Exponential Background = inf/-nan), !coefficients=(combined_signal_norm = 7.06075e+06,exp_Norm = 9.97908e+06)\n",
            "     p.d.f value is Not-a-Number (-nan), forcing value to zero @ !refCoefNorm=(), !pdfs=(Combined Signal = 0.00185628/1,Exponential Background = inf/-nan), !coefficients=(combined_signal_norm = 7.06075e+06,exp_Norm = 9.97908e+06)\n",
            "     getLogVal() top-level p.d.f evaluates to zero @ !refCoefNorm=(), !pdfs=(Combined Signal = 0.00185628/1,Exponential Background = inf/-nan), !coefficients=(combined_signal_norm = 7.06075e+06,exp_Norm = 9.97908e+06)\n",
            "     p.d.f value is Not-a-Number (-nan), forcing value to zero @ !refCoefNorm=(), !pdfs=(Combined Signal = 0.00534463/1,Exponential Background = inf/-nan), !coefficients=(combined_signal_norm = 7.06075e+06,exp_Norm = 9.97908e+06)\n",
            "     getLogVal() top-level p.d.f evaluates to zero @ !refCoefNorm=(), !pdfs=(Combined Signal = 0.00534463/1,Exponential Background = inf/-nan), !coefficients=(combined_signal_norm = 7.06075e+06,exp_Norm = 9.97908e+06)\n",
            "     p.d.f value is Not-a-Number (-nan), forcing value to zero @ !refCoefNorm=(), !pdfs=(Combined Signal = 0.0056874/1,Exponential Background = inf/-nan), !coefficients=(combined_signal_norm = 7.06075e+06,exp_Norm = 9.97908e+06)\n",
            "     getLogVal() top-level p.d.f evaluates to zero @ !refCoefNorm=(), !pdfs=(Combined Signal = 0.0056874/1,Exponential Background = inf/-nan), !coefficients=(combined_signal_norm = 7.06075e+06,exp_Norm = 9.97908e+06)\n",
            "     p.d.f value is Not-a-Number (-nan), forcing value to zero @ !refCoefNorm=(), !pdfs=(Combined Signal = 0.00503653/1,Exponential Background = inf/-nan), !coefficients=(combined_signal_norm = 7.06075e+06,exp_Norm = 9.97908e+06)\n",
            "     getLogVal() top-level p.d.f evaluates to zero @ !refCoefNorm=(), !pdfs=(Combined Signal = 0.00503653/1,Exponential Background = inf/-nan), !coefficients=(combined_signal_norm = 7.06075e+06,exp_Norm = 9.97908e+06)\n",
            "    ... (remaining 2038 messages suppressed)\n",
            "RooRealIntegral::Exponential Background_Int[M_m0][ Int Exponential Backgroundd[Ana](M_m0) ]\n",
            "     function value is NAN @ !sumList=(), !intList=(), !anaList=(M_m0 = 5323.05), !jacList=(), !facList=(), !func=Exponential Background=inf/-0, !sumCat=()\n",
            "\n",
            "[#0] WARNING:Minization -- RooMinimizerFcn: Minimized function has error status.\n",
            "Returning maximum FCN so far (175943) to force MIGRAD to back out of this region. Error log follows\n",
            "Parameter values: Mean=5220.9, Width=8.24012, cbMean=5224.33, cbWidth=22.895, cba=10.9779, cbn=7.83578, combined norm=0.378145, combined_signal_norm=6.70755e+06, exp_Norm=6.60957e+06, exponent=-0.767053\n",
            "RooExponential::Exponential Background[ x=M_m0 c=exponent ]\n",
            "     p.d.f normalization integral is zero or negative @ x=M_m0=5279.88, c=exponent=-0.767053\n",
            "     p.d.f normalization integral is zero or negative @ x=M_m0=5287.84, c=exponent=-0.767053\n",
            "     p.d.f normalization integral is zero or negative @ x=M_m0=5286.3, c=exponent=-0.767053\n",
            "     p.d.f normalization integral is zero or negative @ x=M_m0=5289.99, c=exponent=-0.767053\n",
            "     p.d.f normalization integral is zero or negative @ x=M_m0=5297.06, c=exponent=-0.767053\n",
            "     p.d.f normalization integral is zero or negative @ x=M_m0=5133.36, c=exponent=-0.767053\n",
            "     p.d.f normalization integral is zero or negative @ x=M_m0=5322.49, c=exponent=-0.767053\n",
            "     p.d.f normalization integral is zero or negative @ x=M_m0=5110.45, c=exponent=-0.767053\n",
            "     p.d.f normalization integral is zero or negative @ x=M_m0=5118.18, c=exponent=-0.767053\n",
            "     p.d.f normalization integral is zero or negative @ x=M_m0=5232.76, c=exponent=-0.767053\n",
            "     p.d.f normalization integral is zero or negative @ x=M_m0=5281.54, c=exponent=-0.767053\n",
            "     p.d.f normalization integral is zero or negative @ x=M_m0=5270.16, c=exponent=-0.767053\n",
            "    ... (remaining 2038 messages suppressed)\n",
            "\n",
            "[#0] WARNING:Minization -- RooMinimizerFcn: Minimized function has error status.\n",
            "Returning maximum FCN so far (175943) to force MIGRAD to back out of this region. Error log follows\n",
            "Parameter values: Mean=5345.23, Width=16.1533, cbMean=5347.4, cbWidth=49.624, cba=3.58508, cbn=4.0836, combined norm=0.249633, combined_signal_norm=2.38876e+06, exp_Norm=3.10021e+06, exponent=0.943695\n",
            "RooNLLVar::nll_Full Model_Data Set[ paramSet=(Mean,Width,cbMean,cbWidth,cba,cbn,combined norm,combined_signal_norm,exp_Norm,exponent) ]\n",
            "     function value is NAN @ paramSet=(Mean = 5345.23,Width = 16.1533,cbMean = 5347.4,cbWidth = 49.624,cba = 3.58508,cbn = 4.0836,combined norm = 0.249633,combined_signal_norm = 2.38876e+06,exp_Norm = 3.10021e+06,exponent = 0.943695)\n",
            "RooAddPdf::Full Model[ combined_signal_norm * Combined Signal + exp_Norm * Exponential Background ]\n",
            "     p.d.f value is Not-a-Number (-nan), forcing value to zero @ !refCoefNorm=(), !pdfs=(Combined Signal = 0.00317165/1,Exponential Background = inf/-nan), !coefficients=(combined_signal_norm = 2.38876e+06,exp_Norm = 3.10021e+06)\n",
            "     getLogVal() top-level p.d.f evaluates to zero @ !refCoefNorm=(), !pdfs=(Combined Signal = 0.00317165/1,Exponential Background = inf/-nan), !coefficients=(combined_signal_norm = 2.38876e+06,exp_Norm = 3.10021e+06)\n",
            "     p.d.f value is Not-a-Number (-nan), forcing value to zero @ !refCoefNorm=(), !pdfs=(Combined Signal = 4.48762e-07/1,Exponential Background = inf/-nan), !coefficients=(combined_signal_norm = 2.38876e+06,exp_Norm = 3.10021e+06)\n",
            "     getLogVal() top-level p.d.f evaluates to zero @ !refCoefNorm=(), !pdfs=(Combined Signal = 4.48762e-07/1,Exponential Background = inf/-nan), !coefficients=(combined_signal_norm = 2.38876e+06,exp_Norm = 3.10021e+06)\n",
            "     p.d.f value is Not-a-Number (-nan), forcing value to zero @ !refCoefNorm=(), !pdfs=(Combined Signal = 0.00200285/1,Exponential Background = inf/-nan), !coefficients=(combined_signal_norm = 2.38876e+06,exp_Norm = 3.10021e+06)\n",
            "     getLogVal() top-level p.d.f evaluates to zero @ !refCoefNorm=(), !pdfs=(Combined Signal = 0.00200285/1,Exponential Background = inf/-nan), !coefficients=(combined_signal_norm = 2.38876e+06,exp_Norm = 3.10021e+06)\n",
            "     p.d.f value is Not-a-Number (-nan), forcing value to zero @ !refCoefNorm=(), !pdfs=(Combined Signal = 0.00357196/1,Exponential Background = inf/-nan), !coefficients=(combined_signal_norm = 2.38876e+06,exp_Norm = 3.10021e+06)\n",
            "     getLogVal() top-level p.d.f evaluates to zero @ !refCoefNorm=(), !pdfs=(Combined Signal = 0.00357196/1,Exponential Background = inf/-nan), !coefficients=(combined_signal_norm = 2.38876e+06,exp_Norm = 3.10021e+06)\n",
            "     p.d.f value is Not-a-Number (-nan), forcing value to zero @ !refCoefNorm=(), !pdfs=(Combined Signal = 0.00381412/1,Exponential Background = inf/-nan), !coefficients=(combined_signal_norm = 2.38876e+06,exp_Norm = 3.10021e+06)\n",
            "     getLogVal() top-level p.d.f evaluates to zero @ !refCoefNorm=(), !pdfs=(Combined Signal = 0.00381412/1,Exponential Background = inf/-nan), !coefficients=(combined_signal_norm = 2.38876e+06,exp_Norm = 3.10021e+06)\n",
            "     p.d.f value is Not-a-Number (-nan), forcing value to zero @ !refCoefNorm=(), !pdfs=(Combined Signal = 0.00339366/1,Exponential Background = inf/-nan), !coefficients=(combined_signal_norm = 2.38876e+06,exp_Norm = 3.10021e+06)\n",
            "     getLogVal() top-level p.d.f evaluates to zero @ !refCoefNorm=(), !pdfs=(Combined Signal = 0.00339366/1,Exponential Background = inf/-nan), !coefficients=(combined_signal_norm = 2.38876e+06,exp_Norm = 3.10021e+06)\n",
            "    ... (remaining 2038 messages suppressed)\n",
            "RooRealIntegral::Exponential Background_Int[M_m0][ Int Exponential Backgroundd[Ana](M_m0) ]\n",
            "     function value is NAN @ !sumList=(), !intList=(), !anaList=(M_m0 = 5323.05), !jacList=(), !facList=(), !func=Exponential Background=inf/-0, !sumCat=()\n",
            "\n",
            "[#0] WARNING:Minization -- RooMinimizerFcn: Minimized function has error status.\n",
            "Returning maximum FCN so far (175943) to force MIGRAD to back out of this region. Error log follows\n",
            "Parameter values: Mean=5335.08, Width=20.6038, cbMean=5278.77, cbWidth=4.19071, cba=23.9289, cbn=2.28221, combined norm=0.192496, combined_signal_norm=3.56608e+06, exp_Norm=9.92355e+06, exponent=0.760955\n",
            "RooNLLVar::nll_Full Model_Data Set[ paramSet=(Mean,Width,cbMean,cbWidth,cba,cbn,combined norm,combined_signal_norm,exp_Norm,exponent) ]\n",
            "     function value is NAN @ paramSet=(Mean = 5335.08,Width = 20.6038,cbMean = 5278.77,cbWidth = 4.19071,cba = 23.9289,cbn = 2.28221,combined norm = 0.192496,combined_signal_norm = 3.56608e+06,exp_Norm = 9.92355e+06,exponent = 0.760955)\n",
            "RooAddPdf::Full Model[ combined_signal_norm * Combined Signal + exp_Norm * Exponential Background ]\n",
            "     p.d.f value is Not-a-Number (-nan), forcing value to zero @ !refCoefNorm=(), !pdfs=(Combined Signal = 0.0016166/1,Exponential Background = inf/-nan), !coefficients=(combined_signal_norm = 3.56608e+06,exp_Norm = 9.92355e+06)\n",
            "     getLogVal() top-level p.d.f evaluates to zero @ !refCoefNorm=(), !pdfs=(Combined Signal = 0.0016166/1,Exponential Background = inf/-nan), !coefficients=(combined_signal_norm = 3.56608e+06,exp_Norm = 9.92355e+06)\n",
            "     p.d.f value is Not-a-Number (-nan), forcing value to zero @ !refCoefNorm=(), !pdfs=(Combined Signal = 4.87409e-30/1,Exponential Background = inf/-nan), !coefficients=(combined_signal_norm = 3.56608e+06,exp_Norm = 9.92355e+06)\n",
            "     getLogVal() top-level p.d.f evaluates to zero @ !refCoefNorm=(), !pdfs=(Combined Signal = 4.87409e-30/1,Exponential Background = inf/-nan), !coefficients=(combined_signal_norm = 3.56608e+06,exp_Norm = 9.92355e+06)\n",
            "     p.d.f value is Not-a-Number (-nan), forcing value to zero @ !refCoefNorm=(), !pdfs=(Combined Signal = 0.036784/1,Exponential Background = inf/-nan), !coefficients=(combined_signal_norm = 3.56608e+06,exp_Norm = 9.92355e+06)\n",
            "     getLogVal() top-level p.d.f evaluates to zero @ !refCoefNorm=(), !pdfs=(Combined Signal = 0.036784/1,Exponential Background = inf/-nan), !coefficients=(combined_signal_norm = 3.56608e+06,exp_Norm = 9.92355e+06)\n",
            "     p.d.f value is Not-a-Number (-nan), forcing value to zero @ !refCoefNorm=(), !pdfs=(Combined Signal = 0.000624665/1,Exponential Background = inf/-nan), !coefficients=(combined_signal_norm = 3.56608e+06,exp_Norm = 9.92355e+06)\n",
            "     getLogVal() top-level p.d.f evaluates to zero @ !refCoefNorm=(), !pdfs=(Combined Signal = 0.000624665/1,Exponential Background = inf/-nan), !coefficients=(combined_signal_norm = 3.56608e+06,exp_Norm = 9.92355e+06)\n",
            "     p.d.f value is Not-a-Number (-nan), forcing value to zero @ !refCoefNorm=(), !pdfs=(Combined Signal = 0.000775117/1,Exponential Background = inf/-nan), !coefficients=(combined_signal_norm = 3.56608e+06,exp_Norm = 9.92355e+06)\n",
            "     getLogVal() top-level p.d.f evaluates to zero @ !refCoefNorm=(), !pdfs=(Combined Signal = 0.000775117/1,Exponential Background = inf/-nan), !coefficients=(combined_signal_norm = 3.56608e+06,exp_Norm = 9.92355e+06)\n",
            "     p.d.f value is Not-a-Number (-nan), forcing value to zero @ !refCoefNorm=(), !pdfs=(Combined Signal = 0.000635941/1,Exponential Background = inf/-nan), !coefficients=(combined_signal_norm = 3.56608e+06,exp_Norm = 9.92355e+06)\n",
            "     getLogVal() top-level p.d.f evaluates to zero @ !refCoefNorm=(), !pdfs=(Combined Signal = 0.000635941/1,Exponential Background = inf/-nan), !coefficients=(combined_signal_norm = 3.56608e+06,exp_Norm = 9.92355e+06)\n",
            "    ... (remaining 2038 messages suppressed)\n",
            "RooRealIntegral::Exponential Background_Int[M_m0][ Int Exponential Backgroundd[Ana](M_m0) ]\n",
            "     function value is NAN @ !sumList=(), !intList=(), !anaList=(M_m0 = 5323.05), !jacList=(), !facList=(), !func=Exponential Background=inf/-nan, !sumCat=()\n",
            "\n",
            "[#0] WARNING:Minization -- RooMinimizerFcn: Minimized function has error status.\n",
            "Returning maximum FCN so far (175943) to force MIGRAD to back out of this region. Error log follows\n",
            "Parameter values: Mean=5307.32, Width=22.8186, cbMean=5323.77, cbWidth=3.86271, cba=10.1281, cbn=1.54323, combined norm=0.166908, combined_signal_norm=334748, exp_Norm=9.17657e+06, exponent=-0.989377\n",
            "RooExponential::Exponential Background[ x=M_m0 c=exponent ]\n",
            "     p.d.f normalization integral is zero or negative @ x=M_m0=5279.88, c=exponent=-0.989377\n",
            "     p.d.f normalization integral is zero or negative @ x=M_m0=5287.84, c=exponent=-0.989377\n",
            "     p.d.f normalization integral is zero or negative @ x=M_m0=5286.3, c=exponent=-0.989377\n",
            "     p.d.f normalization integral is zero or negative @ x=M_m0=5289.99, c=exponent=-0.989377\n",
            "     p.d.f normalization integral is zero or negative @ x=M_m0=5297.06, c=exponent=-0.989377\n",
            "     p.d.f normalization integral is zero or negative @ x=M_m0=5133.36, c=exponent=-0.989377\n",
            "     p.d.f normalization integral is zero or negative @ x=M_m0=5322.49, c=exponent=-0.989377\n",
            "     p.d.f normalization integral is zero or negative @ x=M_m0=5110.45, c=exponent=-0.989377\n",
            "     p.d.f normalization integral is zero or negative @ x=M_m0=5118.18, c=exponent=-0.989377\n",
            "     p.d.f normalization integral is zero or negative @ x=M_m0=5232.76, c=exponent=-0.989377\n",
            "     p.d.f normalization integral is zero or negative @ x=M_m0=5281.54, c=exponent=-0.989377\n",
            "     p.d.f normalization integral is zero or negative @ x=M_m0=5270.16, c=exponent=-0.989377\n",
            "    ... (remaining 2038 messages suppressed)\n",
            "\n",
            "[#0] WARNING:Minization -- RooMinimizerFcn: Minimized function has error status.\n",
            "Returning maximum FCN so far (1.23102e+07) to force MIGRAD to back out of this region. Error log follows\n",
            "Parameter values: Mean=5287.14, Width=24.1239, cbMean=5286.31, cbWidth=16.8028, cba=2.13379, cbn=1.16617, combined norm=0.152613, combined_signal_norm=233193, exp_Norm=68737.5, exponent=0.301397\n",
            "RooNLLVar::nll_Full Model_Data Set[ paramSet=(Mean,Width,cbMean,cbWidth,cba,cbn,combined norm,combined_signal_norm,exp_Norm,exponent) ]\n",
            "     function value is NAN @ paramSet=(Mean = 5287.14,Width = 24.1239,cbMean = 5286.31,cbWidth = 16.8028,cba = 2.13379,cbn = 1.16617,combined norm = 0.152613,combined_signal_norm = 233193,exp_Norm = 68737.5,exponent = 0.301397)\n",
            "RooAddPdf::Full Model[ combined_signal_norm * Combined Signal + exp_Norm * Exponential Background ]\n",
            "     p.d.f value is Not-a-Number (-nan), forcing value to zero @ !refCoefNorm=(), !pdfs=(Combined Signal = 0.0211449/1,Exponential Background = inf/-nan), !coefficients=(combined_signal_norm = 233193,exp_Norm = 68737.5)\n",
            "     getLogVal() top-level p.d.f evaluates to zero @ !refCoefNorm=(), !pdfs=(Combined Signal = 0.0211449/1,Exponential Background = inf/-nan), !coefficients=(combined_signal_norm = 233193,exp_Norm = 68737.5)\n",
            "     p.d.f value is Not-a-Number (-nan), forcing value to zero @ !refCoefNorm=(), !pdfs=(Combined Signal = 7.41486e-05/1,Exponential Background = inf/-nan), !coefficients=(combined_signal_norm = 233193,exp_Norm = 68737.5)\n",
            "     getLogVal() top-level p.d.f evaluates to zero @ !refCoefNorm=(), !pdfs=(Combined Signal = 7.41486e-05/1,Exponential Background = inf/-nan), !coefficients=(combined_signal_norm = 233193,exp_Norm = 68737.5)\n",
            "     p.d.f value is Not-a-Number (-nan), forcing value to zero @ !refCoefNorm=(), !pdfs=(Combined Signal = 0.0167273/1,Exponential Background = inf/-nan), !coefficients=(combined_signal_norm = 233193,exp_Norm = 68737.5)\n",
            "     getLogVal() top-level p.d.f evaluates to zero @ !refCoefNorm=(), !pdfs=(Combined Signal = 0.0167273/1,Exponential Background = inf/-nan), !coefficients=(combined_signal_norm = 233193,exp_Norm = 68737.5)\n",
            "     p.d.f value is Not-a-Number (-nan), forcing value to zero @ !refCoefNorm=(), !pdfs=(Combined Signal = 0.0188557/1,Exponential Background = inf/-nan), !coefficients=(combined_signal_norm = 233193,exp_Norm = 68737.5)\n",
            "     getLogVal() top-level p.d.f evaluates to zero @ !refCoefNorm=(), !pdfs=(Combined Signal = 0.0188557/1,Exponential Background = inf/-nan), !coefficients=(combined_signal_norm = 233193,exp_Norm = 68737.5)\n",
            "     p.d.f value is Not-a-Number (-nan), forcing value to zero @ !refCoefNorm=(), !pdfs=(Combined Signal = 0.0170801/1,Exponential Background = inf/-nan), !coefficients=(combined_signal_norm = 233193,exp_Norm = 68737.5)\n",
            "     getLogVal() top-level p.d.f evaluates to zero @ !refCoefNorm=(), !pdfs=(Combined Signal = 0.0170801/1,Exponential Background = inf/-nan), !coefficients=(combined_signal_norm = 233193,exp_Norm = 68737.5)\n",
            "     p.d.f value is Not-a-Number (-nan), forcing value to zero @ !refCoefNorm=(), !pdfs=(Combined Signal = 0.0200166/1,Exponential Background = inf/-nan), !coefficients=(combined_signal_norm = 233193,exp_Norm = 68737.5)\n",
            "     getLogVal() top-level p.d.f evaluates to zero @ !refCoefNorm=(), !pdfs=(Combined Signal = 0.0200166/1,Exponential Background = inf/-nan), !coefficients=(combined_signal_norm = 233193,exp_Norm = 68737.5)\n",
            "    ... (remaining 2038 messages suppressed)\n",
            "RooRealIntegral::Exponential Background_Int[M_m0][ Int Exponential Backgroundd[Ana](M_m0) ]\n",
            "     function value is NAN @ !sumList=(), !intList=(), !anaList=(M_m0 = 5323.05), !jacList=(), !facList=(), !func=Exponential Background=inf/7.38206e-256, !sumCat=()\n",
            "\n",
            " MIGRAD FAILS TO FIND IMPROVEMENT\n",
            " MIGRAD TERMINATED WITHOUT CONVERGENCE.\n",
            " FCN=-29551.9 FROM MIGRAD    STATUS=FAILED        837 CALLS         838 TOTAL\n",
            "                     EDM=68.5267    STRATEGY= 1      ERR MATRIX NOT POS-DEF\n",
            "  EXT PARAMETER                APPROXIMATE        STEP         FIRST   \n",
            "  NO.   NAME      VALUE            ERROR          SIZE      DERIVATIVE \n",
            "   1  Mean         5.28686e+03   1.10885e+02   0.00000e+00  -5.51736e+01\n",
            "   2  Width        2.41411e+01   3.57836e+01  -0.00000e+00   6.69818e+00\n",
            "   3  cbMean       5.28408e+03   1.10307e+02   0.00000e+00  -4.43011e+02\n",
            "   4  cbWidth      1.70127e+01   3.33426e+01  -0.00000e+00   1.31010e+02\n",
            "   5  cba          2.06192e+00   1.27658e+01   0.00000e+00  -1.53876e+02\n",
            "   6  cbn          1.16151e+00   2.08147e+00   0.00000e+00  -1.67460e+00\n",
            "   7  combined norm   1.52428e-01   7.50778e-01  -0.00000e+00   5.53577e+00\n",
            "   8  combined_signal_norm   7.33716e+03   6.37140e+06   0.00000e+00  -3.67026e+03\n",
            "   9  exp_Norm     2.66219e+03   6.42081e+06  -0.00000e+00   2.88847e+03\n",
            "  10  exponent    -2.20174e-03   1.44124e+00   0.00000e+00  -4.54196e+03\n",
            "                               ERR DEF= 0.5\n",
            " EXTERNAL ERROR MATRIX.    NDIM=  25    NPAR= 10    ERR DEF=0.5\n",
            "  6.445e+03 -4.237e+00 -5.508e-01  2.898e-01 -3.054e-01  2.285e+00 -9.799e-04 -5.136e+02  4.356e+02 -4.298e-04 \n",
            " -4.237e+00  7.263e+02 -3.657e-01  1.147e+00 -1.119e+00  9.573e+00 -9.687e-02 -2.278e+03  1.943e+03 -1.870e-03 \n",
            " -5.508e-01 -3.657e-01  6.508e+03  7.605e-02 -6.329e-02  5.454e-01 -4.271e-03 -1.295e+02  1.101e+02 -1.028e-04 \n",
            "  2.898e-01  1.147e+00  7.605e-02  6.589e+02  1.048e-01 -8.322e-01  1.156e-02  1.965e+02 -1.675e+02  1.549e-04 \n",
            " -3.054e-01 -1.119e+00 -6.329e-02  1.048e-01  5.543e+01  8.544e-01 -9.836e-03 -2.071e+02  1.783e+02 -1.662e-04 \n",
            "  2.285e+00  9.573e+00  5.454e-01 -8.322e-01  8.544e-01  5.133e+00  8.216e-02  1.661e+03 -1.423e+03  1.324e-03 \n",
            " -9.799e-04 -9.687e-02 -4.271e-03  1.156e-02 -9.836e-03  8.216e-02  1.512e-01 -1.963e+01  1.682e+01 -1.554e-05 \n",
            " -5.136e+02 -2.278e+03 -1.295e+02  1.965e+02 -2.071e+02  1.661e+03 -1.963e+01  8.833e+10  3.389e+05 -3.175e-01 \n",
            "  4.356e+02  1.943e+03  1.101e+02 -1.675e+02  1.783e+02 -1.423e+03  1.682e+01  3.389e+05  3.206e+10  2.725e-01 \n",
            " -4.298e-04 -1.870e-03 -1.028e-04  1.549e-04 -1.662e-04  1.324e-03 -1.554e-05 -3.175e-01  2.725e-01  1.174e+00 \n",
            "ERR MATRIX NOT POS-DEF\n",
            " PARAMETER  CORRELATION COEFFICIENTS  \n",
            "       NO.  GLOBAL      1      2      3      4      5      6      7      8      9     10\n",
            "        1  0.01330   1.000 -0.002 -0.000  0.000 -0.001  0.013 -0.000 -0.000  0.000 -0.000\n",
            "        2  0.15930  -0.002  1.000 -0.000  0.002 -0.006  0.157 -0.009 -0.000  0.000 -0.000\n",
            "        3  0.00310  -0.000 -0.000  1.000  0.000 -0.000  0.003 -0.000 -0.000  0.000 -0.000\n",
            "        4  0.01514   0.000  0.002  0.000  1.000  0.001 -0.014  0.001  0.000 -0.000  0.000\n",
            "        5  0.05318  -0.001 -0.006 -0.000  0.001  1.000  0.051 -0.003 -0.000  0.000 -0.000\n",
            "        6  0.19145   0.013  0.157  0.003 -0.014  0.051  1.000  0.093  0.002 -0.004  0.001\n",
            "        7  0.09677  -0.000 -0.009 -0.000  0.001 -0.003  0.093  1.000 -0.000  0.000 -0.000\n",
            "        8  0.00260  -0.000 -0.000 -0.000  0.000 -0.000  0.002 -0.000  1.000  0.000 -0.000\n",
            "        9  0.00370   0.000  0.000  0.000 -0.000  0.000 -0.004  0.000  0.000  1.000  0.000\n",
            "       10  0.00057  -0.000 -0.000 -0.000  0.000 -0.000  0.001 -0.000 -0.000  0.000  1.000\n",
            " ERR MATRIX NOT POS-DEF\n",
            " **********\n",
            " **    7 **SET ERR         0.5\n",
            " **********\n",
            " **********\n",
            " **    8 **SET PRINT           1\n",
            " **********\n",
            " **********\n",
            " **    9 **HESSE        5000\n",
            " **********\n",
            " EIGENVALUES OF SECOND-DERIVATIVE MATRIX:\n",
            "        -5.4901e-02  1.9536e-03  2.0955e-01  3.1344e-01  3.5121e-01  8.5483e-01  1.1552e+00  1.5560e+00  2.5352e+00  3.0775e+00\n",
            " MINUIT WARNING IN HESSE   \n",
            " ============== MATRIX FORCED POS-DEF BY ADDING 0.057979 TO DIAGONAL.\n",
            " FCN=-29551.9 FROM HESSE     STATUS=NOT POSDEF     86 CALLS         924 TOTAL\n",
            "                     EDM=100.168    STRATEGY= 1      ERR MATRIX NOT POS-DEF\n",
            "  EXT PARAMETER                APPROXIMATE     INTERNAL      INTERNAL  \n",
            "  NO.   NAME      VALUE            ERROR       STEP SIZE       VALUE   \n",
            "   1  Mean         5.28686e+03   6.82485e+00   2.56345e-03   1.58854e-01\n",
            "   2  Width        2.41411e+01   1.04197e+01   5.94422e-03  -3.43625e-02\n",
            "   3  cbMean       5.28408e+03   1.71035e+00   4.32925e-04   1.21314e-01\n",
            "   4  cbWidth      1.70127e+01   1.30432e+00   1.18541e-03  -3.25195e-01\n",
            "   5  cba          2.06192e+00   2.51770e-01   1.01832e-03   5.29497e+00\n",
            "   6  cbn          1.16151e+00   4.84052e-01   5.75662e-03  -8.75242e-01\n",
            "   7  combined norm   1.52428e-01   2.77994e-01   8.99570e-03   3.91021e+00\n",
            "   8  combined_signal_norm   7.33716e+03   1.77026e+02   3.86350e-05  -1.51731e+00\n",
            "   9  exp_Norm     2.66219e+03   1.67734e+02   4.25483e-05  -1.53858e+00\n",
            "  10  exponent    -2.20174e-03   2.05831e-04   1.72332e-05  -2.20174e-03\n",
            "                               ERR DEF= 0.5\n",
            " EXTERNAL ERROR MATRIX.    NDIM=  25    NPAR= 10    ERR DEF=0.5\n",
            "  4.671e+01 -6.811e+01 -1.130e+01 -8.086e+00 -1.514e+00 -1.612e+00 -2.011e+00  7.658e+02 -7.836e+02  5.779e-04 \n",
            " -6.811e+01  1.155e+02  1.779e+01  1.319e+01  2.449e+00  2.664e+00  3.371e+00 -1.190e+03  1.218e+03 -1.010e-03 \n",
            " -1.130e+01  1.779e+01  2.926e+00  2.102e+00  3.810e-01  4.353e-01  5.280e-01 -1.951e+02  1.996e+02 -1.549e-04 \n",
            " -8.086e+00  1.319e+01  2.102e+00  1.703e+00  2.894e-01  3.179e-01  4.037e-01 -1.430e+02  1.463e+02 -1.114e-04 \n",
            " -1.514e+00  2.449e+00  3.810e-01  2.894e-01  6.342e-02  2.561e-02  7.168e-02 -2.151e+01  2.201e+01 -1.496e-05 \n",
            " -1.612e+00  2.664e+00  4.353e-01  3.179e-01  2.561e-02  2.361e-01  8.210e-02 -6.769e+01  6.925e+01 -6.750e-05 \n",
            " -2.011e+00  3.371e+00  5.280e-01  4.037e-01  7.168e-02  8.210e-02  1.010e-01 -3.616e+01  3.700e+01 -2.906e-05 \n",
            "  7.658e+02 -1.190e+03 -1.951e+02 -1.430e+02 -2.151e+01 -6.769e+01 -3.616e+01  3.134e+04 -2.498e+04  2.057e-02 \n",
            " -7.836e+02  1.218e+03  1.996e+02  1.463e+02  2.201e+01  6.925e+01  3.700e+01 -2.498e+04  2.813e+04 -2.105e-02 \n",
            "  5.779e-04 -1.010e-03 -1.549e-04 -1.114e-04 -1.496e-05 -6.750e-05 -2.906e-05  2.057e-02 -2.105e-02  4.237e-08 \n",
            "ERR MATRIX NOT POS-DEF\n",
            " PARAMETER  CORRELATION COEFFICIENTS  \n",
            "       NO.  GLOBAL      1      2      3      4      5      6      7      8      9     10\n",
            "        1  0.97353   1.000 -0.927 -0.966 -0.907 -0.880 -0.486 -0.926  0.633 -0.684  0.411\n",
            "        2  0.99358  -0.927  1.000  0.968  0.940  0.905  0.510  0.987 -0.626  0.676 -0.456\n",
            "        3  0.98808  -0.966  0.968  1.000  0.942  0.884  0.524  0.971 -0.644  0.696 -0.440\n",
            "        4  0.98442  -0.907  0.940  0.942  1.000  0.881  0.501  0.973 -0.619  0.669 -0.415\n",
            "        5  0.97765  -0.880  0.905  0.884  0.881  1.000  0.209  0.896 -0.483  0.521 -0.289\n",
            "        6  0.96576  -0.486  0.510  0.524  0.501  0.209  1.000  0.532 -0.787  0.850 -0.675\n",
            "        7  0.99667  -0.926  0.987  0.971  0.973  0.896  0.532  1.000 -0.643  0.694 -0.444\n",
            "        8  0.87130   0.633 -0.626 -0.644 -0.619 -0.483 -0.787 -0.643  1.000 -0.841  0.565\n",
            "        9  0.93841  -0.684  0.676  0.696  0.669  0.521  0.850  0.694 -0.841  1.000 -0.610\n",
            "       10  0.72316   0.411 -0.456 -0.440 -0.415 -0.289 -0.675 -0.444  0.565 -0.610  1.000\n",
            " ERR MATRIX NOT POS-DEF\n",
            "[#1] INFO:Minization -- RooMinimizer::optimizeConst: deactivating const optimization\n"
          ],
          "name": "stdout"
        }
      ]
    },
    {
      "cell_type": "code",
      "metadata": {
        "colab": {
          "base_uri": "https://localhost:8080/",
          "height": 586
        },
        "id": "46S0gQ4yl30O",
        "outputId": "5fd99d23-92ab-4b30-a792-e9f73501f94d"
      },
      "source": [
        "c1=ROOT.TCanvas(\"c1\",\"c1\")\r\n",
        "c1.Draw()\r\n",
        "frame=mass.frame()\r\n",
        "data_to_fit.plotOn(frame)\r\n",
        "#Signal\r\n",
        "model.plotOn(frame, ROOT.RooFit.Components(\"Gaussian Signal\"),ROOT.RooFit.LineColor(8),ROOT.RooFit.LineStyle(2))\r\n",
        "#Exponential\r\n",
        "model.plotOn(frame, ROOT.RooFit.Components(\"Exponential Background\"),ROOT.RooFit.LineColor(46),ROOT.RooFit.LineStyle(2))\r\n",
        "#CB\r\n",
        "model.plotOn(frame, ROOT.RooFit.Components(\"Crystal Ball\"),ROOT.RooFit.LineColor(30),ROOT.RooFit.LineStyle(2))\r\n",
        "#Best fit\r\n",
        "model.plotOn(frame)\r\n",
        "frame.Draw()\r\n",
        "c1.Update()"
      ],
      "execution_count": null,
      "outputs": [
        {
          "output_type": "stream",
          "text": [
            "[#1] INFO:Plotting -- RooAbsPdf::plotOn(Full Model) directly selected PDF components: (Gaussian Signal)\n",
            "[#1] INFO:Plotting -- RooAbsPdf::plotOn(Full Model) indirectly selected PDF components: (Combined Signal)\n",
            "[#1] INFO:Plotting -- RooAbsPdf::plotOn(Full Model) directly selected PDF components: (Exponential Background)\n",
            "[#1] INFO:Plotting -- RooAbsPdf::plotOn(Full Model) indirectly selected PDF components: ()\n",
            "[#1] INFO:Plotting -- RooAbsPdf::plotOn(Full Model) directly selected PDF components: (Crystal Ball)\n",
            "[#1] INFO:Plotting -- RooAbsPdf::plotOn(Full Model) indirectly selected PDF components: (Combined Signal)\n"
          ],
          "name": "stdout"
        },
        {
          "output_type": "display_data",
          "data": {
            "image/png": "[encoded data removed]",
            "text/plain": [
              "<IPython.core.display.Image object>"
            ]
          },
          "metadata": {
            "tags": []
          }
        }
      ]
    },
    {
      "cell_type": "code",
      "metadata": {
        "colab": {
          "base_uri": "https://localhost:8080/"
        },
        "id": "sE9zMxgog9l3",
        "outputId": "3afc4bff-3d5c-44a0-9dcb-78144aa6787c"
      },
      "source": [
        "#Plot 2 CB + Gauss + Exponential\r\n",
        "print(\"Combined Signal Yield = \" + str(combined_signal_norm.getValV()))\r\n",
        "print(\"Combined Signal Error = \" + str(combined_signal_norm.getError()))\r\n",
        "print(\"\")\r\n",
        "\r\n",
        "print(\"Background = \" + str(Bkgnd.getValV()))\r\n",
        "print(\"\")\r\n",
        "\r\n",
        "print(\"chi squared = \" + str(frame.chiSquare()))"
      ],
      "execution_count": null,
      "outputs": [
        {
          "output_type": "stream",
          "text": [
            "Combined Signal Yield = 7337.16227458\n",
            "Combined Signal Error = 177.026010725\n",
            "\n",
            "Background = 9.54866383603e-06\n",
            "\n",
            "chi squared = 21.0075511449\n"
          ],
          "name": "stdout"
        }
      ]
    },
    {
      "cell_type": "code",
      "metadata": {
        "id": "YasnTql8WA9E"
      },
      "source": [
        "mass = ROOT.RooRealVar(\"M_m0\",\"Mass\",5100,5400,\"MeV/C^{2}\")\r\n",
        "\r\n",
        "#We also need a background, so let's use a (simple) exponential:\r\n",
        "exponent=ROOT.RooRealVar(\"exponent\", \"C\", -0.02, -1, +1)\r\n",
        "exp_Norm= ROOT.RooRealVar(\"exp_Norm\",\"Background Yield\", tree.GetEntries()/30, 0, tree.GetEntries() * 3)\r\n",
        "\r\n",
        "#Define the  model for the background:\r\n",
        "Bkgnd=ROOT.RooExponential(\"Exponential Background\",\"Bkgnd\",mass,exponent)\r\n",
        "\r\n",
        "#Crystal Ball Model 1\r\n",
        "cbMean1=ROOT.RooRealVar(\"cbMean1\",\"cbMean1\",5300,5200,5350)\r\n",
        "cbWidth1=ROOT.RooRealVar(\"cbWidth1\",\"cbWidth1\",10,0,40)\r\n",
        "cbn1=ROOT.RooRealVar(\"cbn1\",\"cbn1\", 3, 0, 10)\r\n",
        "cba1=ROOT.RooRealVar(\"cba1\",\"cba1\", 8, 0, 10)\r\n",
        "CB1=ROOT.RooCBShape(\"Crystal Ball 1\", \"CB1\", mass, cbMean1, cbWidth1, cba1, cbn1)\r\n",
        "CB_Norm1=ROOT.RooRealVar(\"CB_Norm 1\",\"Crystal Ball Norm 1\", tree.GetEntries()/30, 0, tree.GetEntries() * 2)\r\n",
        "\r\n",
        "#Crystal Ball Model 2\r\n",
        "cbMean2=ROOT.RooRealVar(\"cbMean2\",\"cbMean2\",5300,5200,5350)\r\n",
        "cbWidth2=ROOT.RooRealVar(\"cbWidth2\",\"cbWidth2\",25,0,40)\r\n",
        "cbn2=ROOT.RooRealVar(\"cbn2\",\"cbn2\", 7, 0, 10)\r\n",
        "cba2=ROOT.RooRealVar(\"cba2\",\"cba2\", 4, 0, 10)\r\n",
        "CB2=ROOT.RooCBShape(\"Crystal Ball 2\", \"CB2\", mass, cbMean2, cbWidth2, cba2, cbn2)\r\n",
        "CB_Norm2=ROOT.RooRealVar(\"CB_Norm 2\",\"Crystal Ball Norm 2\", tree.GetEntries()/30, 0, tree.GetEntries() * 2)\r\n",
        "\r\n",
        "#making signal function from the two CB's\r\n",
        "combine_norm=ROOT.RooRealVar(\"combined norm\", \"combined_norm\", 0.5, 0, 1)\r\n",
        "combined_signal=ROOT.RooAddPdf(\"Combined Signal\", \"combined_signal\", CB1, CB2, combine_norm)\r\n",
        "combined_signal_norm=ROOT.RooRealVar(\"combined_signal_norm\",\"combined signal norm\", tree.GetEntries()/30, 0, tree.GetEntries() * 3)"
      ],
      "execution_count": null,
      "outputs": []
    },
    {
      "cell_type": "code",
      "metadata": {
        "colab": {
          "base_uri": "https://localhost:8080/"
        },
        "id": "bYD6Q-XxWhWt",
        "outputId": "d343b30b-5e65-4838-f278-23ffef2b4fe7"
      },
      "source": [
        "#Now we need to combine these two functions into a single PDF (probability density function)\r\n",
        "#and we need to add the normalisation factors at the end as scaling factors\r\n",
        "\r\n",
        "model=ROOT.RooAddPdf(\"Full Model\",\"model\",ROOT.RooArgList(combined_signal, Bkgnd),ROOT.RooArgList(combined_signal_norm, exp_Norm))\r\n",
        "\r\n",
        "data_to_fit=ROOT.RooDataSet(\"Data Set\",\"data_to_fit\", CutTree, ROOT.RooArgSet(mass))\r\n",
        "\r\n",
        "\r\n",
        "model.fitTo(data_to_fit)"
      ],
      "execution_count": null,
      "outputs": [
        {
          "output_type": "execute_result",
          "data": {
            "text/plain": [
              "<ROOT.RooFitResult object at 0x(nil)>"
            ]
          },
          "metadata": {
            "tags": []
          },
          "execution_count": 26
        },
        {
          "output_type": "stream",
          "text": [
            "[#1] INFO:Eval -- RooAbsReal::attachToTree(M_m0) TTree Float_t branch M_m0 will be converted to double precision\n",
            "[#1] INFO:Eval -- RooTreeDataStore::loadValues(Data Set) Ignored 2691 out of range events\n",
            "[#1] INFO:Minization -- p.d.f. provides expected number of events, including extended term in likelihood.\n",
            "[#1] INFO:Minization -- RooMinimizer::optimizeConst: activating const optimization\n",
            "[#1] INFO:Minization --  The following expressions will be evaluated in cache-and-track mode: (Crystal Ball 1,Crystal Ball 2,Exponential Background)\n",
            " **********\n",
            " **    1 **SET PRINT           1\n",
            " **********\n",
            " **********\n",
            " **    2 **SET NOGRAD\n",
            " **********\n",
            " PARAMETER DEFINITIONS:\n",
            "    NO.   NAME         VALUE      STEP SIZE      LIMITS\n",
            "     1 cbMean1      5.30000e+03  1.50000e+01    5.20000e+03  5.35000e+03\n",
            "     2 cbMean2      5.30000e+03  1.50000e+01    5.20000e+03  5.35000e+03\n",
            "     3 cbWidth1     1.00000e+01  4.00000e+00    0.00000e+00  4.00000e+01\n",
            "     4 cbWidth2     2.50000e+01  4.00000e+00    0.00000e+00  4.00000e+01\n",
            "     5 cba1         8.00000e+00  1.00000e+00    0.00000e+00  1.00000e+01\n",
            "     6 cba2         4.00000e+00  1.00000e+00    0.00000e+00  1.00000e+01\n",
            "     7 cbn1         3.00000e+00  1.00000e+00    0.00000e+00  1.00000e+01\n",
            "     8 cbn2         7.00000e+00  1.00000e+00    0.00000e+00  1.00000e+01\n",
            "     9 combined norm   5.00000e-01  1.00000e-01    0.00000e+00  1.00000e+00\n",
            "    10 combined_signal_norm   1.14006e+05  5.70030e+04    0.00000e+00  1.02606e+07\n",
            " MINUIT WARNING IN PARAM DEF\n",
            " ============== LIMITS ON PARAM10 TOO FAR APART.\n",
            " PARAMETER DEFINITIONS:\n",
            "    NO.   NAME         VALUE      STEP SIZE      LIMITS\n",
            "    11 exp_Norm     1.14006e+05  5.70030e+04    0.00000e+00  1.02606e+07\n",
            " MINUIT WARNING IN PARAM DEF\n",
            " ============== LIMITS ON PARAM11 TOO FAR APART.\n",
            " PARAMETER DEFINITIONS:\n",
            "    NO.   NAME         VALUE      STEP SIZE      LIMITS\n",
            "    12 exponent    -2.00000e-02  2.00000e-01   -1.00000e+00  1.00000e+00\n",
            " **********\n",
            " **    3 **SET ERR         0.5\n",
            " **********\n",
            " **********\n",
            " **    4 **SET PRINT           1\n",
            " **********\n",
            " **********\n",
            " **    5 **SET STR           1\n",
            " **********\n",
            " NOW USING STRATEGY  1: TRY TO BALANCE SPEED AGAINST RELIABILITY\n",
            " **********\n",
            " **    6 **MIGRAD        6000           1\n",
            " **********\n",
            " FIRST CALL TO USER FUNCTION AT NEW START POINT, WITH IFLAG=4.\n",
            " START MIGRAD MINIMIZATION.  STRATEGY  1.  CONVERGENCE WHEN EDM .LT. 1.00e-03\n",
            " FCN=163391 FROM MIGRAD    STATUS=INITIATE      135 CALLS         136 TOTAL\n",
            "                     EDM= unknown      STRATEGY= 1      NO ERROR MATRIX       \n",
            "  EXT PARAMETER               CURRENT GUESS       STEP         FIRST   \n",
            "  NO.   NAME      VALUE            ERROR          SIZE      DERIVATIVE \n",
            "   1  cbMean1      5.30000e+03   1.50000e+01   0.00000e+00   6.90875e+03\n",
            "   2  cbMean2      5.30000e+03   1.50000e+01   0.00000e+00   4.37032e+03\n",
            "   3  cbWidth1     1.00000e+01   4.00000e+00   0.00000e+00  -4.03813e+02\n",
            "   4  cbWidth2     2.50000e+01   4.00000e+00   0.00000e+00   1.97559e+02\n",
            "   5  cba1         1.07964e+00   1.00000e+00   0.00000e+00  -1.37807e+03\n",
            "   6  cba2         4.00000e+00   1.00000e+00   0.00000e+00  -4.84364e-01\n",
            "   7  cbn1         3.00000e+00   1.00000e+00   0.00000e+00   1.10127e+01\n",
            "   8  cbn2         7.00000e+00   1.00000e+00   0.00000e+00  -9.94585e-03\n",
            "   9  combined norm   5.00000e-01   1.00000e-01   0.00000e+00   7.53804e+01\n",
            "  10  combined_signal_norm   1.14006e+05   5.70030e+04   0.00000e+00   1.02220e+06\n",
            "  11  exp_Norm     1.14006e+05   5.70030e+04   0.00000e+00   1.04378e+06\n",
            "  12  exponent    -1.08602e-03   2.00000e-01   1.89153e-02  -2.70551e+03\n",
            "                               ERR DEF= 0.5\n",
            " MIGRAD MINIMIZATION HAS CONVERGED.\n",
            " FCN=-28861.9 FROM MIGRAD    STATUS=CONVERGED     601 CALLS         602 TOTAL\n",
            "                     EDM=2.29307e-05    STRATEGY= 1  ERROR MATRIX UNCERTAINTY   0.0 per cent\n",
            "  EXT PARAMETER                                   STEP         FIRST   \n",
            "  NO.   NAME      VALUE            ERROR          SIZE      DERIVATIVE \n",
            "   1  cbMean1      5.25523e+03   8.39128e-01   3.31172e-05  -1.56306e-06\n",
            "   2  cbMean2      5.28466e+03   2.41859e-01   6.78511e-06  -5.16316e-01\n",
            "   3  cbWidth1     1.23595e+01   3.01770e-01   2.84161e-05  -3.06223e-07\n",
            "   4  cbWidth2     1.81680e+01   2.13051e-01  -2.22390e-05  -1.27886e-01\n",
            "   5  cba1         2.22804e-02   1.39969e-02  -7.28706e-05  -1.01797e-06\n",
            "   6  cba2         5.14443e+00   1.94147e+00   4.16758e-03  -1.76641e-02\n",
            "   7  cbn1         2.79998e+00   2.55501e-01  -1.42481e-05   3.22398e-08\n",
            "   8  cbn2         9.71110e+00   7.20571e+00   6.33615e-04  -7.47899e-06\n",
            "   9  combined norm   8.17172e-09   1.62064e-03   6.05685e-04** at limit **\n",
            "  10  combined_signal_norm   7.14207e+03   9.21397e+01  -5.79485e-07   1.15375e+00\n",
            "  11  exp_Norm     1.87698e+03   5.64185e+01  -1.38654e-07   1.53445e+00\n",
            "  12  exponent    -4.34958e-03   3.36983e-04   1.09406e-06  -5.45402e+00\n",
            "                               ERR DEF= 0.5\n",
            " EXTERNAL ERROR MATRIX.    NDIM=  25    NPAR= 12    ERR DEF=0.5\n",
            " ELEMENTS ABOVE DIAGONAL ARE NOT PRINTED.\n",
            "  7.042e-01 \n",
            " -1.083e-02  5.850e-02 \n",
            "  2.630e-02 -2.456e-03  9.107e-02 \n",
            "  6.262e-03 -5.618e-04  1.602e-03  4.539e-02 \n",
            " -2.206e-03  1.968e-04 -5.101e-04 -2.927e-04  1.960e-04 \n",
            "  1.711e-01  1.146e-03  3.837e-02 -3.223e-02 -2.694e-03  3.976e+00 \n",
            " -3.849e-03  3.078e-04 -8.859e-04 -3.807e-04  7.463e-05 -4.945e-03  6.535e-02 \n",
            "  3.399e-02  1.396e-04  7.727e-03 -2.699e-04 -6.048e-04  9.992e-02 -1.072e-03  1.558e+02 \n",
            "  2.543e-06 -4.538e-08  5.733e-07  1.439e-07 -4.204e-08  3.616e-06 -7.557e-08  6.972e-07  5.300e-11 \n",
            "  2.662e+00 -4.816e-01  8.907e-01  3.565e+00 -5.992e-02 -1.535e+00 -1.202e-01  2.734e-01  1.957e-05  8.490e+03 \n",
            " -1.031e+00 -1.204e-01 -1.936e-01 -4.215e+00  3.104e-02  1.656e+00  3.795e-02 -3.733e-01  5.022e-06 -1.133e+03  3.183e+03 \n",
            " -2.592e-05 -4.589e-06 -6.497e-06 -2.042e-05  7.610e-07  2.779e-05  1.255e-06 -3.684e-06 -1.954e-10 -6.784e-03  5.922e-03 \n",
            " -2.592e-05 -4.589e-06 -6.497e-06 -2.042e-05  7.610e-07  2.779e-05  1.255e-06 -3.684e-06 -1.954e-10 -6.784e-03  5.922e-03  1.136e-07 \n",
            " PARAMETER  CORRELATION COEFFICIENTS  \n",
            "       NO.  GLOBAL      1      2      3      4      5      6      7      8      9     10     11     12\n",
            "        1  0.42406   1.000 -0.053  0.104  0.035 -0.188  0.102 -0.018  0.003  0.416  0.034 -0.022 -0.092\n",
            "        2  0.11382  -0.053  1.000 -0.034 -0.011  0.058  0.002  0.005  0.000 -0.026 -0.022 -0.009 -0.056\n",
            "        3  0.26720   0.104 -0.034  1.000  0.025 -0.121  0.064 -0.011  0.002  0.261  0.032 -0.011 -0.064\n",
            "        4  0.42292   0.035 -0.011  0.025  1.000 -0.098 -0.076 -0.007 -0.000  0.093  0.182 -0.351 -0.284\n",
            "        5  0.43647  -0.188  0.058 -0.121 -0.098  1.000 -0.097  0.021 -0.003 -0.412 -0.046  0.039  0.161\n",
            "        6  0.27297   0.102  0.002  0.064 -0.076 -0.097  1.000 -0.010  0.004  0.249 -0.008  0.015  0.041\n",
            "        7  0.04253  -0.018  0.005 -0.011 -0.007  0.021 -0.010  1.000 -0.000 -0.041 -0.005  0.003  0.015\n",
            "        8  0.00807   0.003  0.000  0.002 -0.000 -0.003  0.004 -0.000  1.000  0.008  0.000 -0.001 -0.001\n",
            "        9  0.60067   0.416 -0.026  0.261  0.093 -0.412  0.249 -0.041  0.008  1.000  0.029  0.012 -0.080\n",
            "       10  0.28434   0.034 -0.022  0.032  0.182 -0.046 -0.008 -0.005  0.000  0.029  1.000 -0.218 -0.218\n",
            "       11  0.43658  -0.022 -0.009 -0.011 -0.351  0.039  0.015  0.003 -0.001  0.012 -0.218  1.000  0.311\n",
            "       12  0.42133  -0.092 -0.056 -0.064 -0.284  0.161  0.041  0.015 -0.001 -0.080 -0.218  0.311  1.000\n",
            " ELEMENTS ABOVE DIAGONAL ARE NOT PRINTED.\n",
            " **********\n",
            " **    7 **SET ERR         0.5\n",
            " **********\n",
            " **********\n",
            " **    8 **SET PRINT           1\n",
            " **********\n",
            " **********\n",
            " **    9 **HESSE        6000\n",
            " **********\n",
            " MINUIT WARNING IN HESSE   \n",
            " ============== Negative diagonal element 3 in Error Matrix\n",
            " MINUIT WARNING IN HESSE   \n",
            " ============== Negative diagonal element 5 in Error Matrix\n",
            " MINUIT WARNING IN HESSE   \n",
            " ============== Negative diagonal element 7 in Error Matrix\n",
            " MINUIT WARNING IN HESSE   \n",
            " ============== 1.00001 added to diagonal of error matrix\n",
            " COVARIANCE MATRIX CALCULATED SUCCESSFULLY\n",
            " FCN=-28861.9 FROM HESSE     STATUS=OK            129 CALLS         731 TOTAL\n",
            "                     EDM=1.15683e-05    STRATEGY= 1      ERROR MATRIX ACCURATE \n",
            "  EXT PARAMETER                                INTERNAL      INTERNAL  \n",
            "  NO.   NAME      VALUE            ERROR       STEP SIZE       VALUE   \n",
            "   1  cbMean1      5.25523e+03   1.00899e+02   5.00000e-01  -2.66768e-01\n",
            "   2  cbMean2      5.28466e+03   2.39469e-01   3.76447e-04   1.29140e-01\n",
            "   3  cbWidth1     1.23595e+01   2.60205e+01   5.00000e-01  -3.91986e-01\n",
            "   4  cbWidth2     1.81680e+01   2.14770e-01   1.15637e-03  -9.17273e-02\n",
            "   5  cba1         2.22804e-02   5.96119e+00   5.00000e-01  -1.47636e+00\n",
            "   6  cba2         5.14443e+00   3.99845e+00   2.14229e-01   2.88906e-02\n",
            "   7  cbn1         2.79998e+00   3.77817e+00   5.00000e-01  -4.55604e-01\n",
            "   8  cbn2         9.71110e+00   2.16561e+00   5.00000e-01   1.22920e+00\n",
            "   9  combined norm   8.17172e-09   2.09368e-03   1.06753e-02  -1.57062e+00\n",
            "                                 WARNING -   - ABOVE PARAMETER IS AT LIMIT.\n",
            "  10  combined_signal_norm   7.14207e+03   9.16931e+01   3.79087e-05  -1.51802e+00\n",
            "  11  exp_Norm     1.87698e+03   5.60625e+01   4.23237e-05  -1.54375e+00\n",
            "  12  exponent    -4.34958e-03   3.35834e-04   3.60252e-05  -4.34959e-03\n",
            "                               ERR DEF= 0.5\n",
            " EXTERNAL ERROR MATRIX.    NDIM=  25    NPAR= 12    ERR DEF=0.5\n",
            " ELEMENTS ABOVE DIAGONAL ARE NOT PRINTED.\n",
            "  5.238e+03 \n",
            "  3.472e-03  5.735e-02 \n",
            "  5.078e-01  4.183e-04  3.417e+02 \n",
            " -2.442e-03 -9.704e-04 -2.941e-04  4.613e-02 \n",
            "  1.213e-01  1.001e-04  1.461e-02 -7.046e-05  2.258e-01 \n",
            "  1.158e-06 -7.416e-09  1.390e-07 -8.553e-08  3.423e-08  2.148e+01 \n",
            " -3.874e-03 -3.192e-06 -4.653e-04  2.245e-06 -1.082e-04 -2.411e-09  2.016e+01 \n",
            " -1.269e-10  1.148e-09 -4.919e-10 -5.456e-09  7.480e-11 -6.009e-05 -3.111e-12  2.805e+00 \n",
            "  1.700e-05  1.400e-08  2.047e-06 -9.850e-09  4.891e-07  4.825e-12 -1.562e-08  1.367e-14  6.848e-11 \n",
            "  3.181e+00 -1.674e-01  3.832e-01  4.161e+00  9.156e-02 -2.492e-03 -2.925e-03 -8.653e-06  1.282e-05  8.408e+03 \n",
            " -3.175e+00  1.672e-01 -3.824e-01 -4.161e+00 -9.136e-02  2.487e-03  2.919e-03  8.611e-06 -1.280e-05 -1.265e+03  3.143e+03 \n",
            "  8.494e-06 -5.263e-06  1.023e-06 -2.076e-05  2.444e-07 -3.831e-09 -7.812e-09 -1.267e-11  3.424e-11 -6.367e-03  6.370e-03 \n",
            "  8.494e-06 -5.263e-06  1.023e-06 -2.076e-05  2.444e-07 -3.831e-09 -7.812e-09 -1.267e-11  3.424e-11 -6.367e-03  6.370e-03  1.128e-07 \n",
            " PARAMETER  CORRELATION COEFFICIENTS  \n",
            "       NO.  GLOBAL      1      2      3      4      5      6      7      8      9     10     11     12\n",
            "        1  0.02838   1.000  0.000  0.000 -0.000  0.004  0.000 -0.000 -0.000  0.028  0.000 -0.001  0.000\n",
            "        2  0.08228   0.000  1.000  0.000 -0.019  0.001 -0.000 -0.000  0.000  0.007 -0.008  0.012 -0.065\n",
            "        3  0.01338   0.000  0.000  1.000 -0.000  0.002  0.000 -0.000 -0.000  0.013  0.000 -0.000  0.000\n",
            "        4  0.40578  -0.000 -0.019 -0.000  1.000 -0.001 -0.000  0.000 -0.000 -0.006  0.211 -0.346 -0.288\n",
            "        5  0.12438   0.004  0.001  0.002 -0.001  1.000  0.000 -0.000  0.000  0.124  0.002 -0.003  0.002\n",
            "        6  0.00001   0.000 -0.000  0.000 -0.000  0.000  1.000 -0.000 -0.000  0.000 -0.000  0.000 -0.000\n",
            "        7  0.00042  -0.000 -0.000 -0.000  0.000 -0.000 -0.000  1.000 -0.000 -0.000 -0.000  0.000 -0.000\n",
            "        8  0.00001  -0.000  0.000 -0.000 -0.000  0.000 -0.000 -0.000  1.000  0.000 -0.000  0.000 -0.000\n",
            "        9  0.13457   0.028  0.007  0.013 -0.006  0.124  0.000 -0.000  0.000  1.000  0.017 -0.028  0.012\n",
            "       10  0.30086   0.000 -0.008  0.000  0.211  0.002 -0.000 -0.000 -0.000  0.017  1.000 -0.246 -0.207\n",
            "       11  0.45013  -0.001  0.012 -0.000 -0.346 -0.003  0.000  0.000  0.000 -0.028 -0.246  1.000  0.338\n",
            "       12  0.40499   0.000 -0.065  0.000 -0.288  0.002 -0.000 -0.000 -0.000  0.012 -0.207  0.338  1.000\n",
            " ELEMENTS ABOVE DIAGONAL ARE NOT PRINTED.\n",
            "[#1] INFO:Minization -- RooMinimizer::optimizeConst: deactivating const optimization\n"
          ],
          "name": "stdout"
        }
      ]
    },
    {
      "cell_type": "code",
      "metadata": {
        "colab": {
          "base_uri": "https://localhost:8080/",
          "height": 602
        },
        "id": "Ad9UhU7ZWmKZ",
        "outputId": "c1625008-b2c5-48f9-92fe-4a5bc438be5c"
      },
      "source": [
        "c1=ROOT.TCanvas(\"c1\",\"c1\")\r\n",
        "c1.Draw()\r\n",
        "frame=mass.frame()\r\n",
        "data_to_fit.plotOn(frame)\r\n",
        "\r\n",
        "#CB1\r\n",
        "model.plotOn(frame, ROOT.RooFit.Components(\"Crystal Ball 1\"),ROOT.RooFit.LineColor(8),ROOT.RooFit.LineStyle(2))\r\n",
        "#CB2\r\n",
        "model.plotOn(frame, ROOT.RooFit.Components(\"Crystal Ball 2\"),ROOT.RooFit.LineColor(6),ROOT.RooFit.LineStyle(2))\r\n",
        "\r\n",
        "#Exponential\r\n",
        "model.plotOn(frame, ROOT.RooFit.Components(\"Exponential Background\"),ROOT.RooFit.LineColor(46),ROOT.RooFit.LineStyle(2))\r\n",
        "\r\n",
        "#Best fit\r\n",
        "model.plotOn(frame)\r\n",
        "frame.Draw()\r\n",
        "c1.Update()"
      ],
      "execution_count": null,
      "outputs": [
        {
          "output_type": "stream",
          "text": [
            "[#1] INFO:Plotting -- RooAbsPdf::plotOn(Full Model) directly selected PDF components: (Crystal Ball 1)\n",
            "[#1] INFO:Plotting -- RooAbsPdf::plotOn(Full Model) indirectly selected PDF components: (Combined Signal)\n",
            "[#1] INFO:Plotting -- RooAbsPdf::plotOn(Full Model) directly selected PDF components: (Crystal Ball 2)\n",
            "[#1] INFO:Plotting -- RooAbsPdf::plotOn(Full Model) indirectly selected PDF components: (Combined Signal)\n",
            "[#1] INFO:Plotting -- RooAbsPdf::plotOn(Full Model) directly selected PDF components: (Exponential Background)\n",
            "[#1] INFO:Plotting -- RooAbsPdf::plotOn(Full Model) indirectly selected PDF components: ()\n"
          ],
          "name": "stdout"
        },
        {
          "output_type": "stream",
          "text": [
            "Warning in <TCanvas::Constructor>: Deleting canvas with same name: c1\n"
          ],
          "name": "stderr"
        },
        {
          "output_type": "display_data",
          "data": {
            "image/png": "[encoded data removed]",
            "text/plain": [
              "<IPython.core.display.Image object>"
            ]
          },
          "metadata": {
            "tags": []
          }
        }
      ]
    },
    {
      "cell_type": "code",
      "metadata": {
        "colab": {
          "base_uri": "https://localhost:8080/"
        },
        "id": "Mg_2qpCmbC6e",
        "outputId": "0c751249-2dea-4ab9-ad78-e03c1db2579d"
      },
      "source": [
        "#Plot 3 CB + CB + Exponential\r\n",
        "print(\"Combined Signal Yield = \" + str(combined_signal_norm.getValV()))\r\n",
        "print(\"Combined Signal Error = \" + str(combined_signal_norm.getError()))\r\n",
        "print(\"\")\r\n",
        "\r\n",
        "print(\"Background = \" + str(Bkgnd_Norm.getValV()))\r\n",
        "print(\"\")\r\n",
        "\r\n",
        "print(\"chi squared = \" + str(frame.chiSquare()))"
      ],
      "execution_count": null,
      "outputs": [
        {
          "output_type": "stream",
          "text": [
            "Combined Signal Yield = 7142.07451518\n",
            "Combined Signal Error = 91.6931497705\n",
            "\n",
            "Background = 114006.0\n",
            "\n",
            "chi squared = 1.7008055672\n"
          ],
          "name": "stdout"
        }
      ]
    },
    {
      "cell_type": "markdown",
      "metadata": {
        "id": "ob2HARgWoTGe"
      },
      "source": [
        "#Counting\r\n",
        "\r\n",
        "So we have now loaded our data; we have reconstructed information about the mother B meson and we have cut away any data which looks like it might not be what we are looking for. We have then plotted histograms of the mass of the B meson and used this to fit a model, a function to describe the events there. We now have to identify which of our events belong to the B<sup>+</sup> and how many of them belong to B<sup>-</sup>.\r\n",
        "\r\n",
        "To do this, should split out data into two groups (and throw away data which doesn't comply with either decay)\r\n",
        "\r\n",
        "We will be looking for the events which are\r\n",
        "\r\n",
        "\r\n",
        "B<sup>+</sup>->K<sup>+</sup> + K<sup>+</sup>  + K<sup>-</sup>\r\n",
        "\r\n",
        "or\r\n",
        "\r\n",
        "B<sup>-</sup>->K<sup>-</sup> + K<sup>-</sup>  + K<sup>+</sup>\r\n",
        "\r\n",
        "We can look for the number of positive and negative charges in H1, H2 and H3 (using the variable ```H1_Charge``` etc.). If we have 0 or 3 positive charges, we should throw the event away and if we have 1 it should be assigned be a B<sup>-</sup>, with 2 it should be a B<sup>+</sup>"
      ]
    },
    {
      "cell_type": "code",
      "metadata": {
        "id": "LHnI8Fh_LgVF"
      },
      "source": [
        "#Select the Tree's\r\n",
        "Bplus_cuts = (\"H1_Charge+H2_Charge+H3_Charge == 1\")\r\n",
        "Bminus_cuts = (\"H1_Charge+H2_Charge+H3_Charge == -1\")\r\n",
        "\r\n",
        "bplusTree = CutTree.CopyTree(Bplus_cuts)\r\n",
        "bminusTree = CutTree.CopyTree(Bminus_cuts)"
      ],
      "execution_count": null,
      "outputs": []
    },
    {
      "cell_type": "code",
      "metadata": {
        "colab": {
          "base_uri": "https://localhost:8080/",
          "height": 588
        },
        "id": "BfhKp7FFLyXj",
        "outputId": "3a33d16f-4cd3-4223-f740-2f84e58f29f2"
      },
      "source": [
        "c1 = ROOT.TCanvas(\"Momentums of particles\", \"Momentum\",800,600)\r\n",
        "\r\n",
        "bminusTree.Draw(\"M_m0\"+\">>BMinus(200,5100,5500)\")\r\n",
        "bplusTree.Draw(\"M_m0\"+\">>BPlus(200,5100,5500)\")\r\n",
        "\r\n",
        "histogram1 = ROOT.gDirectory.Get(\"BMinus\")\r\n",
        "histogram2 = ROOT.gDirectory.Get(\"BPlus\")\r\n",
        "\r\n",
        "histogram1.SetLineColor(12)\r\n",
        "histogram2.SetLineColor(2)\r\n",
        "\r\n",
        "histogram1.Draw()\r\n",
        "histogram2.Draw('Same')\r\n",
        "\r\n",
        "histogram1.SetTitle(\"Events of B^{-} and B^{+} vs Mass of Daugther\")\r\n",
        "histogram1.SetXTitle(\"Mass\")\r\n",
        "histogram1.SetYTitle(\"Events\")\r\n",
        "\r\n",
        "leg = ROOT.TLegend(0.15,0.85,.35,.7)\r\n",
        "leg.SetBorderSize(1)\r\n",
        "leg.SetFillColor(0)\r\n",
        "leg.SetFillStyle(0)\r\n",
        "leg.SetTextFont(42)\r\n",
        "leg.SetTextSize(0.035)\r\n",
        "leg.AddEntry(histogram1,\"B^{-}\",\"L\")\r\n",
        "leg.AddEntry(histogram2,\"B^{+}\",\"L\")\r\n",
        "leg.Draw('Same')\r\n",
        "\r\n",
        "c1.Draw()"
      ],
      "execution_count": null,
      "outputs": [
        {
          "output_type": "display_data",
          "data": {
            "image/png": "[encoded data removed]",
            "text/plain": [
              "<IPython.core.display.Image object>"
            ]
          },
          "metadata": {
            "tags": []
          }
        }
      ]
    },
    {
      "cell_type": "code",
      "metadata": {
        "colab": {
          "base_uri": "https://localhost:8080/"
        },
        "id": "8_Srfor-Wmf0",
        "outputId": "635d8a02-35a6-452e-a57f-6f6ea35ad21e"
      },
      "source": [
        "mass = ROOT.RooRealVar(\"M_m0\",\"Mass\",5150,5400,\"MeV/C^{2}\")\r\n",
        "\r\n",
        "gaussMean = ROOT.RooRealVar(\"Mean\",\"Mean\",5000,5150,5400)\r\n",
        "gaussWidth = ROOT.RooRealVar(\"Width\",\"Width\",40,0,70)\r\n",
        "\r\n",
        "Gauss=ROOT.RooGaussian(\"Gauss\",\"Gaussian Signal\",mass,gaussMean,gaussWidth)\r\n",
        "Gauss_Norm= ROOT.RooRealVar(\"Gauss_Norm\",\"Signal Yield\", tree.GetEntries()/30, 0, tree.GetEntries() * 3)\r\n",
        "\r\n",
        "exponent=ROOT.RooRealVar(\"exponent\", \"C\", -0.02, -2, +2)\r\n",
        "exp_Norm= ROOT.RooRealVar(\"exp_Norm\",\"Background Yield\", tree.GetEntries()/30, 0, tree.GetEntries() * 2)\r\n",
        "\r\n",
        "Bkgnd=ROOT.RooExponential(\"Bkgnd\",\"Exponential Background\",mass,exponent)\r\n",
        "\r\n",
        "model=ROOT.RooAddPdf(\"Full Model\",\"model\",ROOT.RooArgList(Gauss,Bkgnd),ROOT.RooArgList(Gauss_Norm, exp_Norm) )\r\n",
        "\r\n",
        "data_to_fit=ROOT.RooDataSet(\"Data Set\",\"data_to_fit\", bplusTree, ROOT.RooArgSet(mass))\r\n",
        "\r\n",
        "model.fitTo(data_to_fit)"
      ],
      "execution_count": null,
      "outputs": [
        {
          "output_type": "execute_result",
          "data": {
            "text/plain": [
              "<ROOT.RooFitResult object at 0x(nil)>"
            ]
          },
          "metadata": {
            "tags": []
          },
          "execution_count": 31
        },
        {
          "output_type": "stream",
          "text": [
            "[#1] INFO:Eval -- RooAbsReal::attachToTree(M_m0) TTree Float_t branch M_m0 will be converted to double precision\n",
            "[#1] INFO:Eval -- RooTreeDataStore::loadValues(Data Set) Ignored 1632 out of range events\n",
            "[#1] INFO:Minization -- p.d.f. provides expected number of events, including extended term in likelihood.\n",
            "[#1] INFO:Minization -- RooMinimizer::optimizeConst: activating const optimization\n",
            "[#1] INFO:Minization --  The following expressions will be evaluated in cache-and-track mode: (Gauss,Bkgnd)\n",
            " **********\n",
            " **    1 **SET PRINT           1\n",
            " **********\n",
            " **********\n",
            " **    2 **SET NOGRAD\n",
            " **********\n",
            " PARAMETER DEFINITIONS:\n",
            "    NO.   NAME         VALUE      STEP SIZE      LIMITS\n",
            "     1 Gauss_Norm   1.14006e+05  5.70030e+04    0.00000e+00  1.02606e+07\n",
            " MINUIT WARNING IN PARAM DEF\n",
            " ============== LIMITS ON PARAM1 TOO FAR APART.\n",
            " PARAMETER DEFINITIONS:\n",
            "    NO.   NAME         VALUE      STEP SIZE      LIMITS\n",
            "     2 Mean         5.15000e+03  2.50000e+01    5.15000e+03  5.40000e+03\n",
            " MINUIT WARNING IN PARAM DEF\n",
            " ============== STARTING VALUE IS AT LIMIT.\n",
            " MINUIT WARNING IN PARAMETR\n",
            " ============== VARIABLE2 IS AT ITS LOWER ALLOWED LIMIT.\n",
            " MINUIT WARNING IN PARAMETR\n",
            " ============== VARIABLE2 BROUGHT BACK INSIDE LIMITS.\n",
            "     3 Width        4.00000e+01  7.00000e+00    0.00000e+00  7.00000e+01\n",
            "     4 exp_Norm     1.14006e+05  5.70030e+04    0.00000e+00  6.84039e+06\n",
            "     5 exponent    -2.00000e-02  4.00000e-01   -2.00000e+00  2.00000e+00\n",
            " **********\n",
            " **    3 **SET ERR         0.5\n",
            " **********\n",
            " **********\n",
            " **    4 **SET PRINT           1\n",
            " **********\n",
            " **********\n",
            " **    5 **SET STR           1\n",
            " **********\n",
            " NOW USING STRATEGY  1: TRY TO BALANCE SPEED AGAINST RELIABILITY\n",
            " **********\n",
            " **    6 **MIGRAD        2500           1\n",
            " **********\n",
            " FIRST CALL TO USER FUNCTION AT NEW START POINT, WITH IFLAG=4.\n",
            " MINUIT WARNING IN MIGrad    \n",
            " ============== VARIABLE2 IS AT ITS LOWER ALLOWED LIMIT.\n",
            " START MIGRAD MINIMIZATION.  STRATEGY  1.  CONVERGENCE WHEN EDM .LT. 1.00e-03\n",
            " FCN=196252 FROM MIGRAD    STATUS=INITIATE       85 CALLS          86 TOTAL\n",
            "                     EDM= unknown      STRATEGY= 1      NO ERROR MATRIX       \n",
            "  EXT PARAMETER               CURRENT GUESS       STEP         FIRST   \n",
            "  NO.   NAME      VALUE            ERROR          SIZE      DERIVATIVE \n",
            "   1  Gauss_Norm   1.14006e+05   5.70030e+04   0.00000e+00   1.04941e+06\n",
            "   2  Mean         5.30484e+03   2.50000e+01   0.00000e+00   8.24403e+03\n",
            "   3  Width        2.46098e+01   7.00000e+00   0.00000e+00   3.75674e+02\n",
            "   4  exp_Norm     1.14006e+05   5.70030e+04   0.00000e+00   8.63320e+05\n",
            "   5  exponent    -2.22868e-03   4.00000e-01   8.88583e-03  -1.70747e+04\n",
            "                               ERR DEF= 0.5\n",
            " MIGRAD MINIMIZATION HAS CONVERGED.\n",
            " MIGRAD WILL VERIFY CONVERGENCE AND ERROR MATRIX.\n",
            " COVARIANCE MATRIX CALCULATED SUCCESSFULLY\n",
            " FCN=-11733.3 FROM MIGRAD    STATUS=CONVERGED     209 CALLS         210 TOTAL\n",
            "                     EDM=4.89748e-05    STRATEGY= 1      ERROR MATRIX ACCURATE \n",
            "  EXT PARAMETER                                   STEP         FIRST   \n",
            "  NO.   NAME      VALUE            ERROR          SIZE      DERIVATIVE \n",
            "   1  Gauss_Norm   3.72848e+03   6.60319e+01   2.41304e-05   8.78984e+00\n",
            "   2  Mean         5.28550e+03   3.31296e-01   1.97311e-04   1.70428e+00\n",
            "   3  Width        1.80806e+01   2.98119e-01   6.64932e-04  -8.58002e-02\n",
            "   4  exp_Norm     6.52756e+02   3.58404e+01   3.58979e-05   6.52274e+00\n",
            "   5  exponent    -2.28178e-03   5.91039e-04   2.14668e-05   1.10415e+01\n",
            "                               ERR DEF= 0.5\n",
            " EXTERNAL ERROR MATRIX.    NDIM=  25    NPAR=  5    ERR DEF=0.5\n",
            "  4.360e+03 -3.409e-01  4.142e+00 -6.316e+02 -3.815e-03 \n",
            " -3.409e-01  1.098e-01 -4.075e-03  3.406e-01 -2.236e-05 \n",
            "  4.142e+00 -4.075e-03  8.888e-02 -4.142e+00 -2.288e-05 \n",
            " -6.316e+02  3.406e-01 -4.142e+00  1.285e+03  3.817e-03 \n",
            " -3.815e-03 -2.236e-05 -2.288e-05  3.817e-03  3.493e-07 \n",
            " PARAMETER  CORRELATION COEFFICIENTS  \n",
            "       NO.  GLOBAL      1      2      3      4      5\n",
            "        1  0.29432   1.000 -0.016  0.210 -0.267 -0.098\n",
            "        2  0.13155  -0.016  1.000 -0.041  0.029 -0.114\n",
            "        3  0.40858   0.210 -0.041  1.000 -0.388 -0.130\n",
            "        4  0.44793  -0.267  0.029 -0.388  1.000  0.180\n",
            "        5  0.23124  -0.098 -0.114 -0.130  0.180  1.000\n",
            " **********\n",
            " **    7 **SET ERR         0.5\n",
            " **********\n",
            " **********\n",
            " **    8 **SET PRINT           1\n",
            " **********\n",
            " **********\n",
            " **    9 **HESSE        2500\n",
            " **********\n",
            " COVARIANCE MATRIX CALCULATED SUCCESSFULLY\n",
            " FCN=-11733.3 FROM HESSE     STATUS=OK             31 CALLS         241 TOTAL\n",
            "                     EDM=4.90097e-05    STRATEGY= 1      ERROR MATRIX ACCURATE \n",
            "  EXT PARAMETER                                INTERNAL      INTERNAL  \n",
            "  NO.   NAME      VALUE            ERROR       STEP SIZE       VALUE   \n",
            "   1  Gauss_Norm   3.72848e+03   6.60421e+01   4.82608e-06  -1.53267e+00\n",
            "   2  Mean         5.28550e+03   3.31305e-01   3.94622e-05   8.41083e-02\n",
            "   3  Width        1.80806e+01   2.98266e-01   1.32986e-04  -5.04547e-01\n",
            "   4  exp_Norm     6.52756e+02   3.58586e+01   7.17958e-06  -1.55126e+00\n",
            "   5  exponent    -2.28178e-03   5.91160e-04   4.29337e-06  -1.14089e-03\n",
            "                               ERR DEF= 0.5\n",
            " EXTERNAL ERROR MATRIX.    NDIM=  25    NPAR=  5    ERR DEF=0.5\n",
            "  4.362e+03 -3.422e-01  4.155e+00 -6.330e+02 -3.838e-03 \n",
            " -3.422e-01  1.098e-01 -4.152e-03  3.421e-01 -2.233e-05 \n",
            "  4.155e+00 -4.152e-03  8.897e-02 -4.155e+00 -2.305e-05 \n",
            " -6.330e+02  3.421e-01 -4.155e+00  1.286e+03  3.839e-03 \n",
            " -3.838e-03 -2.233e-05 -2.305e-05  3.839e-03  3.495e-07 \n",
            " PARAMETER  CORRELATION COEFFICIENTS  \n",
            "       NO.  GLOBAL      1      2      3      4      5\n",
            "        1  0.29480   1.000 -0.016  0.211 -0.267 -0.098\n",
            "        2  0.13176  -0.016  1.000 -0.042  0.029 -0.114\n",
            "        3  0.40958   0.211 -0.042  1.000 -0.389 -0.131\n",
            "        4  0.44884  -0.267  0.029 -0.389  1.000  0.181\n",
            "        5  0.23208  -0.098 -0.114 -0.131  0.181  1.000\n",
            "[#1] INFO:Minization -- RooMinimizer::optimizeConst: deactivating const optimization\n"
          ],
          "name": "stdout"
        }
      ]
    },
    {
      "cell_type": "code",
      "metadata": {
        "colab": {
          "base_uri": "https://localhost:8080/",
          "height": 553
        },
        "id": "KorjYsj2KMPo",
        "outputId": "454fe6fc-61f4-4997-9881-a36362369048"
      },
      "source": [
        "c1=ROOT.TCanvas(\"c1\",\"c1\")\r\n",
        "frame=mass.frame()\r\n",
        "data_to_fit.plotOn(frame)\r\n",
        "model.plotOn(frame)\r\n",
        "model.plotOn(frame, ROOT.RooFit.Components(\"Gauss\"),ROOT.RooFit.LineColor(8),ROOT.RooFit.LineStyle(2))\r\n",
        "model.plotOn(frame, ROOT.RooFit.Components(\"Bkgnd\"),ROOT.RooFit.LineColor(46),ROOT.RooFit.LineStyle(2))\r\n",
        "frame.Draw()\r\n",
        "c1.Update()\r\n",
        "c1.Draw()"
      ],
      "execution_count": null,
      "outputs": [
        {
          "output_type": "stream",
          "text": [
            "[#1] INFO:Plotting -- RooAbsPdf::plotOn(Full Model) directly selected PDF components: (Gauss)\n",
            "[#1] INFO:Plotting -- RooAbsPdf::plotOn(Full Model) indirectly selected PDF components: ()\n",
            "[#1] INFO:Plotting -- RooAbsPdf::plotOn(Full Model) directly selected PDF components: (Bkgnd)\n",
            "[#1] INFO:Plotting -- RooAbsPdf::plotOn(Full Model) indirectly selected PDF components: ()\n"
          ],
          "name": "stdout"
        },
        {
          "output_type": "display_data",
          "data": {
            "image/png": "[encoded data removed]",
            "text/plain": [
              "<IPython.core.display.Image object>"
            ]
          },
          "metadata": {
            "tags": []
          }
        }
      ]
    },
    {
      "cell_type": "code",
      "metadata": {
        "colab": {
          "base_uri": "https://localhost:8080/"
        },
        "id": "eaOLhS7iW65n",
        "outputId": "b480b9b1-20c7-461f-e65c-038a4abc9e21"
      },
      "source": [
        "#B Plus Tree\r\n",
        "B_Plus_Signal_Yield = Gauss_Norm.getValV()\r\n",
        "B_Plus_Error = Gauss_Norm.getError()\r\n",
        "B_Plus_Chi2 = frame.chiSquare()\r\n",
        "\r\n",
        "print(\"Signal Yield = \" + str(B_Plus_Signal_Yield))\r\n",
        "print(\"Gaussian Error = \" + str(B_Plus_Error))\r\n",
        "\r\n",
        "print(\"Background = \" + str(Bkgnd.getValV()))\r\n",
        "print(\"Background Error = \" + str(Bkgnd_Norm.getError()))\r\n",
        "\r\n",
        "print(\"chi squared = \" + str(B_Plus_Chi2))"
      ],
      "execution_count": null,
      "outputs": [
        {
          "output_type": "stream",
          "text": [
            "Signal Yield = 3728.47521654\n",
            "Gaussian Error = 66.04212478\n",
            "Background = 5.9247340173e-06\n",
            "Background Error = 0.0\n",
            "chi squared = 37.6799349501\n"
          ],
          "name": "stdout"
        }
      ]
    },
    {
      "cell_type": "code",
      "metadata": {
        "colab": {
          "base_uri": "https://localhost:8080/"
        },
        "id": "vfDNT1FbXhwo",
        "outputId": "2da903ff-8981-4032-c24b-e0e2f704e1d2"
      },
      "source": [
        "mass = ROOT.RooRealVar(\"M_m0\",\"Mass\",5150,5400,\"MeV/C^{2}\")\r\n",
        "\r\n",
        "gaussMean = ROOT.RooRealVar(\"Mean\",\"Mean\",5000,5150,5400)\r\n",
        "gaussWidth = ROOT.RooRealVar(\"Width\",\"Width\",40,0,7000)\r\n",
        "\r\n",
        "Gauss=ROOT.RooGaussian(\"Gauss\",\"Gaussian Signal\",mass,gaussMean,gaussWidth)\r\n",
        "Gauss_Norm= ROOT.RooRealVar(\"Gauss_Norm\",\"Signal Yield\", tree.GetEntries()/30, 0, tree.GetEntries() * 3)\r\n",
        "\r\n",
        "exponent=ROOT.RooRealVar(\"exponent\", \"C\", -0.02, -2, +2)\r\n",
        "exp_Norm= ROOT.RooRealVar(\"exp_Norm\",\"Background Yield\", tree.GetEntries()/30, 0, tree.GetEntries() * 2)\r\n",
        "\r\n",
        "Bkgnd=ROOT.RooExponential(\"Bkgnd\",\"Exponential Background\",mass,exponent)\r\n",
        "\r\n",
        "model=ROOT.RooAddPdf(\"Full Model\",\"model\",ROOT.RooArgList(Gauss,Bkgnd),ROOT.RooArgList(Gauss_Norm, exp_Norm) )\r\n",
        "\r\n",
        "data_to_fit=ROOT.RooDataSet(\"Data Set\",\"data_to_fit\", bminusTree, ROOT.RooArgSet(mass))\r\n",
        "\r\n",
        "model.fitTo(data_to_fit)"
      ],
      "execution_count": null,
      "outputs": [
        {
          "output_type": "execute_result",
          "data": {
            "text/plain": [
              "<ROOT.RooFitResult object at 0x(nil)>"
            ]
          },
          "metadata": {
            "tags": []
          },
          "execution_count": 34
        },
        {
          "output_type": "stream",
          "text": [
            "[#1] INFO:Eval -- RooAbsReal::attachToTree(M_m0) TTree Float_t branch M_m0 will be converted to double precision\n",
            "[#1] INFO:Eval -- RooTreeDataStore::loadValues(Data Set) Ignored 1650 out of range events\n",
            "[#1] INFO:Minization -- p.d.f. provides expected number of events, including extended term in likelihood.\n",
            "[#1] INFO:Minization -- RooMinimizer::optimizeConst: activating const optimization\n",
            "[#1] INFO:Minization --  The following expressions will be evaluated in cache-and-track mode: (Gauss,Bkgnd)\n",
            " **********\n",
            " **   10 **SET PRINT           1\n",
            " **********\n",
            " **********\n",
            " **   11 **SET NOGRAD\n",
            " **********\n",
            " PARAMETER DEFINITIONS:\n",
            "    NO.   NAME         VALUE      STEP SIZE      LIMITS\n",
            "     1 Gauss_Norm   1.14006e+05  5.70030e+04    0.00000e+00  1.02606e+07\n",
            " MINUIT WARNING IN PARAM DEF\n",
            " ============== LIMITS ON PARAM1 TOO FAR APART.\n",
            " PARAMETER DEFINITIONS:\n",
            "    NO.   NAME         VALUE      STEP SIZE      LIMITS\n",
            "     2 Mean         5.15000e+03  2.50000e+01    5.15000e+03  5.40000e+03\n",
            " MINUIT WARNING IN PARAM DEF\n",
            " ============== STARTING VALUE IS AT LIMIT.\n",
            " MINUIT WARNING IN PARAMETR\n",
            " ============== VARIABLE2 IS AT ITS LOWER ALLOWED LIMIT.\n",
            " MINUIT WARNING IN PARAMETR\n",
            " ============== VARIABLE2 BROUGHT BACK INSIDE LIMITS.\n",
            "     3 Width        4.00000e+01  2.00000e+01    0.00000e+00  7.00000e+03\n",
            "     4 exp_Norm     1.14006e+05  5.70030e+04    0.00000e+00  6.84039e+06\n",
            "     5 exponent    -2.00000e-02  4.00000e-01   -2.00000e+00  2.00000e+00\n",
            " **********\n",
            " **   12 **SET ERR         0.5\n",
            " **********\n",
            " **********\n",
            " **   13 **SET PRINT           1\n",
            " **********\n",
            " **********\n",
            " **   14 **SET STR           1\n",
            " **********\n",
            " NOW USING STRATEGY  1: TRY TO BALANCE SPEED AGAINST RELIABILITY\n",
            " **********\n",
            " **   15 **MIGRAD        2500           1\n",
            " **********\n",
            " FIRST CALL TO USER FUNCTION AT NEW START POINT, WITH IFLAG=4.\n",
            " MINUIT WARNING IN MIGrad    \n",
            " ============== VARIABLE2 IS AT ITS LOWER ALLOWED LIMIT.\n",
            " START MIGRAD MINIMIZATION.  STRATEGY  1.  CONVERGENCE WHEN EDM .LT. 1.00e-03\n",
            "[#0] WARNING:Minization -- RooMinimizerFcn: Minimized function has error status.\n",
            "Returning maximum FCN so far (225933) to force MIGRAD to back out of this region. Error log follows\n",
            "Parameter values: Gauss_Norm=114006, Mean=5150, Width=40, exp_Norm=114006, exponent=-0.146318\n",
            "RooExponential::Bkgnd[ x=M_m0 c=exponent ]\n",
            "     p.d.f normalization integral is zero or negative @ x=M_m0=5277.75, c=exponent=-0.146318\n",
            "     p.d.f normalization integral is zero or negative @ x=M_m0=5248.06, c=exponent=-0.146318\n",
            "     p.d.f normalization integral is zero or negative @ x=M_m0=5217.84, c=exponent=-0.146318\n",
            "     p.d.f normalization integral is zero or negative @ x=M_m0=5282.33, c=exponent=-0.146318\n",
            "     p.d.f normalization integral is zero or negative @ x=M_m0=5274.67, c=exponent=-0.146318\n",
            "     p.d.f normalization integral is zero or negative @ x=M_m0=5296.97, c=exponent=-0.146318\n",
            "     p.d.f normalization integral is zero or negative @ x=M_m0=5287.25, c=exponent=-0.146318\n",
            "     p.d.f normalization integral is zero or negative @ x=M_m0=5165.87, c=exponent=-0.146318\n",
            "     p.d.f normalization integral is zero or negative @ x=M_m0=5327.42, c=exponent=-0.146318\n",
            "     p.d.f normalization integral is zero or negative @ x=M_m0=5299.03, c=exponent=-0.146318\n",
            "     p.d.f normalization integral is zero or negative @ x=M_m0=5283.76, c=exponent=-0.146318\n",
            "     p.d.f normalization integral is zero or negative @ x=M_m0=5284.4, c=exponent=-0.146318\n",
            "    ... (remaining 2038 messages suppressed)\n",
            "\n",
            " FCN=199527 FROM MIGRAD    STATUS=INITIATE       67 CALLS          68 TOTAL\n",
            "                     EDM= unknown      STRATEGY= 1      NO ERROR MATRIX       \n",
            "  EXT PARAMETER               CURRENT GUESS       STEP         FIRST   \n",
            "  NO.   NAME      VALUE            ERROR          SIZE      DERIVATIVE \n",
            "   1  Gauss_Norm   1.14006e+05   5.70030e+04   0.00000e+00   1.05343e+06\n",
            "   2  Mean         5.24904e+03   2.50000e+01   0.00000e+00  -4.73238e+03\n",
            "   3  Width        4.00000e+01   2.00000e+01   0.00000e+00   2.69513e+03\n",
            "   4  exp_Norm     1.14006e+05   5.70030e+04   0.00000e+00   8.62610e+05\n",
            "   5  exponent     2.25905e-03   4.00000e-01   1.11297e-02   4.37983e+03\n",
            "                               ERR DEF= 0.5\n",
            " MIGRAD MINIMIZATION HAS CONVERGED.\n",
            " MIGRAD WILL VERIFY CONVERGENCE AND ERROR MATRIX.\n",
            " COVARIANCE MATRIX CALCULATED SUCCESSFULLY\n",
            " FCN=-10453.9 FROM MIGRAD    STATUS=CONVERGED     222 CALLS         223 TOTAL\n",
            "                     EDM=1.97706e-06    STRATEGY= 1      ERROR MATRIX ACCURATE \n",
            "  EXT PARAMETER                                   STEP         FIRST   \n",
            "  NO.   NAME      VALUE            ERROR          SIZE      DERIVATIVE \n",
            "   1  Gauss_Norm   3.43548e+03   6.33166e+01   2.27952e-05   1.83627e+00\n",
            "   2  Mean         5.28343e+03   3.49561e-01   1.96292e-04   1.70029e-01\n",
            "   3  Width        1.83543e+01   3.08080e-01   5.59432e-05  -5.55678e-01\n",
            "   4  exp_Norm     6.11540e+02   3.44250e+01   3.38556e-05  -1.89947e+00\n",
            "   5  exponent    -2.64581e-03   6.13572e-04   2.10354e-05   2.64854e+00\n",
            "                               ERR DEF= 0.5\n",
            " EXTERNAL ERROR MATRIX.    NDIM=  25    NPAR=  5    ERR DEF=0.5\n",
            "  4.009e+03 -1.557e-01  3.918e+00 -5.734e+02 -3.878e-03 \n",
            " -1.557e-01  1.222e-01 -1.857e-03  1.555e-01 -2.552e-05 \n",
            "  3.918e+00 -1.857e-03  9.491e-02 -3.917e+00 -2.554e-05 \n",
            " -5.734e+02  1.555e-01 -3.917e+00  1.185e+03  3.880e-03 \n",
            " -3.878e-03 -2.552e-05 -2.554e-05  3.880e-03  3.765e-07 \n",
            " PARAMETER  CORRELATION COEFFICIENTS  \n",
            "       NO.  GLOBAL      1      2      3      4      5\n",
            "        1  0.28928   1.000 -0.007  0.201 -0.263 -0.100\n",
            "        2  0.12641  -0.007  1.000 -0.017  0.013 -0.119\n",
            "        3  0.39026   0.201 -0.017  1.000 -0.369 -0.135\n",
            "        4  0.43434  -0.263  0.013 -0.369  1.000  0.184\n",
            "        5  0.23669  -0.100 -0.119 -0.135  0.184  1.000\n",
            " **********\n",
            " **   16 **SET ERR         0.5\n",
            " **********\n",
            " **********\n",
            " **   17 **SET PRINT           1\n",
            " **********\n",
            " **********\n",
            " **   18 **HESSE        2500\n",
            " **********\n",
            " COVARIANCE MATRIX CALCULATED SUCCESSFULLY\n",
            " FCN=-10453.9 FROM HESSE     STATUS=OK             31 CALLS         254 TOTAL\n",
            "                     EDM=1.97509e-06    STRATEGY= 1      ERROR MATRIX ACCURATE \n",
            "  EXT PARAMETER                                INTERNAL      INTERNAL  \n",
            "  NO.   NAME      VALUE            ERROR       STEP SIZE       VALUE   \n",
            "   1  Gauss_Norm   3.43548e+03   6.33260e+01   4.55904e-06  -1.53420e+00\n",
            "   2  Mean         5.28343e+03   3.49565e-01   3.92583e-05   6.74635e-02\n",
            "   3  Width        1.83543e+01   3.08218e-01   2.23773e-06  -1.46834e+00\n",
            "   4  exp_Norm     6.11540e+02   3.44415e+01   6.77111e-06  -1.55189e+00\n",
            "   5  exponent    -2.64581e-03   6.13698e-04   4.20708e-06  -1.32290e-03\n",
            "                               ERR DEF= 0.5\n",
            " EXTERNAL ERROR MATRIX.    NDIM=  25    NPAR=  5    ERR DEF=0.5\n",
            "  4.010e+03 -1.561e-01  3.931e+00 -5.747e+02 -3.901e-03 \n",
            " -1.561e-01  1.222e-01 -1.933e-03  1.560e-01 -2.550e-05 \n",
            "  3.931e+00 -1.933e-03  9.500e-02 -3.930e+00 -2.571e-05 \n",
            " -5.747e+02  1.560e-01 -3.930e+00  1.186e+03  3.901e-03 \n",
            " -3.901e-03 -2.550e-05 -2.571e-05  3.901e-03  3.766e-07 \n",
            " PARAMETER  CORRELATION COEFFICIENTS  \n",
            "       NO.  GLOBAL      1      2      3      4      5\n",
            "        1  0.28975   1.000 -0.007  0.201 -0.263 -0.100\n",
            "        2  0.12649  -0.007  1.000 -0.018  0.013 -0.119\n",
            "        3  0.39123   0.201 -0.018  1.000 -0.370 -0.136\n",
            "        4  0.43524  -0.263  0.013 -0.370  1.000  0.185\n",
            "        5  0.23751  -0.100 -0.119 -0.136  0.185  1.000\n",
            "[#1] INFO:Minization -- RooMinimizer::optimizeConst: deactivating const optimization\n"
          ],
          "name": "stdout"
        }
      ]
    },
    {
      "cell_type": "code",
      "metadata": {
        "colab": {
          "base_uri": "https://localhost:8080/",
          "height": 570
        },
        "id": "UFflHui2d5vr",
        "outputId": "516d16a1-5b6c-47cc-de9a-325980cb42e5"
      },
      "source": [
        "c1=ROOT.TCanvas(\"c1\",\"c1\")\r\n",
        "frame=mass.frame()\r\n",
        "data_to_fit.plotOn(frame)\r\n",
        "model.plotOn(frame)\r\n",
        "model.plotOn(frame, ROOT.RooFit.Components(\"Gauss\"),ROOT.RooFit.LineColor(8),ROOT.RooFit.LineStyle(2))\r\n",
        "model.plotOn(frame, ROOT.RooFit.Components(\"Bkgnd\"),ROOT.RooFit.LineColor(46),ROOT.RooFit.LineStyle(2))\r\n",
        "frame.Draw()\r\n",
        "c1.Draw()"
      ],
      "execution_count": null,
      "outputs": [
        {
          "output_type": "stream",
          "text": [
            "[#1] INFO:Plotting -- RooAbsPdf::plotOn(Full Model) directly selected PDF components: (Gauss)\n",
            "[#1] INFO:Plotting -- RooAbsPdf::plotOn(Full Model) indirectly selected PDF components: ()\n",
            "[#1] INFO:Plotting -- RooAbsPdf::plotOn(Full Model) directly selected PDF components: (Bkgnd)\n",
            "[#1] INFO:Plotting -- RooAbsPdf::plotOn(Full Model) indirectly selected PDF components: ()\n"
          ],
          "name": "stdout"
        },
        {
          "output_type": "stream",
          "text": [
            "Warning in <TCanvas::Constructor>: Deleting canvas with same name: c1\n"
          ],
          "name": "stderr"
        },
        {
          "output_type": "display_data",
          "data": {
            "image/png": "[encoded data removed]",
            "text/plain": [
              "<IPython.core.display.Image object>"
            ]
          },
          "metadata": {
            "tags": []
          }
        }
      ]
    },
    {
      "cell_type": "code",
      "metadata": {
        "colab": {
          "base_uri": "https://localhost:8080/"
        },
        "id": "dS0Zv2JbXqkW",
        "outputId": "93440473-2a21-41c8-f5ac-7f935a45a785"
      },
      "source": [
        "#B Plus Tree\r\n",
        "B_Minus_Signal_Yield = Gauss_Norm.getValV()\r\n",
        "B_Minus_Error = Gauss_Norm.getError()\r\n",
        "B_Minus_Chi2 = frame.chiSquare()\r\n",
        "\r\n",
        "print(\"Signal Yield = \" + str(B_Minus_Signal_Yield))\r\n",
        "print(\"Gaussian Error = \" + str(B_Minus_Error))\r\n",
        "print(\"\")\r\n",
        "\r\n",
        "print(\"Background = \" + str(Bkgnd.getValV()))\r\n",
        "print(\"\")\r\n",
        "\r\n",
        "print(\"chi squared = \" + str(B_Minus_Chi2))"
      ],
      "execution_count": null,
      "outputs": [
        {
          "output_type": "stream",
          "text": [
            "Signal Yield = 3435.47549628\n",
            "Gaussian Error = 63.3260190264\n",
            "\n",
            "Background = 8.68375203851e-07\n",
            "\n",
            "chi squared = 35.0443322913\n"
          ],
          "name": "stdout"
        }
      ]
    },
    {
      "cell_type": "markdown",
      "metadata": {
        "id": "r8VB5uN1obc4"
      },
      "source": [
        "Once we have defined if it's a B<sup>+</sup> or a B <sup>-</sup>, we should go ahead and ensure the pre-selection is applied and then plot our B mass, and fit the model to find the yield.\r\n",
        "\r\n",
        "We can then calculate the assymetry from this equation:\r\n",
        "\r\n",
        "$A=\\frac{(N^{B-}-N^{B+})}{(N^{B-}+N^{B+})}$\r\n",
        "\r\n",
        "Where N<sup>B+/- </sup> is the number of events found from the fitted yield of the signal from each data set.\r\n",
        "\r\n",
        "The uncertainty on this result is given by:\r\n",
        "\r\n",
        "$\\sigma_A=\\sqrt\\frac{1-A^2}{N^{B-}+N^{B+}}$\r\n",
        "\r\n",
        "Calculate these two values for your data and print them below:"
      ]
    },
    {
      "cell_type": "code",
      "metadata": {
        "id": "UiPNe2iuobSK",
        "colab": {
          "base_uri": "https://localhost:8080/"
        },
        "outputId": "27d1305a-a927-4121-95a9-ef2b0ed2948d"
      },
      "source": [
        "#Here do your calculation of the final result\r\n",
        "import math\r\n",
        "\r\n",
        "Assymetry = (B_Minus_Signal_Yield - B_Plus_Signal_Yield) / (B_Minus_Signal_Yield + B_Plus_Signal_Yield)\r\n",
        "\r\n",
        "Assymetry_error = math.sqrt((1-Assymetry**2) / (B_Minus_Signal_Yield + B_Plus_Signal_Yield))\r\n",
        "\r\n",
        "print(\"Assymetry = \" + str(Assymetry) + \" +- \" + str(Assymetry_error))"
      ],
      "execution_count": null,
      "outputs": [
        {
          "output_type": "stream",
          "text": [
            "Assymetry = -0.0408991814717 +- 0.0118048417546\n"
          ],
          "name": "stdout"
        }
      ]
    },
    {
      "cell_type": "markdown",
      "metadata": {
        "id": "r5B--_33okz1"
      },
      "source": [
        "#Congratulations!\r\n",
        "\r\n",
        "You just made your first LHCb physics analysis. Does this seem like a reasonable result? Did we explain why we have an excess of mass in the Universe?"
      ]
    },
    {
      "cell_type": "markdown",
      "metadata": {
        "id": "pglu_vj3gmLO"
      },
      "source": [
        "**Because of the negative assymetry, there is an excess of N<sup>B+</sup> in the universe. This means the amount of normal matter outweighs the amount of anti matter.**"
      ]
    },
    {
      "cell_type": "markdown",
      "metadata": {
        "id": "dzybWZylomGu"
      },
      "source": [
        "## **Bonus content only below here:**"
      ]
    },
    {
      "cell_type": "markdown",
      "metadata": {
        "id": "odpbRqdoou5M"
      },
      "source": [
        "To make a further anaysis, we can look into the intermediate processes.\r\n",
        "\r\n",
        "We have so far considered only that the B meson ultimately decays into three kaons. It may be that on the way, the B meson first decays into a Kaon and another particle, and then from that particle to two Kaons.\r\n",
        "\r\n",
        "We would expect this to be one of three possible modes (for B<sup>+</sup>):\r\n",
        "\r\n",
        "$R^{++} \\rightarrow K_1^+ +K_2^+$\r\n",
        "\r\n",
        "(we don't expect this to happen because of the like charges in the Kaons)\r\n",
        "\r\n",
        "$R^0 \\rightarrow K_1^+ +K_3^-$\r\n",
        "\r\n",
        "$R^0 \\rightarrow K_2^+ +K_3^-$\r\n",
        "\r\n",
        "(Expect symmetric arrangements for B<sup>-</sup>)\r\n",
        "\r\n",
        "To analyse the intermediate states we can measure the invarient masses of the intermediate states and then plot them on what is called a Dalitz plot (this is a 2D plot with two different two body decays (from the three body decay) on each axis)\r\n",
        "\r\n",
        "![Dalitz Plot](https://slideplayer.com/slide/15960097/88/images/15/Dalitz+plot%3A+%CE%9B+c+%2B+%E2%86%92%F0%9D%91%9D+%F0%9D%90%BE+%E2%88%92+%F0%9D%9C%8B+%2B.jpg)\r\n"
      ]
    },
    {
      "cell_type": "code",
      "metadata": {
        "id": "SqJxvZSKo1cW"
      },
      "source": [
        "#Define a function to find the invarient mass of two given Kaons\r\n",
        "\r\n",
        "def invariantMass(p1, p2) :\r\n",
        "  # build invariant mass string\r\n",
        "  m1  = p1+\"_M\" ;  px1 = p1+\"_PX\" ; py1 = p1+\"_PY\" ; pz1 = p1+\"_PZ\"\r\n",
        "  m2  = p2+\"_M\" ;  px2 = p2+\"_PX\" ; py2 = p2+\"_PY\" ; pz2 = p2+\"_PZ\"\r\n",
        "  ptot1 = \"sqrt(\"+px1+\"**2+\"+py1+\"**2+\"+pz1+\"**2)\"\r\n",
        "  ptot2 = \"sqrt(\"+px2+\"**2+\"+py2+\"**2+\"+pz2+\"**2)\"\r\n",
        "  E1 = \"sqrt({0}**2 + {1}**2)\".format(\"5380\",ptot1)\r\n",
        "  E2 = \"sqrt({0}**2 + {1}**2)\".format(\"5380\",ptot2)\r\n",
        "  pvecdot = \"({0}*{1} + {2}*{3} + {4}*{5})\".format(px1,px2, py1,py2, pz1,pz2)\r\n",
        "  M2 = \"({0}**2 + {1}**2 + 2*{2}*{3} - 2*{4})\".format(\"5380\",\"5380\",E1,E2,pvecdot)\r\n",
        "  return M2\r\n",
        "\r\n",
        "m2_H1H2 = invariantMass(\"H1\",\"H2\")\r\n",
        "m2_H2H3 = invariantMass(\"H2\",\"H3\")\r\n",
        "weightvar=\"1\"\r\n",
        "cuts = (\"H1_Charge + H2_Charge == 0\") #(\"1==1\")"
      ],
      "execution_count": null,
      "outputs": []
    },
    {
      "cell_type": "code",
      "metadata": {
        "id": "YPVqECfPo3Wc",
        "colab": {
          "base_uri": "https://localhost:8080/",
          "height": 743
        },
        "outputId": "36ccfe15-6f77-4080-b2fe-0475fb2dce10"
      },
      "source": [
        "#Then, ensuring you're still taking the data after the selection, make a Dalitz plot. This is a 2-D scatter plot (use e.g. TH2F to make the plot where we used TH1F before)\r\n",
        "#Choose an appropriate binning in your scatter \r\n",
        "\r\n",
        "c1 = ROOT.TCanvas(\"Dalitz_Plot\",\"Legend title\",1400, 800)\r\n",
        "\r\n",
        "ROOT.gStyle.SetOptStat(0)\r\n",
        "\r\n",
        "CutTree.Draw(\"{0}:{1}>>dalitzHist(10,1.08e8,2.5e8,8,1.08e8,2e8)\".format(m2_H1H2,m2_H2H3), \"{0}*{1}\".format(cuts,weightvar)) #Binning and range limit for the Dalitz Plots\r\n",
        "dalitzHist = ROOT.gDirectory.Get(\"dalitzHist\")\r\n",
        "\r\n",
        "dalitzHist.SetTitle(\"Dalitz plot of B to KKK\")\r\n",
        "dalitzHist.GetYaxis().SetTitle(\"m^{2}_{K+K-} [MeV^{2}/c^{4}]\")\r\n",
        "dalitzHist.GetXaxis().SetTitle(\"m^{2}_{KK} [MeV^{2}/c^{4}]\") \r\n",
        "  \r\n",
        "dalitzHist.Draw(\"colz\")  \r\n",
        "\r\n",
        "c1.Draw()"
      ],
      "execution_count": null,
      "outputs": [
        {
          "output_type": "stream",
          "text": [
            "Warning in <TCanvas::Constructor>: Deleting canvas with same name: Dalitz_Plot\n"
          ],
          "name": "stderr"
        },
        {
          "output_type": "display_data",
          "data": {
            "image/png": "[encoded data removed]",
            "text/plain": [
              "<IPython.core.display.Image object>"
            ]
          },
          "metadata": {
            "tags": []
          }
        }
      ]
    },
    {
      "cell_type": "markdown",
      "metadata": {
        "id": "qPoPLt4Uo6QB"
      },
      "source": [
        "We can further improve our plot, since two sets of particles on each axis are exactly the same (one positive Kaon, one negative Kaon). So we can plot the maximum of the two values on one axis and the minimum on the other. We can use a quick numpy check and then plot those values."
      ]
    },
    {
      "cell_type": "code",
      "metadata": {
        "id": "KJ_fe2R3o8Aq",
        "colab": {
          "base_uri": "https://localhost:8080/",
          "height": 743
        },
        "outputId": "ebff2e25-b41d-4549-dc2f-3454f2d40020"
      },
      "source": [
        "c1 = ROOT.TCanvas(\"Dalitz_Plot\",\"Legend title\",1400, 800)\r\n",
        "\r\n",
        "ROOT.gStyle.SetOptStat(0)\r\n",
        "\r\n",
        "bplusTree.Draw(\"{0}:{1}>>dalitzHist1(10,1.08e8,2.5e8,8,1.08e8,2e8)\".format(m2_H1H2,m2_H2H3), \"{0}*{1}\".format(cuts,weightvar)) #Binning and range limit for the Dalitz Plots\r\n",
        "dalitzHistplus = ROOT.gDirectory.Get(\"dalitzHist1\")\r\n",
        "\r\n",
        "dalitzHistplus.SetTitle(\"Dalitz plot of B^{+} to KKK\")\r\n",
        "dalitzHistplus.GetYaxis().SetTitle(\"m^{2}_{K+K-} [MeV^{2}/c^{4}]\")\r\n",
        "dalitzHistplus.GetXaxis().SetTitle(\"m^{2}_{KK} [MeV^{2}/c^{4}]\") \r\n",
        "  \r\n",
        "dalitzHistplus.Draw(\"colz\")  \r\n",
        "\r\n",
        "c1.Draw()"
      ],
      "execution_count": null,
      "outputs": [
        {
          "output_type": "stream",
          "text": [
            "Warning in <TCanvas::Constructor>: Deleting canvas with same name: Dalitz_Plot\n"
          ],
          "name": "stderr"
        },
        {
          "output_type": "display_data",
          "data": {
            "image/png": "[encoded data removed]",
            "text/plain": [
              "<IPython.core.display.Image object>"
            ]
          },
          "metadata": {
            "tags": []
          }
        }
      ]
    },
    {
      "cell_type": "code",
      "metadata": {
        "id": "t46slV8Yo-Ed",
        "colab": {
          "base_uri": "https://localhost:8080/",
          "height": 743
        },
        "outputId": "15739521-a8bc-4fb0-f0eb-79137c277a76"
      },
      "source": [
        "c1 = ROOT.TCanvas(\"Dalitz_Plot\",\"Legend title\",1400, 800)\r\n",
        "\r\n",
        "ROOT.gStyle.SetOptStat(0)\r\n",
        "\r\n",
        "bminusTree.Draw(\"{0}:{1}>>dalitzHist-1(10,1.08e8,2.5e8,8,1.08e8,2e8)\".format(m2_H1H2,m2_H2H3), \"{0}*{1}\".format(cuts,weightvar)) #Binning and range limit for the Dalitz Plots\r\n",
        "dalitzHistminus = ROOT.gDirectory.Get(\"dalitzHist-1\")\r\n",
        "\r\n",
        "dalitzHistminus.SetTitle(\"Dalitz plot of B^{-} to KKK\")\r\n",
        "dalitzHistminus.GetYaxis().SetTitle(\"m^{2}_{K+K-} [MeV^{2}/c^{4}]\")\r\n",
        "dalitzHistminus.GetXaxis().SetTitle(\"m^{2}_{KK} [MeV^{2}/c^{4}]\") \r\n",
        "  \r\n",
        "dalitzHistminus.Draw(\"colz\")  \r\n",
        "\r\n",
        "c1.Draw()"
      ],
      "execution_count": null,
      "outputs": [
        {
          "output_type": "stream",
          "text": [
            "Warning in <TCanvas::Constructor>: Deleting canvas with same name: Dalitz_Plot\n"
          ],
          "name": "stderr"
        },
        {
          "output_type": "display_data",
          "data": {
            "image/png": "[encoded data removed]",
            "text/plain": [
              "<IPython.core.display.Image object>"
            ]
          },
          "metadata": {
            "tags": []
          }
        }
      ]
    },
    {
      "cell_type": "code",
      "metadata": {
        "id": "RfTDh69qo9_q",
        "colab": {
          "base_uri": "https://localhost:8080/",
          "height": 825
        },
        "outputId": "0a19b260-d899-439d-8df9-ed1e3026e7a0"
      },
      "source": [
        "#Where we have a higher density of points (or a bigger value in the bin) this is indication of an intermediate resonance\r\n",
        "#Check out the possible resonances you have found in the PDG (http://pdg.lbl.gov/2020/tables/contents_tables.html)\r\n",
        "\r\n",
        "cnew = ROOT.TCanvas(\"Dalitz_Plot\",\"Legend title\",1400, 800)\r\n",
        "\r\n",
        "dalitzHistsubtracted = dalitzHistplus.Clone(\"Subtracted Histograms\")\r\n",
        "\r\n",
        "dalitzHistsubtracted.Add(dalitzHistminus,-1.0)\r\n",
        "\r\n",
        "\r\n",
        "dalitzHistsubtracted.Print()\r\n",
        "ROOT.gStyle.SetOptStat(0)\r\n",
        "\r\n",
        "dalitzHistsubtracted.SetTitle(\"Dalitz plot of B^{+} - B^{+} to KKK\")\r\n",
        "dalitzHistsubtracted.GetYaxis().SetTitle(\"m^{2}_{K+K-} [MeV^{2}/c^{4}]\")\r\n",
        "dalitzHistsubtracted.GetXaxis().SetTitle(\"m^{2}_{KK} [MeV^{2}/c^{4}]\") \r\n",
        "  \r\n",
        "dalitzHistsubtracted.Draw(\"colz\")  \r\n",
        "#sqroot = new TF1(\"sqroot\",\"gaus\",0,10); sqroot->SetParameters(10,4,1); c1.Divide(2,2); c1.cd(1); sqroot->Draw(); c1.cd(2); sqroot->Draw(); c1.cd(3); sqroot->Draw(); c1.cd(4); sqroot->Draw(); c1.cd(); TPad *newpad=new TPad(\"newpad\",\"transparent layer\",0,0,1,1); newpad.SetFillStyle(4000); newpad.Draw(); newpad.cd(); TPaveLabel *title = new TPaveLabel(0.1,0.94,0.9,0.98,\"Dalitz Plot Title Please?\"); title->SetFillColor(16); title->SetTextFont(52); title->Draw();\r\n",
        "  \r\n",
        "cnew.Draw()"
      ],
      "execution_count": null,
      "outputs": [
        {
          "output_type": "stream",
          "text": [
            "TH1.Print Name  = Subtracted Histograms, Entries= 284, Total sum= 284\n"
          ],
          "name": "stdout"
        },
        {
          "output_type": "display_data",
          "data": {
            "image/png": "[encoded data removed]",
            "text/plain": [
              "<IPython.core.display.Image object>"
            ]
          },
          "metadata": {
            "tags": []
          }
        }
      ]
    },
    {
      "cell_type": "markdown",
      "metadata": {
        "id": "N1OJzykFsrxs"
      },
      "source": [
        ":)"
      ]
    }
  ]
}